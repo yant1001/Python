{
 "cells": [
  {
   "cell_type": "code",
   "execution_count": 2,
   "id": "a8c099e2-7f8f-4388-a5a5-81a2dad74d85",
   "metadata": {},
   "outputs": [
    {
     "name": "stdout",
     "output_type": "stream",
     "text": [
      "Hello World\n"
     ]
    }
   ],
   "source": [
    "# 001\n",
    "\n",
    "print('Hello World')"
   ]
  },
  {
   "cell_type": "code",
   "execution_count": 6,
   "id": "35e38552-ef42-4dbc-a841-a68592119f06",
   "metadata": {},
   "outputs": [
    {
     "name": "stdout",
     "output_type": "stream",
     "text": [
      "Mary's cosmetics\n"
     ]
    }
   ],
   "source": [
    "# 002\n",
    "\n",
    "print('Mary\\'s cosmetics')"
   ]
  },
  {
   "cell_type": "code",
   "execution_count": 10,
   "id": "45b1f70f-1a6d-4169-b76b-826f0f941807",
   "metadata": {},
   "outputs": [
    {
     "name": "stdout",
     "output_type": "stream",
     "text": [
      "신씨가 소리질렀다. \"도둑이야\".\n"
     ]
    }
   ],
   "source": [
    "# 003\n",
    "\n",
    "print('신씨가 소리질렀다. \"도둑이야\".')"
   ]
  },
  {
   "cell_type": "code",
   "execution_count": 11,
   "id": "cc4956b1-8fce-44f4-aa3c-3487127798e8",
   "metadata": {},
   "outputs": [
    {
     "name": "stdout",
     "output_type": "stream",
     "text": [
      "C:\\Windows\n"
     ]
    }
   ],
   "source": [
    "# 004\n",
    "\n",
    "print('C:\\Windows')"
   ]
  },
  {
   "cell_type": "code",
   "execution_count": 12,
   "id": "f45a5044-1487-40f4-914a-84bea39f27c6",
   "metadata": {},
   "outputs": [
    {
     "name": "stdout",
     "output_type": "stream",
     "text": [
      "안녕하세요. \n",
      "만나서\t\t반갑습니다.\n"
     ]
    }
   ],
   "source": [
    "# 005\n",
    "\n",
    "print(\"안녕하세요. \\n만나서\\t\\t반갑습니다.\")\n",
    "\n",
    "# \\n는 줄바꿈, \\t 탭 삽입"
   ]
  },
  {
   "cell_type": "code",
   "execution_count": 16,
   "id": "0e1523fc-0726-4b6e-906f-17315d4c0f44",
   "metadata": {},
   "outputs": [
    {
     "name": "stdout",
     "output_type": "stream",
     "text": [
      "오늘은 일요일\n"
     ]
    }
   ],
   "source": [
    "# 006\n",
    "\n",
    "print(\"오늘은\", \"일요일\")\n",
    "\n",
    "# 여러 값을 출력 시 쉼표로 구분하면 공백으로 값을 구분하여 출력한다."
   ]
  },
  {
   "cell_type": "markdown",
   "id": "448747d9-55bf-46ad-a6eb-f51eeafc76c8",
   "metadata": {},
   "source": [
    "**sep인자**\n",
    "\n",
    "sep 인자를 활용하여 출력되는 값들 사이에 동일한 값을 삽입할 수 있다."
   ]
  },
  {
   "cell_type": "code",
   "execution_count": 17,
   "id": "934f52c3-b0c2-40a9-8da3-e090b07b8de3",
   "metadata": {},
   "outputs": [
    {
     "name": "stdout",
     "output_type": "stream",
     "text": [
      "naver;kakao;sk;samsung\n"
     ]
    }
   ],
   "source": [
    "# 007\n",
    "\n",
    "print('naver', 'kakao', 'sk', 'samsung', sep=';')"
   ]
  },
  {
   "cell_type": "code",
   "execution_count": 18,
   "id": "558c5021-ed19-47b8-a7aa-25ea18f807d2",
   "metadata": {},
   "outputs": [
    {
     "name": "stdout",
     "output_type": "stream",
     "text": [
      "naver/kakao/sk/samsung\n"
     ]
    }
   ],
   "source": [
    "# 008\n",
    "\n",
    "print('naver', 'kakao', 'sk', 'samsung', sep='/')"
   ]
  },
  {
   "cell_type": "code",
   "execution_count": 20,
   "id": "0b132ed3-0da7-42b9-ab5a-42bab2e7022e",
   "metadata": {},
   "outputs": [
    {
     "name": "stdout",
     "output_type": "stream",
     "text": [
      "firstsecond\n"
     ]
    }
   ],
   "source": [
    "# 009\n",
    "\n",
    "print(\"first\", end='');print(\"second\")"
   ]
  },
  {
   "cell_type": "code",
   "execution_count": 23,
   "id": "becbf3cd-66d1-4687-9037-6dc51ce987a3",
   "metadata": {},
   "outputs": [
    {
     "name": "stdout",
     "output_type": "stream",
     "text": [
      "1.6666666666666667\n"
     ]
    }
   ],
   "source": [
    "# 010\n",
    "\n",
    "print(5/3)"
   ]
  },
  {
   "cell_type": "code",
   "execution_count": 25,
   "id": "69d489d6-3a94-49f2-addf-ee04da317796",
   "metadata": {},
   "outputs": [
    {
     "name": "stdout",
     "output_type": "stream",
     "text": [
      "500000\n"
     ]
    }
   ],
   "source": [
    "# 011\n",
    "\n",
    "samsung = 50000\n",
    "total_eval = samsung * 10\n",
    "print(total_eval)"
   ]
  },
  {
   "cell_type": "code",
   "execution_count": 26,
   "id": "12ad8a52-9af1-41a0-b607-fce3a04bc3b6",
   "metadata": {},
   "outputs": [
    {
     "name": "stdout",
     "output_type": "stream",
     "text": [
      "298000000000000\n",
      "50000\n",
      "15.79\n"
     ]
    }
   ],
   "source": [
    "# 012\n",
    "\n",
    "market_capital = 298000000000000\n",
    "current_price = 50000\n",
    "PER = 15.79\n",
    "print(market_capital)\n",
    "print(current_price)\n",
    "print(PER)"
   ]
  },
  {
   "cell_type": "code",
   "execution_count": 28,
   "id": "efbb1396-c3a4-4b9f-bd65-796a12c40669",
   "metadata": {},
   "outputs": [
    {
     "name": "stdout",
     "output_type": "stream",
     "text": [
      "hello! python\n",
      "hello! python\n"
     ]
    }
   ],
   "source": [
    "# 013\n",
    "\n",
    "s = \"hello\"\n",
    "t = \"python\"\n",
    "\n",
    "print(s, t, sep='! ')\n",
    "print(s+'!', t)"
   ]
  },
  {
   "cell_type": "code",
   "execution_count": 29,
   "id": "f92cfe59-d39b-4597-b9c3-21e3fcaeb5ff",
   "metadata": {},
   "outputs": [
    {
     "name": "stdout",
     "output_type": "stream",
     "text": [
      "<class 'int'>\n",
      "<class 'str'>\n"
     ]
    }
   ],
   "source": [
    "# 014\n",
    "\n",
    "a = 128\n",
    "print(type(a))\n",
    "\n",
    "b = \"132\"\n",
    "print(type(b))"
   ]
  },
  {
   "cell_type": "code",
   "execution_count": 32,
   "id": "2bf891f2-2c0d-4fdc-bb15-9402dfbd4ed2",
   "metadata": {},
   "outputs": [
    {
     "name": "stdout",
     "output_type": "stream",
     "text": [
      "720 <class 'int'>\n"
     ]
    }
   ],
   "source": [
    "# 016\n",
    "\n",
    "num_str = \"720\"\n",
    "num_int = int(num_str)\n",
    "\n",
    "print(num_int, type(num_int))"
   ]
  },
  {
   "cell_type": "code",
   "execution_count": 33,
   "id": "2c1d721e-b259-42a1-b41b-0b29cb83e441",
   "metadata": {},
   "outputs": [
    {
     "name": "stdout",
     "output_type": "stream",
     "text": [
      "100 <class 'str'>\n"
     ]
    }
   ],
   "source": [
    "# 017\n",
    "\n",
    "num = 100\n",
    "num_str = str(num)\n",
    "print(num_str, type(num_str))"
   ]
  },
  {
   "cell_type": "code",
   "execution_count": 53,
   "id": "eef67ee7-d30a-43d4-bada-8391720a03ba",
   "metadata": {},
   "outputs": [
    {
     "name": "stdout",
     "output_type": "stream",
     "text": [
      "15.79 <class 'float'>\n"
     ]
    }
   ],
   "source": [
    "# 018\n",
    "\n",
    "result = float('15.79')\n",
    "print(result, type(result))"
   ]
  },
  {
   "cell_type": "code",
   "execution_count": 57,
   "id": "4e1235cb-aca9-4192-8296-8c2164160046",
   "metadata": {},
   "outputs": [
    {
     "name": "stdout",
     "output_type": "stream",
     "text": [
      "2017 2018 2019\n"
     ]
    }
   ],
   "source": [
    "# 019\n",
    "\n",
    "year = '2020'\n",
    "result = int(year)\n",
    "print(result - 3, result - 2, result - 1)"
   ]
  },
  {
   "cell_type": "code",
   "execution_count": 58,
   "id": "0242f30d-dd00-432e-8c05-6e732bfd2bbe",
   "metadata": {},
   "outputs": [
    {
     "name": "stdout",
     "output_type": "stream",
     "text": [
      "1749024\n"
     ]
    }
   ],
   "source": [
    "# 020\n",
    "\n",
    "ac_month = 48584\n",
    "total = ac_month * 36\n",
    "print(total)"
   ]
  },
  {
   "cell_type": "code",
   "execution_count": 60,
   "id": "960c5822-63b9-4ea6-8f4b-dde228488b68",
   "metadata": {},
   "outputs": [
    {
     "name": "stdout",
     "output_type": "stream",
     "text": [
      "p t\n"
     ]
    }
   ],
   "source": [
    "# 021\n",
    "\n",
    "letters = 'python'\n",
    "print(letters[0], letters[2])"
   ]
  },
  {
   "cell_type": "markdown",
   "id": "7b1d9d92-fbe8-40f1-8162-2674452ea6f9",
   "metadata": {},
   "source": [
    "### 문자열 슬라이싱\n",
    "\n",
    "파이썬의 인덱스는 앞에서부터 0, 뒤에서부터 -1의 값을 갖는다.\n",
    "시작 인덱스를 생략하면 0으로 간주하고, 마지막 인덱스를 생략하면 문자열의 끝을 의미한다."
   ]
  },
  {
   "cell_type": "code",
   "execution_count": 65,
   "id": "8a10bba3-7aed-49c1-83d3-69fb57387b39",
   "metadata": {},
   "outputs": [
    {
     "name": "stdout",
     "output_type": "stream",
     "text": [
      "2210\n"
     ]
    }
   ],
   "source": [
    "# 022\n",
    "\n",
    "license_plate = '24가 2210'\n",
    "print(license_plate[-4:])"
   ]
  },
  {
   "cell_type": "code",
   "execution_count": 71,
   "id": "0903e852-dacf-4e7a-9011-4665fbb9827b",
   "metadata": {},
   "outputs": [
    {
     "name": "stdout",
     "output_type": "stream",
     "text": [
      "홀홀홀\n"
     ]
    }
   ],
   "source": [
    "# 023\n",
    "\n",
    "string = '홀짝홀짝홀짝'\n",
    "print(string[::2])"
   ]
  },
  {
   "cell_type": "code",
   "execution_count": 72,
   "id": "5aafd7fc-bf3b-4820-854b-378dfbac0874",
   "metadata": {},
   "outputs": [
    {
     "name": "stdout",
     "output_type": "stream",
     "text": [
      "NOHTYP\n"
     ]
    }
   ],
   "source": [
    "# 024\n",
    "\n",
    "string = 'PYTHON'\n",
    "print(string[::-1])"
   ]
  },
  {
   "cell_type": "code",
   "execution_count": 74,
   "id": "3749f43d-1b12-452a-b422-b01c576ea39d",
   "metadata": {},
   "outputs": [
    {
     "name": "stdout",
     "output_type": "stream",
     "text": [
      "010 1111 2222\n"
     ]
    }
   ],
   "source": [
    "# 025\n",
    "\n",
    "phone_number = '010-1111-2222'\n",
    "print(phone_number.replace('-', ' '))\n",
    "\n",
    "# string은 immutable 자료형이므로 기존 문자열은 그대로 두고 새로운 문자열이 리턴된다."
   ]
  },
  {
   "cell_type": "code",
   "execution_count": 75,
   "id": "deb54d71-d6d8-4b0a-986c-16d18084677e",
   "metadata": {},
   "outputs": [
    {
     "name": "stdout",
     "output_type": "stream",
     "text": [
      "01011112222\n"
     ]
    }
   ],
   "source": [
    "# 026\n",
    "\n",
    "print(phone_number.replace('-', ''))"
   ]
  },
  {
   "cell_type": "code",
   "execution_count": 80,
   "id": "afbccc2f-220c-49cf-b475-32b0c91c8e6c",
   "metadata": {},
   "outputs": [
    {
     "name": "stdout",
     "output_type": "stream",
     "text": [
      "kr\n",
      "kr\n"
     ]
    }
   ],
   "source": [
    "# 027\n",
    "\n",
    "url = 'http://sharebook.kr'\n",
    "print(url[-2:])\n",
    "\n",
    "# 풀이 오답\n",
    "# 주어진 문자열에서 '.'을 기준으로 분리하면 어떤 url을 넣더라도 도메인만 출력할 수 있다.\n",
    "print(url.split('.')[-1])"
   ]
  },
  {
   "cell_type": "markdown",
   "id": "d6fc0cbb-7097-4288-8394-a57ff47aaa38",
   "metadata": {},
   "source": [
    "## 데이터의 분류\n",
    "> cf. 01_data_container\n",
    "\r\n",
    "1. 변경 불가능한(`immutable`) 데이터\r\n",
    "    - Reference(참조) 할 뿐, 값이 복사되지고 메모리 주소만 복사 전달된다.다.\r\n",
    "    - 원본 값하지 않고 새로운 객체를 생성한다변한다.\r\n",
    "    - 종류\r\n",
    "      - literal\r\n",
    "        - 숫자 (integer/float)\r\n",
    "        - 글자 (string)\r\n",
    "        - 참/거짓 (bool)\r\n",
    "      - range()\r\n",
    "      - tuple()\r\n",
    "      - frozenset()\r\n",
    "2. 변경 가능한(`mutable`) 데이터\r\n",
    "    - Value 타입으로, 값이 실제로 넘어가기 때문에 형태로  - 데??**\r\n",
    "    -  원본 이 변한다.\r\n",
    "       종류\n",
    "        -  lis\n",
    "        -   dict\r\n",
    "       -  set  -  d     -  set\r\n",
    "\r\n",
    "---\r\n",
    "\r\n"
   ]
  },
  {
   "cell_type": "code",
   "execution_count": 81,
   "id": "63275a53-1b5d-49e8-be50-7c0645b375f9",
   "metadata": {},
   "outputs": [
    {
     "ename": "TypeError",
     "evalue": "'str' object does not support item assignment",
     "output_type": "error",
     "traceback": [
      "\u001b[1;31m---------------------------------------------------------------------------\u001b[0m",
      "\u001b[1;31mTypeError\u001b[0m                                 Traceback (most recent call last)",
      "Cell \u001b[1;32mIn[81], line 4\u001b[0m\n\u001b[0;32m      1\u001b[0m \u001b[38;5;66;03m# 028\u001b[39;00m\n\u001b[0;32m      3\u001b[0m lang \u001b[38;5;241m=\u001b[39m \u001b[38;5;124m'\u001b[39m\u001b[38;5;124mpython\u001b[39m\u001b[38;5;124m'\u001b[39m\n\u001b[1;32m----> 4\u001b[0m \u001b[43mlang\u001b[49m\u001b[43m[\u001b[49m\u001b[38;5;241;43m0\u001b[39;49m\u001b[43m]\u001b[49m \u001b[38;5;241m=\u001b[39m \u001b[38;5;124m'\u001b[39m\u001b[38;5;124mP\u001b[39m\u001b[38;5;124m'\u001b[39m\n\u001b[0;32m      5\u001b[0m \u001b[38;5;28mprint\u001b[39m(lang)\n",
      "\u001b[1;31mTypeError\u001b[0m: 'str' object does not support item assignment"
     ]
    }
   ],
   "source": [
    "# 028\n",
    "\n",
    "lang = 'python'\n",
    "lang[0] = 'P'\n",
    "print(lang)\n",
    "\n",
    "# 문자열은 수정할 수 없는 immutable 변수이다."
   ]
  },
  {
   "cell_type": "code",
   "execution_count": 85,
   "id": "1e705524-2cdc-4a03-b350-04a8c6bb373b",
   "metadata": {},
   "outputs": [
    {
     "name": "stdout",
     "output_type": "stream",
     "text": [
      "Abcdfe2A354A32A\n"
     ]
    }
   ],
   "source": [
    "# 029\n",
    "\n",
    "string = 'abcdfe2a354a32a'\n",
    "print(string.replace('a', 'A'))"
   ]
  },
  {
   "cell_type": "code",
   "execution_count": 87,
   "id": "bd1493e1-a98f-4092-a0da-0e33e38eeaec",
   "metadata": {},
   "outputs": [
    {
     "name": "stdout",
     "output_type": "stream",
     "text": [
      "abcd\n"
     ]
    }
   ],
   "source": [
    "# 030\n",
    "\n",
    "string = 'abcd'\n",
    "string.replace('b', 'B')\n",
    "print(string)"
   ]
  },
  {
   "cell_type": "code",
   "execution_count": 88,
   "id": "5258bb9f-da7e-4700-a110-770bb8dbd482",
   "metadata": {},
   "outputs": [
    {
     "name": "stdout",
     "output_type": "stream",
     "text": [
      "34\n"
     ]
    }
   ],
   "source": [
    "# 031\n",
    "\n",
    "a = '3'\n",
    "b = '4'\n",
    "print(a + b)"
   ]
  },
  {
   "cell_type": "code",
   "execution_count": 89,
   "id": "c2387faa-2028-4411-b000-f73c8f22c866",
   "metadata": {},
   "outputs": [
    {
     "name": "stdout",
     "output_type": "stream",
     "text": [
      "HiHiHi\n"
     ]
    }
   ],
   "source": [
    "# 032\n",
    "\n",
    "print('Hi' * 3)"
   ]
  },
  {
   "cell_type": "code",
   "execution_count": 90,
   "id": "cfe0cf15-8cee-46da-a895-1353f29f231d",
   "metadata": {},
   "outputs": [
    {
     "name": "stdout",
     "output_type": "stream",
     "text": [
      "--------------------------------------------------------------------------------\n"
     ]
    }
   ],
   "source": [
    "# 033\n",
    "\n",
    "print('-' * 80)"
   ]
  },
  {
   "cell_type": "code",
   "execution_count": 96,
   "id": "aca61f36-5835-4cf2-adba-426d7a1f51be",
   "metadata": {},
   "outputs": [
    {
     "name": "stdout",
     "output_type": "stream",
     "text": [
      "python java python java python java python java \n"
     ]
    }
   ],
   "source": [
    "# 034\n",
    "\n",
    "t1 = 'python'\n",
    "t2 = 'java'\n",
    "\n",
    "print((t1 + ' ' + t2 + ' ') * 4)"
   ]
  },
  {
   "cell_type": "code",
   "execution_count": 103,
   "id": "86ecac9a-123e-4796-a91b-49e90c3b86f0",
   "metadata": {},
   "outputs": [
    {
     "name": "stdout",
     "output_type": "stream",
     "text": [
      "이름: 김민수 나이: 10\n",
      "이름: 이철희 나이: 13\n",
      "이름: 김민수 나이: 10\n",
      "이름: 이철희 나이: 13\n"
     ]
    }
   ],
   "source": [
    "# 035\n",
    "\n",
    "name1 = \"김민수\" \n",
    "age1 = 10\n",
    "name2 = \"이철희\"\n",
    "age2 = 13\n",
    "\n",
    "print(f'이름: {name1} 나이: {age1}')\n",
    "print(f'이름: {name2} 나이: {age2}')\n",
    "\n",
    "# 풀이 답안: % formatting\n",
    "# '%s': 문자열 데이터 타입의 값의 출력\n",
    "# '%d': 정수형 데이터 타입 값의 출력\n",
    "print(\"이름: %s 나이: %d\" % (name1, age1))\n",
    "print(\"이름: %s 나이: %d\" % (name2, age2))"
   ]
  },
  {
   "cell_type": "code",
   "execution_count": 104,
   "id": "c0d54c7d-bc36-4d4b-975c-827f8d566c00",
   "metadata": {},
   "outputs": [
    {
     "name": "stdout",
     "output_type": "stream",
     "text": [
      "이름: 김민수 나이: 10\n",
      "이름: 이철희 나이: 13\n"
     ]
    }
   ],
   "source": [
    "# 036\n",
    "\n",
    "name1 = \"김민수\" \n",
    "age1 = 10\n",
    "name2 = \"이철희\"\n",
    "age2 = 13\n",
    "\n",
    "# format() 메서드\n",
    "print('이름: {} 나이: {}'.format(name1, age1))\n",
    "print('이름: {} 나이: {}'.format(name2, age2))"
   ]
  },
  {
   "cell_type": "code",
   "execution_count": 105,
   "id": "b77217fb-6079-40e4-a0ae-2b7d109ef4ca",
   "metadata": {},
   "outputs": [
    {
     "name": "stdout",
     "output_type": "stream",
     "text": [
      "이름: 김민수 나이: 10\n",
      "이름: 이철희 나이: 13\n"
     ]
    }
   ],
   "source": [
    "# 037\n",
    "\n",
    "# f-string => python 3.6ver 부터 지원\n",
    "name1 = \"김민수\" \n",
    "age1 = 10\n",
    "name2 = \"이철희\"\n",
    "age2 = 13\n",
    "\n",
    "print(f'이름: {name1} 나이: {age1}')\n",
    "print(f'이름: {name2} 나이: {age2}')"
   ]
  },
  {
   "cell_type": "code",
   "execution_count": 107,
   "id": "f6df3290-269e-49e6-9246-219158583243",
   "metadata": {},
   "outputs": [
    {
     "name": "stdout",
     "output_type": "stream",
     "text": [
      "5969782550 <class 'int'>\n"
     ]
    }
   ],
   "source": [
    "# 038\n",
    "\n",
    "stock_num = '5,969,782,550'\n",
    "result = int(stock_num.replace(',', ''))\n",
    "print(result, type(result))"
   ]
  },
  {
   "cell_type": "code",
   "execution_count": 108,
   "id": "c4e8928f-cd4e-427d-b590-9595b1808a63",
   "metadata": {},
   "outputs": [
    {
     "name": "stdout",
     "output_type": "stream",
     "text": [
      "2020/03\n"
     ]
    }
   ],
   "source": [
    "# 039\n",
    "\n",
    "q = '2020/03(E) (IFRS연결)'\n",
    "print(q[:7])"
   ]
  },
  {
   "cell_type": "code",
   "execution_count": 109,
   "id": "c3e16a61-a8a3-464e-886c-638dee3108aa",
   "metadata": {},
   "outputs": [
    {
     "name": "stdout",
     "output_type": "stream",
     "text": [
      "삼성전자\n"
     ]
    }
   ],
   "source": [
    "# 040\n",
    "\n",
    "data = \"   삼성전자    \"\n",
    "\n",
    "print(data.rstrip().lstrip())"
   ]
  },
  {
   "cell_type": "code",
   "execution_count": 110,
   "id": "61b52691-5e7a-4b07-b160-bb777f740fb1",
   "metadata": {},
   "outputs": [
    {
     "name": "stdout",
     "output_type": "stream",
     "text": [
      "BTC_KRW\n"
     ]
    }
   ],
   "source": [
    "# 041\n",
    "\n",
    "ticker = 'btc_krw'\n",
    "print(ticker.upper())"
   ]
  },
  {
   "cell_type": "code",
   "execution_count": 111,
   "id": "c40aef3d-e4b7-4eb6-a58b-e472299a4ba4",
   "metadata": {},
   "outputs": [
    {
     "name": "stdout",
     "output_type": "stream",
     "text": [
      "btc_krw\n"
     ]
    }
   ],
   "source": [
    "# 042\n",
    "\n",
    "ticker = 'BTC_KRW'\n",
    "print(ticker.lower())"
   ]
  },
  {
   "cell_type": "markdown",
   "id": "e7660384-a16f-4b7d-a6b4-5f0ee00fd0fe",
   "metadata": {},
   "source": [
    "### 대소문자 변환\n",
    "\n",
    "`.capitalize()`: 앞 글자를 대문자로 만들어 반환한다. \\\n",
    "`.tile()`: 어퍼스트로피(')나 공백 이후를 대문자로 만들어 반환한다. \\\n",
    "`.upper()`: 모두 대문자로 만들어 반환 \\\n",
    "`.lower()`: 모두 소문자로 만들어 반환 \\\n",
    "`.swapcase()`: 대소문자를 변경하여 반환"
   ]
  },
  {
   "cell_type": "code",
   "execution_count": 114,
   "id": "5b7387ca-4e11-4e46-9a6f-fa5898470aea",
   "metadata": {},
   "outputs": [
    {
     "name": "stdout",
     "output_type": "stream",
     "text": [
      "Hello\n"
     ]
    }
   ],
   "source": [
    "# 043\n",
    "\n",
    "result = 'hello'\n",
    "print(result.capitalize())"
   ]
  },
  {
   "cell_type": "markdown",
   "id": "8a49f691-7d69-47b7-93a9-584f67b47516",
   "metadata": {},
   "source": [
    "### startswith 메서드\n",
    "\n",
    "startswith 메서드를 활용하여 파일 이름이 특정 문자열로 시작하는지 확인할 수 있다.\n",
    "\n",
    "### endswith 메서드\n",
    "\n",
    "endswith 메서드를 활용하여 파일 이름이 특정 문자열로 끝나는게 맞는지 확인할 수 있다. \\\n",
    "여러 개의 특정 문자열 중 하나인지 확인할 경우에는 tuple을 사용한다."
   ]
  },
  {
   "cell_type": "code",
   "execution_count": 115,
   "id": "bb4d550a-74f4-4c4c-8a22-3748897a8a7c",
   "metadata": {},
   "outputs": [
    {
     "name": "stdout",
     "output_type": "stream",
     "text": [
      "True\n"
     ]
    }
   ],
   "source": [
    "# 044\n",
    "\n",
    "file_name = '보고서.xlsx'\n",
    "print(file_name.endswith('xlsx'))"
   ]
  },
  {
   "cell_type": "code",
   "execution_count": 124,
   "id": "1749eeb1-8ca9-4de7-980b-22d4000ca1b8",
   "metadata": {},
   "outputs": [
    {
     "name": "stdout",
     "output_type": "stream",
     "text": [
      "True\n",
      "True\n"
     ]
    }
   ],
   "source": [
    "# 045\n",
    "\n",
    "file_name = '보고서.xlsx'\n",
    "print(file_name.endswith('xlsx' or 'xls'))\n",
    "print(file_name.endswith(('xlsx', 'xls')))"
   ]
  },
  {
   "cell_type": "code",
   "execution_count": 126,
   "id": "75f955f8-c0d4-4f50-9761-1ed44f8dd63e",
   "metadata": {},
   "outputs": [
    {
     "name": "stdout",
     "output_type": "stream",
     "text": [
      "True\n"
     ]
    }
   ],
   "source": [
    "# 046\n",
    "\n",
    "file_name = '2020_보고서.xlsx'\n",
    "print(file_name.startswith('2020'))\n"
   ]
  },
  {
   "cell_type": "code",
   "execution_count": 132,
   "id": "6bd0537a-37d7-49f7-a352-004f41ee071e",
   "metadata": {},
   "outputs": [
    {
     "name": "stdout",
     "output_type": "stream",
     "text": [
      "['hello', 'world']\n"
     ]
    }
   ],
   "source": [
    "# 047\n",
    "\n",
    "a = 'hello world'\n",
    "print(a.split())"
   ]
  },
  {
   "cell_type": "code",
   "execution_count": 133,
   "id": "bb88b7cd-1bfb-4644-bfd5-655ce69f7876",
   "metadata": {},
   "outputs": [
    {
     "name": "stdout",
     "output_type": "stream",
     "text": [
      "['btc', 'krw']\n"
     ]
    }
   ],
   "source": [
    "# 048\n",
    "\n",
    "ticker = 'btc_krw'\n",
    "print(ticker.split('_'))"
   ]
  },
  {
   "cell_type": "code",
   "execution_count": 134,
   "id": "2517e1d8-14a2-4457-a4d0-193524a79f9d",
   "metadata": {},
   "outputs": [
    {
     "name": "stdout",
     "output_type": "stream",
     "text": [
      "['2020', '05', '01']\n"
     ]
    }
   ],
   "source": [
    "# 049\n",
    "\n",
    "date = \"2020-05-01\"\n",
    "print(date.split('-'))"
   ]
  },
  {
   "cell_type": "code",
   "execution_count": 137,
   "id": "48f66900-746e-4b27-be2e-d7dd115ccac1",
   "metadata": {},
   "outputs": [
    {
     "name": "stdout",
     "output_type": "stream",
     "text": [
      "039490\n"
     ]
    }
   ],
   "source": [
    "# 050\n",
    "\n",
    "data = \"039490     \"\n",
    "print(data.rstrip())"
   ]
  },
  {
   "cell_type": "code",
   "execution_count": 139,
   "id": "7c2415f7-1da9-4e13-9349-60252fe151c2",
   "metadata": {},
   "outputs": [
    {
     "name": "stdout",
     "output_type": "stream",
     "text": [
      "['doctor strange', 'split', 'lucky']\n"
     ]
    }
   ],
   "source": [
    "# 051\n",
    "\n",
    "movie_rank = ['doctor strange', 'split', 'lucky']\n",
    "print(movie_rank)"
   ]
  },
  {
   "cell_type": "code",
   "execution_count": 141,
   "id": "1f1f4903-75d0-4a75-b854-f62648550c90",
   "metadata": {},
   "outputs": [
    {
     "name": "stdout",
     "output_type": "stream",
     "text": [
      "['doctor strange', 'split', 'lucky', 'batman', 'batman']\n"
     ]
    }
   ],
   "source": [
    "# 052\n",
    "\n",
    "movie_rank.append('batman')\n",
    "print(movie_rank)"
   ]
  },
  {
   "cell_type": "code",
   "execution_count": 142,
   "id": "c333b169-7358-49c6-ac21-a7661ed89897",
   "metadata": {},
   "outputs": [
    {
     "name": "stdout",
     "output_type": "stream",
     "text": [
      "['doctor strange', 'super man', 'split', 'lucky', 'batman', 'batman']\n"
     ]
    }
   ],
   "source": [
    "# 053\n",
    "\n",
    "movie_rank.insert(1, 'super man')\n",
    "print(movie_rank)"
   ]
  },
  {
   "cell_type": "code",
   "execution_count": 150,
   "id": "68f6d9e9-3f3b-4d72-86b5-2c7acf2ef657",
   "metadata": {},
   "outputs": [
    {
     "name": "stdout",
     "output_type": "stream",
     "text": [
      "['doctor strange', 'super man', 'split', 'batman', 'batman']\n",
      "['doctor strange', 'super man', 'split', 'batman', 'batman']\n"
     ]
    }
   ],
   "source": [
    "# 054\n",
    "\n",
    "movie_rank = ['doctor strange', 'super man', 'split', 'lucky', 'batman', 'batman']\n",
    "movie_rank.remove('lucky')\n",
    "print(movie_rank)\n",
    "\n",
    "# remove는 하나의 값만 받는다.\n",
    "\n",
    "movie_rank = ['doctor strange', 'super man', 'split', 'lucky', 'batman', 'batman']\n",
    "del movie_rank[3]\n",
    "print(movie_rank)\n"
   ]
  },
  {
   "cell_type": "code",
   "execution_count": 152,
   "id": "133fabce-395b-41d0-92e1-141371b66237",
   "metadata": {},
   "outputs": [
    {
     "name": "stdout",
     "output_type": "stream",
     "text": [
      "['doctor strange', 'super man']\n"
     ]
    }
   ],
   "source": [
    "# 055\n",
    "\n",
    "del movie_rank[2:]\n",
    "print(movie_rank)"
   ]
  },
  {
   "cell_type": "code",
   "execution_count": 154,
   "id": "d4bb2eff-fd4b-41b8-9d93-124dc04b1570",
   "metadata": {},
   "outputs": [
    {
     "name": "stdout",
     "output_type": "stream",
     "text": [
      "['C', 'C++', 'JAVA', 'Python', 'Go', 'C#']\n"
     ]
    }
   ],
   "source": [
    "# 056\n",
    "\n",
    "lang1 = [\"C\", \"C++\", \"JAVA\"]\n",
    "lang2 = [\"Python\", \"Go\", \"C#\"]\n",
    "\n",
    "langs = lang1 + lang2\n",
    "print(langs)"
   ]
  },
  {
   "cell_type": "code",
   "execution_count": 158,
   "id": "b354b188-3b73-4827-9665-fc0acb89e117",
   "metadata": {},
   "outputs": [
    {
     "name": "stdout",
     "output_type": "stream",
     "text": [
      "max:  7\n",
      "min:  1\n",
      "\n",
      "max:   7\n",
      "min:   1\n"
     ]
    }
   ],
   "source": [
    "# 057\n",
    "\n",
    "nums = [1, 2, 3, 4, 5, 6, 7]\n",
    "print(f'max:  {max(nums)}\\nmin:  {min(nums)}')\n",
    "print()\n",
    "print('max:  ', max(nums))\n",
    "print('min:  ', min(nums))"
   ]
  },
  {
   "cell_type": "code",
   "execution_count": 159,
   "id": "f0d192e3-ca3e-49de-871f-31dc9c6d423f",
   "metadata": {},
   "outputs": [
    {
     "data": {
      "text/plain": [
       "15"
      ]
     },
     "execution_count": 159,
     "metadata": {},
     "output_type": "execute_result"
    }
   ],
   "source": [
    "# 058\n",
    "\n",
    "nums = [1, 2, 3, 4, 5]\n",
    "sum(nums)"
   ]
  },
  {
   "cell_type": "code",
   "execution_count": 161,
   "id": "d03295af-0a93-4339-9945-eb236bfb13f9",
   "metadata": {},
   "outputs": [
    {
     "data": {
      "text/plain": [
       "11"
      ]
     },
     "execution_count": 161,
     "metadata": {},
     "output_type": "execute_result"
    }
   ],
   "source": [
    "# 059\n",
    "\n",
    "cook = ['pizza', 'kimbap', 'dumpling', 'chicken', 'pork feet', 'kimchi dumpling', 'jjolmyeon', 'sausage', 'ramen', 'shaved ice', 'kimchi pancake']\n",
    "len(cook)"
   ]
  },
  {
   "cell_type": "code",
   "execution_count": 162,
   "id": "3db824dc-8560-4c1b-92cc-c4dc93ca2c21",
   "metadata": {},
   "outputs": [
    {
     "data": {
      "text/plain": [
       "3.0"
      ]
     },
     "execution_count": 162,
     "metadata": {},
     "output_type": "execute_result"
    }
   ],
   "source": [
    "# 060\n",
    "\n",
    "nums = [1, 2, 3, 4, 5]\n",
    "sum(nums)/len(nums)"
   ]
  },
  {
   "cell_type": "code",
   "execution_count": null,
   "id": "76772e79-8741-470d-a8af-47bd04f34d08",
   "metadata": {},
   "outputs": [],
   "source": []
  },
  {
   "cell_type": "code",
   "execution_count": null,
   "id": "33f30a97-3324-4c10-a81d-3bdcfb21f8c0",
   "metadata": {},
   "outputs": [],
   "source": []
  },
  {
   "cell_type": "code",
   "execution_count": null,
   "id": "c3e17577-a224-4ee9-ab53-169045926ba1",
   "metadata": {},
   "outputs": [],
   "source": []
  },
  {
   "cell_type": "code",
   "execution_count": null,
   "id": "9de59d24-dd66-4cb3-b3fc-85738c32f9e2",
   "metadata": {},
   "outputs": [],
   "source": []
  },
  {
   "cell_type": "code",
   "execution_count": null,
   "id": "38817196-33e7-4e4b-8115-f72efdbbb4e7",
   "metadata": {},
   "outputs": [],
   "source": []
  },
  {
   "cell_type": "code",
   "execution_count": null,
   "id": "5c5f363c-363e-4c19-8765-020a0c46f17e",
   "metadata": {},
   "outputs": [],
   "source": []
  },
  {
   "cell_type": "code",
   "execution_count": null,
   "id": "c6fd73e2-11d2-41db-a8b9-4d0b78399960",
   "metadata": {},
   "outputs": [],
   "source": []
  },
  {
   "cell_type": "code",
   "execution_count": null,
   "id": "561a6132-70be-44a8-9dbb-674e065e8b1d",
   "metadata": {},
   "outputs": [],
   "source": []
  },
  {
   "cell_type": "code",
   "execution_count": null,
   "id": "43a92bbb-e05c-4b0d-bd82-f47d958068ee",
   "metadata": {},
   "outputs": [],
   "source": []
  },
  {
   "cell_type": "code",
   "execution_count": null,
   "id": "9b8ed4d5-59a1-45e8-ab57-813a2dc09a0a",
   "metadata": {},
   "outputs": [],
   "source": []
  },
  {
   "cell_type": "code",
   "execution_count": null,
   "id": "ce063b65-bca3-493b-be84-5c8eeb07f8f7",
   "metadata": {},
   "outputs": [],
   "source": []
  },
  {
   "cell_type": "code",
   "execution_count": null,
   "id": "3b1cc2af-5098-42cc-a44d-4f57418f8ad4",
   "metadata": {},
   "outputs": [],
   "source": []
  },
  {
   "cell_type": "code",
   "execution_count": null,
   "id": "49f95d1f-c74f-46ac-85aa-39f70785b20c",
   "metadata": {},
   "outputs": [],
   "source": []
  },
  {
   "cell_type": "code",
   "execution_count": null,
   "id": "b42e6786-c8ce-4127-a270-733786c60513",
   "metadata": {},
   "outputs": [],
   "source": []
  },
  {
   "cell_type": "code",
   "execution_count": null,
   "id": "cbeee63b-5e55-4a06-9dbf-3a82bc259cd5",
   "metadata": {},
   "outputs": [],
   "source": []
  },
  {
   "cell_type": "code",
   "execution_count": null,
   "id": "7fb06f3f-fea1-45fb-8f83-01896cbe8e15",
   "metadata": {},
   "outputs": [],
   "source": []
  },
  {
   "cell_type": "code",
   "execution_count": null,
   "id": "b69069d4-8486-4244-9f30-2f6648f49a70",
   "metadata": {},
   "outputs": [],
   "source": []
  },
  {
   "cell_type": "code",
   "execution_count": null,
   "id": "7fd67f58-3255-465a-9fa4-e0fd418f2e88",
   "metadata": {},
   "outputs": [],
   "source": []
  },
  {
   "cell_type": "code",
   "execution_count": null,
   "id": "8da29617-0727-4727-a756-43af0067a3b8",
   "metadata": {},
   "outputs": [],
   "source": []
  }
 ],
 "metadata": {
  "kernelspec": {
   "display_name": "Python 3 (ipykernel)",
   "language": "python",
   "name": "python3"
  },
  "language_info": {
   "codemirror_mode": {
    "name": "ipython",
    "version": 3
   },
   "file_extension": ".py",
   "mimetype": "text/x-python",
   "name": "python",
   "nbconvert_exporter": "python",
   "pygments_lexer": "ipython3",
   "version": "3.11.6"
  }
 },
 "nbformat": 4,
 "nbformat_minor": 5
}
