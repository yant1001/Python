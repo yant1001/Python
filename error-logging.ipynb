{
 "cells": [
  {
   "cell_type": "markdown",
   "id": "bf0de2e4-5d89-4e03-85f6-5b82b00d0ec6",
   "metadata": {},
   "source": [
    "## 2024-01-06\n",
    "\n",
    "\n",
    "**case description**: 원격 저장소에서 파일 이름을 변경하여 지역 저장소와 파일 이름이 다른 경우\n",
    "\n",
    "$ git add python-beginner\r\n",
    "> pathspec 'python-beginner' did not match any files\r\n",
    "\r\n",
    "$ git add \r\n",
    ">> warning: in the working copy of '.ipynb_checkpoints/python-beginner-checkpoint.ipynb', LF will be replaced by CRLF the next time Git touches t\r\n",
    ">> 구글링 참고: https://dabo-dev.tistory.com/13\r\n",
    "\r\n",
    "$ git config --global core.autocrlf true\r\n",
    "\r\n",
    "$ git add .\r\n",
    "\r\n",
    "$ git commit -m \"python-beginner\"\r\n",
    ">> [master 226bede] python-beginner\r\n",
    " 2 files changed, 2902 insertions(+), 30 deletions(-)\r\n",
    " rename python_beginner.ipynb => .ipynb_checkpoints/python-beginner-checkpoint.ipynb (89%)\r\n",
    " create mode 100644 python-beginner.ipynb\r\n",
    "\r\n",
    "$ git push origin master\r\n",
    ">> Enumerating objects: 6, done.\r\n",
    "Counting objects: 100% (6/6), done.\r\n",
    "Delta compression using up to 8 threads\r\n",
    "Compressing objects: 100% (4/4), done.\r\n",
    "Writing objects: 100% (4/4), 11.34 KiB | 2.27 MiB/s, done.\r\n",
    "Total 4 (delta 0), reused 0 (delta 0), pack-reused 0\r\n",
    "To https://github.com/yant1001/python.git\r\n",
    "   6e0e3c4..226bede  master -> master\r\n",
    "\r\n",
    "--- success ---"
   ]
  }
 ],
 "metadata": {
  "kernelspec": {
   "display_name": "Python 3 (ipykernel)",
   "language": "python",
   "name": "python3"
  },
  "language_info": {
   "codemirror_mode": {
    "name": "ipython",
    "version": 3
   },
   "file_extension": ".py",
   "mimetype": "text/x-python",
   "name": "python",
   "nbconvert_exporter": "python",
   "pygments_lexer": "ipython3",
   "version": "3.11.6"
  }
 },
 "nbformat": 4,
 "nbformat_minor": 5
}
