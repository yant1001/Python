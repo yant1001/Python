{
 "cells": [
  {
   "cell_type": "code",
   "execution_count": 2,
   "id": "a8c099e2-7f8f-4388-a5a5-81a2dad74d85",
   "metadata": {},
   "outputs": [
    {
     "name": "stdout",
     "output_type": "stream",
     "text": [
      "Hello World\n"
     ]
    }
   ],
   "source": [
    "# 001\n",
    "\n",
    "print('Hello World')"
   ]
  },
  {
   "cell_type": "code",
   "execution_count": 6,
   "id": "35e38552-ef42-4dbc-a841-a68592119f06",
   "metadata": {},
   "outputs": [
    {
     "name": "stdout",
     "output_type": "stream",
     "text": [
      "Mary's cosmetics\n"
     ]
    }
   ],
   "source": [
    "# 002\n",
    "\n",
    "print('Mary\\'s cosmetics')"
   ]
  },
  {
   "cell_type": "code",
   "execution_count": 10,
   "id": "45b1f70f-1a6d-4169-b76b-826f0f941807",
   "metadata": {},
   "outputs": [
    {
     "name": "stdout",
     "output_type": "stream",
     "text": [
      "신씨가 소리질렀다. \"도둑이야\".\n"
     ]
    }
   ],
   "source": [
    "# 003\n",
    "\n",
    "print('신씨가 소리질렀다. \"도둑이야\".')"
   ]
  },
  {
   "cell_type": "code",
   "execution_count": 11,
   "id": "cc4956b1-8fce-44f4-aa3c-3487127798e8",
   "metadata": {},
   "outputs": [
    {
     "name": "stdout",
     "output_type": "stream",
     "text": [
      "C:\\Windows\n"
     ]
    }
   ],
   "source": [
    "# 004\n",
    "\n",
    "print('C:\\Windows')"
   ]
  },
  {
   "cell_type": "code",
   "execution_count": 12,
   "id": "f45a5044-1487-40f4-914a-84bea39f27c6",
   "metadata": {},
   "outputs": [
    {
     "name": "stdout",
     "output_type": "stream",
     "text": [
      "안녕하세요. \n",
      "만나서\t\t반갑습니다.\n"
     ]
    }
   ],
   "source": [
    "# 005\n",
    "\n",
    "print(\"안녕하세요. \\n만나서\\t\\t반갑습니다.\")\n",
    "\n",
    "# \\n는 줄바꿈, \\t 탭 삽입"
   ]
  },
  {
   "cell_type": "code",
   "execution_count": 16,
   "id": "0e1523fc-0726-4b6e-906f-17315d4c0f44",
   "metadata": {},
   "outputs": [
    {
     "name": "stdout",
     "output_type": "stream",
     "text": [
      "오늘은 일요일\n"
     ]
    }
   ],
   "source": [
    "# 006\n",
    "\n",
    "print(\"오늘은\", \"일요일\")\n",
    "\n",
    "# 여러 값을 출력 시 쉼표로 구분하면 공백으로 값을 구분하여 출력한다."
   ]
  },
  {
   "cell_type": "markdown",
   "id": "448747d9-55bf-46ad-a6eb-f51eeafc76c8",
   "metadata": {},
   "source": [
    "**sep인자**\n",
    "\n",
    "sep 인자를 활용하여 출력되는 값들 사이에 동일한 값을 삽입할 수 있다."
   ]
  },
  {
   "cell_type": "code",
   "execution_count": 17,
   "id": "934f52c3-b0c2-40a9-8da3-e090b07b8de3",
   "metadata": {},
   "outputs": [
    {
     "name": "stdout",
     "output_type": "stream",
     "text": [
      "naver;kakao;sk;samsung\n"
     ]
    }
   ],
   "source": [
    "# 007\n",
    "\n",
    "print('naver', 'kakao', 'sk', 'samsung', sep=';')"
   ]
  },
  {
   "cell_type": "code",
   "execution_count": 18,
   "id": "558c5021-ed19-47b8-a7aa-25ea18f807d2",
   "metadata": {},
   "outputs": [
    {
     "name": "stdout",
     "output_type": "stream",
     "text": [
      "naver/kakao/sk/samsung\n"
     ]
    }
   ],
   "source": [
    "# 008\n",
    "\n",
    "print('naver', 'kakao', 'sk', 'samsung', sep='/')"
   ]
  },
  {
   "cell_type": "code",
   "execution_count": 20,
   "id": "0b132ed3-0da7-42b9-ab5a-42bab2e7022e",
   "metadata": {},
   "outputs": [
    {
     "name": "stdout",
     "output_type": "stream",
     "text": [
      "firstsecond\n"
     ]
    }
   ],
   "source": [
    "# 009\n",
    "\n",
    "print(\"first\", end='');print(\"second\")"
   ]
  },
  {
   "cell_type": "code",
   "execution_count": 23,
   "id": "becbf3cd-66d1-4687-9037-6dc51ce987a3",
   "metadata": {},
   "outputs": [
    {
     "name": "stdout",
     "output_type": "stream",
     "text": [
      "1.6666666666666667\n"
     ]
    }
   ],
   "source": [
    "# 010\n",
    "\n",
    "print(5/3)"
   ]
  },
  {
   "cell_type": "code",
   "execution_count": 25,
   "id": "69d489d6-3a94-49f2-addf-ee04da317796",
   "metadata": {},
   "outputs": [
    {
     "name": "stdout",
     "output_type": "stream",
     "text": [
      "500000\n"
     ]
    }
   ],
   "source": [
    "# 011\n",
    "\n",
    "samsung = 50000\n",
    "total_eval = samsung * 10\n",
    "print(total_eval)"
   ]
  },
  {
   "cell_type": "code",
   "execution_count": 26,
   "id": "12ad8a52-9af1-41a0-b607-fce3a04bc3b6",
   "metadata": {},
   "outputs": [
    {
     "name": "stdout",
     "output_type": "stream",
     "text": [
      "298000000000000\n",
      "50000\n",
      "15.79\n"
     ]
    }
   ],
   "source": [
    "# 012\n",
    "\n",
    "market_capital = 298000000000000\n",
    "current_price = 50000\n",
    "PER = 15.79\n",
    "print(market_capital)\n",
    "print(current_price)\n",
    "print(PER)"
   ]
  },
  {
   "cell_type": "code",
   "execution_count": 28,
   "id": "efbb1396-c3a4-4b9f-bd65-796a12c40669",
   "metadata": {},
   "outputs": [
    {
     "name": "stdout",
     "output_type": "stream",
     "text": [
      "hello! python\n",
      "hello! python\n"
     ]
    }
   ],
   "source": [
    "# 013\n",
    "\n",
    "s = \"hello\"\n",
    "t = \"python\"\n",
    "\n",
    "print(s, t, sep='! ')\n",
    "print(s+'!', t)"
   ]
  },
  {
   "cell_type": "code",
   "execution_count": 29,
   "id": "f92cfe59-d39b-4597-b9c3-21e3fcaeb5ff",
   "metadata": {},
   "outputs": [
    {
     "name": "stdout",
     "output_type": "stream",
     "text": [
      "<class 'int'>\n",
      "<class 'str'>\n"
     ]
    }
   ],
   "source": [
    "# 014\n",
    "\n",
    "a = 128\n",
    "print(type(a))\n",
    "\n",
    "b = \"132\"\n",
    "print(type(b))"
   ]
  },
  {
   "cell_type": "code",
   "execution_count": 32,
   "id": "2bf891f2-2c0d-4fdc-bb15-9402dfbd4ed2",
   "metadata": {},
   "outputs": [
    {
     "name": "stdout",
     "output_type": "stream",
     "text": [
      "720 <class 'int'>\n"
     ]
    }
   ],
   "source": [
    "# 016\n",
    "\n",
    "num_str = \"720\"\n",
    "num_int = int(num_str)\n",
    "\n",
    "print(num_int, type(num_int))"
   ]
  },
  {
   "cell_type": "code",
   "execution_count": 33,
   "id": "2c1d721e-b259-42a1-b41b-0b29cb83e441",
   "metadata": {},
   "outputs": [
    {
     "name": "stdout",
     "output_type": "stream",
     "text": [
      "100 <class 'str'>\n"
     ]
    }
   ],
   "source": [
    "# 017\n",
    "\n",
    "num = 100\n",
    "num_str = str(num)\n",
    "print(num_str, type(num_str))"
   ]
  },
  {
   "cell_type": "code",
   "execution_count": 53,
   "id": "eef67ee7-d30a-43d4-bada-8391720a03ba",
   "metadata": {},
   "outputs": [
    {
     "name": "stdout",
     "output_type": "stream",
     "text": [
      "15.79 <class 'float'>\n"
     ]
    }
   ],
   "source": [
    "# 018\n",
    "\n",
    "result = float('15.79')\n",
    "print(result, type(result))"
   ]
  },
  {
   "cell_type": "code",
   "execution_count": 57,
   "id": "4e1235cb-aca9-4192-8296-8c2164160046",
   "metadata": {},
   "outputs": [
    {
     "name": "stdout",
     "output_type": "stream",
     "text": [
      "2017 2018 2019\n"
     ]
    }
   ],
   "source": [
    "# 019\n",
    "\n",
    "year = '2020'\n",
    "result = int(year)\n",
    "print(result - 3, result - 2, result - 1)"
   ]
  },
  {
   "cell_type": "code",
   "execution_count": 58,
   "id": "0242f30d-dd00-432e-8c05-6e732bfd2bbe",
   "metadata": {},
   "outputs": [
    {
     "name": "stdout",
     "output_type": "stream",
     "text": [
      "1749024\n"
     ]
    }
   ],
   "source": [
    "# 020\n",
    "\n",
    "ac_month = 48584\n",
    "total = ac_month * 36\n",
    "print(total)"
   ]
  },
  {
   "cell_type": "code",
   "execution_count": 60,
   "id": "960c5822-63b9-4ea6-8f4b-dde228488b68",
   "metadata": {},
   "outputs": [
    {
     "name": "stdout",
     "output_type": "stream",
     "text": [
      "p t\n"
     ]
    }
   ],
   "source": [
    "# 021\n",
    "\n",
    "letters = 'python'\n",
    "print(letters[0], letters[2])"
   ]
  },
  {
   "cell_type": "markdown",
   "id": "7b1d9d92-fbe8-40f1-8162-2674452ea6f9",
   "metadata": {},
   "source": [
    "### 문자열 슬라이싱\n",
    "\n",
    "파이썬의 인덱스는 앞에서부터 0, 뒤에서부터 -1의 값을 갖는다.\n",
    "시작 인덱스를 생략하면 0으로 간주하고, 마지막 인덱스를 생략하면 문자열의 끝을 의미한다."
   ]
  },
  {
   "cell_type": "code",
   "execution_count": 65,
   "id": "8a10bba3-7aed-49c1-83d3-69fb57387b39",
   "metadata": {},
   "outputs": [
    {
     "name": "stdout",
     "output_type": "stream",
     "text": [
      "2210\n"
     ]
    }
   ],
   "source": [
    "# 022\n",
    "\n",
    "license_plate = '24가 2210'\n",
    "print(license_plate[-4:])"
   ]
  },
  {
   "cell_type": "code",
   "execution_count": 71,
   "id": "0903e852-dacf-4e7a-9011-4665fbb9827b",
   "metadata": {},
   "outputs": [
    {
     "name": "stdout",
     "output_type": "stream",
     "text": [
      "홀홀홀\n"
     ]
    }
   ],
   "source": [
    "# 023\n",
    "\n",
    "string = '홀짝홀짝홀짝'\n",
    "print(string[::2])"
   ]
  },
  {
   "cell_type": "code",
   "execution_count": 72,
   "id": "5aafd7fc-bf3b-4820-854b-378dfbac0874",
   "metadata": {},
   "outputs": [
    {
     "name": "stdout",
     "output_type": "stream",
     "text": [
      "NOHTYP\n"
     ]
    }
   ],
   "source": [
    "# 024\n",
    "\n",
    "string = 'PYTHON'\n",
    "print(string[::-1])"
   ]
  },
  {
   "cell_type": "code",
   "execution_count": 74,
   "id": "3749f43d-1b12-452a-b422-b01c576ea39d",
   "metadata": {},
   "outputs": [
    {
     "name": "stdout",
     "output_type": "stream",
     "text": [
      "010 1111 2222\n"
     ]
    }
   ],
   "source": [
    "# 025\n",
    "\n",
    "phone_number = '010-1111-2222'\n",
    "print(phone_number.replace('-', ' '))\n",
    "\n",
    "# string은 immutable 자료형이므로 기존 문자열은 그대로 두고 새로운 문자열이 리턴된다."
   ]
  },
  {
   "cell_type": "code",
   "execution_count": 75,
   "id": "deb54d71-d6d8-4b0a-986c-16d18084677e",
   "metadata": {},
   "outputs": [
    {
     "name": "stdout",
     "output_type": "stream",
     "text": [
      "01011112222\n"
     ]
    }
   ],
   "source": [
    "# 026\n",
    "\n",
    "print(phone_number.replace('-', ''))"
   ]
  },
  {
   "cell_type": "code",
   "execution_count": 80,
   "id": "afbccc2f-220c-49cf-b475-32b0c91c8e6c",
   "metadata": {},
   "outputs": [
    {
     "name": "stdout",
     "output_type": "stream",
     "text": [
      "kr\n",
      "kr\n"
     ]
    }
   ],
   "source": [
    "# 027\n",
    "\n",
    "url = 'http://sharebook.kr'\n",
    "print(url[-2:])\n",
    "\n",
    "# 풀이 오답\n",
    "# 주어진 문자열에서 '.'을 기준으로 분리하면 어떤 url을 넣더라도 도메인만 출력할 수 있다.\n",
    "print(url.split('.')[-1])"
   ]
  },
  {
   "cell_type": "markdown",
   "id": "d6fc0cbb-7097-4288-8394-a57ff47aaa38",
   "metadata": {},
   "source": [
    "## 데이터의 분류\n",
    "> cf. 01_data_container\n",
    "\r\n",
    "1. 변경 불가능한(`immutable`) 데이터\r\n",
    "    - Reference(참조) 할 뿐, 값이 복사되지고 메모리 주소만 복사 전달된다.다.\r\n",
    "    - 원본 값하지 않고 새로운 객체를 생성한다변한다.\r\n",
    "    - 종류\r\n",
    "      - literal\r\n",
    "        - 숫자 (integer/float)\r\n",
    "        - 글자 (string)\r\n",
    "        - 참/거짓 (bool)\r\n",
    "      - range()\r\n",
    "      - tuple()\r\n",
    "      - frozenset()\r\n",
    "2. 변경 가능한(`mutable`) 데이터\r\n",
    "    - Value 타입으로, 값이 실제로 넘어가기 때문에 형태로  - 데??**\r\n",
    "    -  원본 이 변한다.\r\n",
    "       종류\n",
    "        -  lis\n",
    "        -   dict\r\n",
    "       -  set  -  d     -  set\r\n",
    "\r\n",
    "---\r\n",
    "\r\n"
   ]
  },
  {
   "cell_type": "code",
   "execution_count": 81,
   "id": "63275a53-1b5d-49e8-be50-7c0645b375f9",
   "metadata": {},
   "outputs": [
    {
     "ename": "TypeError",
     "evalue": "'str' object does not support item assignment",
     "output_type": "error",
     "traceback": [
      "\u001b[1;31m---------------------------------------------------------------------------\u001b[0m",
      "\u001b[1;31mTypeError\u001b[0m                                 Traceback (most recent call last)",
      "Cell \u001b[1;32mIn[81], line 4\u001b[0m\n\u001b[0;32m      1\u001b[0m \u001b[38;5;66;03m# 028\u001b[39;00m\n\u001b[0;32m      3\u001b[0m lang \u001b[38;5;241m=\u001b[39m \u001b[38;5;124m'\u001b[39m\u001b[38;5;124mpython\u001b[39m\u001b[38;5;124m'\u001b[39m\n\u001b[1;32m----> 4\u001b[0m \u001b[43mlang\u001b[49m\u001b[43m[\u001b[49m\u001b[38;5;241;43m0\u001b[39;49m\u001b[43m]\u001b[49m \u001b[38;5;241m=\u001b[39m \u001b[38;5;124m'\u001b[39m\u001b[38;5;124mP\u001b[39m\u001b[38;5;124m'\u001b[39m\n\u001b[0;32m      5\u001b[0m \u001b[38;5;28mprint\u001b[39m(lang)\n",
      "\u001b[1;31mTypeError\u001b[0m: 'str' object does not support item assignment"
     ]
    }
   ],
   "source": [
    "# 028\n",
    "\n",
    "lang = 'python'\n",
    "lang[0] = 'P'\n",
    "print(lang)\n",
    "\n",
    "# 문자열은 수정할 수 없는 immutable 변수이다."
   ]
  },
  {
   "cell_type": "code",
   "execution_count": 85,
   "id": "1e705524-2cdc-4a03-b350-04a8c6bb373b",
   "metadata": {},
   "outputs": [
    {
     "name": "stdout",
     "output_type": "stream",
     "text": [
      "Abcdfe2A354A32A\n"
     ]
    }
   ],
   "source": [
    "# 029\n",
    "\n",
    "string = 'abcdfe2a354a32a'\n",
    "print(string.replace('a', 'A'))"
   ]
  },
  {
   "cell_type": "code",
   "execution_count": 87,
   "id": "bd1493e1-a98f-4092-a0da-0e33e38eeaec",
   "metadata": {},
   "outputs": [
    {
     "name": "stdout",
     "output_type": "stream",
     "text": [
      "abcd\n"
     ]
    }
   ],
   "source": [
    "# 030\n",
    "\n",
    "string = 'abcd'\n",
    "string.replace('b', 'B')\n",
    "print(string)"
   ]
  },
  {
   "cell_type": "code",
   "execution_count": 88,
   "id": "5258bb9f-da7e-4700-a110-770bb8dbd482",
   "metadata": {},
   "outputs": [
    {
     "name": "stdout",
     "output_type": "stream",
     "text": [
      "34\n"
     ]
    }
   ],
   "source": [
    "# 031\n",
    "\n",
    "a = '3'\n",
    "b = '4'\n",
    "print(a + b)"
   ]
  },
  {
   "cell_type": "code",
   "execution_count": 89,
   "id": "c2387faa-2028-4411-b000-f73c8f22c866",
   "metadata": {},
   "outputs": [
    {
     "name": "stdout",
     "output_type": "stream",
     "text": [
      "HiHiHi\n"
     ]
    }
   ],
   "source": [
    "# 032\n",
    "\n",
    "print('Hi' * 3)"
   ]
  },
  {
   "cell_type": "code",
   "execution_count": 90,
   "id": "cfe0cf15-8cee-46da-a895-1353f29f231d",
   "metadata": {},
   "outputs": [
    {
     "name": "stdout",
     "output_type": "stream",
     "text": [
      "--------------------------------------------------------------------------------\n"
     ]
    }
   ],
   "source": [
    "# 033\n",
    "\n",
    "print('-' * 80)"
   ]
  },
  {
   "cell_type": "code",
   "execution_count": 96,
   "id": "aca61f36-5835-4cf2-adba-426d7a1f51be",
   "metadata": {},
   "outputs": [
    {
     "name": "stdout",
     "output_type": "stream",
     "text": [
      "python java python java python java python java \n"
     ]
    }
   ],
   "source": [
    "# 034\n",
    "\n",
    "t1 = 'python'\n",
    "t2 = 'java'\n",
    "\n",
    "print((t1 + ' ' + t2 + ' ') * 4)"
   ]
  },
  {
   "cell_type": "code",
   "execution_count": 103,
   "id": "86ecac9a-123e-4796-a91b-49e90c3b86f0",
   "metadata": {},
   "outputs": [
    {
     "name": "stdout",
     "output_type": "stream",
     "text": [
      "이름: 김민수 나이: 10\n",
      "이름: 이철희 나이: 13\n",
      "이름: 김민수 나이: 10\n",
      "이름: 이철희 나이: 13\n"
     ]
    }
   ],
   "source": [
    "# 035\n",
    "\n",
    "name1 = \"김민수\" \n",
    "age1 = 10\n",
    "name2 = \"이철희\"\n",
    "age2 = 13\n",
    "\n",
    "print(f'이름: {name1} 나이: {age1}')\n",
    "print(f'이름: {name2} 나이: {age2}')\n",
    "\n",
    "# 풀이 답안: % formatting\n",
    "# '%s': 문자열 데이터 타입의 값의 출력\n",
    "# '%d': 정수형 데이터 타입 값의 출력\n",
    "print(\"이름: %s 나이: %d\" % (name1, age1))\n",
    "print(\"이름: %s 나이: %d\" % (name2, age2))"
   ]
  },
  {
   "cell_type": "code",
   "execution_count": 104,
   "id": "c0d54c7d-bc36-4d4b-975c-827f8d566c00",
   "metadata": {},
   "outputs": [
    {
     "name": "stdout",
     "output_type": "stream",
     "text": [
      "이름: 김민수 나이: 10\n",
      "이름: 이철희 나이: 13\n"
     ]
    }
   ],
   "source": [
    "# 036\n",
    "\n",
    "name1 = \"김민수\" \n",
    "age1 = 10\n",
    "name2 = \"이철희\"\n",
    "age2 = 13\n",
    "\n",
    "# format() 메서드\n",
    "print('이름: {} 나이: {}'.format(name1, age1))\n",
    "print('이름: {} 나이: {}'.format(name2, age2))"
   ]
  },
  {
   "cell_type": "code",
   "execution_count": 105,
   "id": "b77217fb-6079-40e4-a0ae-2b7d109ef4ca",
   "metadata": {},
   "outputs": [
    {
     "name": "stdout",
     "output_type": "stream",
     "text": [
      "이름: 김민수 나이: 10\n",
      "이름: 이철희 나이: 13\n"
     ]
    }
   ],
   "source": [
    "# 037\n",
    "\n",
    "# f-string => python 3.6ver 부터 지원\n",
    "name1 = \"김민수\" \n",
    "age1 = 10\n",
    "name2 = \"이철희\"\n",
    "age2 = 13\n",
    "\n",
    "print(f'이름: {name1} 나이: {age1}')\n",
    "print(f'이름: {name2} 나이: {age2}')"
   ]
  },
  {
   "cell_type": "code",
   "execution_count": 107,
   "id": "f6df3290-269e-49e6-9246-219158583243",
   "metadata": {},
   "outputs": [
    {
     "name": "stdout",
     "output_type": "stream",
     "text": [
      "5969782550 <class 'int'>\n"
     ]
    }
   ],
   "source": [
    "# 038\n",
    "\n",
    "stock_num = '5,969,782,550'\n",
    "result = int(stock_num.replace(',', ''))\n",
    "print(result, type(result))"
   ]
  },
  {
   "cell_type": "code",
   "execution_count": 108,
   "id": "c4e8928f-cd4e-427d-b590-9595b1808a63",
   "metadata": {},
   "outputs": [
    {
     "name": "stdout",
     "output_type": "stream",
     "text": [
      "2020/03\n"
     ]
    }
   ],
   "source": [
    "# 039\n",
    "\n",
    "q = '2020/03(E) (IFRS연결)'\n",
    "print(q[:7])"
   ]
  },
  {
   "cell_type": "code",
   "execution_count": 109,
   "id": "c3e16a61-a8a3-464e-886c-638dee3108aa",
   "metadata": {},
   "outputs": [
    {
     "name": "stdout",
     "output_type": "stream",
     "text": [
      "삼성전자\n"
     ]
    }
   ],
   "source": [
    "# 040\n",
    "\n",
    "data = \"   삼성전자    \"\n",
    "\n",
    "print(data.rstrip().lstrip())"
   ]
  },
  {
   "cell_type": "code",
   "execution_count": 110,
   "id": "61b52691-5e7a-4b07-b160-bb777f740fb1",
   "metadata": {},
   "outputs": [
    {
     "name": "stdout",
     "output_type": "stream",
     "text": [
      "BTC_KRW\n"
     ]
    }
   ],
   "source": [
    "# 041\n",
    "\n",
    "ticker = 'btc_krw'\n",
    "print(ticker.upper())"
   ]
  },
  {
   "cell_type": "code",
   "execution_count": 111,
   "id": "c40aef3d-e4b7-4eb6-a58b-e472299a4ba4",
   "metadata": {},
   "outputs": [
    {
     "name": "stdout",
     "output_type": "stream",
     "text": [
      "btc_krw\n"
     ]
    }
   ],
   "source": [
    "# 042\n",
    "\n",
    "ticker = 'BTC_KRW'\n",
    "print(ticker.lower())"
   ]
  },
  {
   "cell_type": "markdown",
   "id": "e7660384-a16f-4b7d-a6b4-5f0ee00fd0fe",
   "metadata": {},
   "source": [
    "### 대소문자 변환\n",
    "\n",
    "`.capitalize()`: 앞 글자를 대문자로 만들어 반환한다. \\\n",
    "`.tile()`: 어퍼스트로피(')나 공백 이후를 대문자로 만들어 반환한다. \\\n",
    "`.upper()`: 모두 대문자로 만들어 반환 \\\n",
    "`.lower()`: 모두 소문자로 만들어 반환 \\\n",
    "`.swapcase()`: 대소문자를 변경하여 반환"
   ]
  },
  {
   "cell_type": "code",
   "execution_count": 114,
   "id": "5b7387ca-4e11-4e46-9a6f-fa5898470aea",
   "metadata": {},
   "outputs": [
    {
     "name": "stdout",
     "output_type": "stream",
     "text": [
      "Hello\n"
     ]
    }
   ],
   "source": [
    "# 043\n",
    "\n",
    "result = 'hello'\n",
    "print(result.capitalize())"
   ]
  },
  {
   "cell_type": "markdown",
   "id": "8a49f691-7d69-47b7-93a9-584f67b47516",
   "metadata": {},
   "source": [
    "### startswith 메서드\n",
    "\n",
    "startswith 메서드를 활용하여 파일 이름이 특정 문자열로 시작하는지 확인할 수 있다.\n",
    "\n",
    "### endswith 메서드\n",
    "\n",
    "endswith 메서드를 활용하여 파일 이름이 특정 문자열로 끝나는게 맞는지 확인할 수 있다. \\\n",
    "여러 개의 특정 문자열 중 하나인지 확인할 경우에는 tuple을 사용한다."
   ]
  },
  {
   "cell_type": "code",
   "execution_count": 115,
   "id": "bb4d550a-74f4-4c4c-8a22-3748897a8a7c",
   "metadata": {},
   "outputs": [
    {
     "name": "stdout",
     "output_type": "stream",
     "text": [
      "True\n"
     ]
    }
   ],
   "source": [
    "# 044\n",
    "\n",
    "file_name = '보고서.xlsx'\n",
    "print(file_name.endswith('xlsx'))"
   ]
  },
  {
   "cell_type": "code",
   "execution_count": 124,
   "id": "1749eeb1-8ca9-4de7-980b-22d4000ca1b8",
   "metadata": {},
   "outputs": [
    {
     "name": "stdout",
     "output_type": "stream",
     "text": [
      "True\n",
      "True\n"
     ]
    }
   ],
   "source": [
    "# 045\n",
    "\n",
    "file_name = '보고서.xlsx'\n",
    "print(file_name.endswith('xlsx' or 'xls'))\n",
    "print(file_name.endswith(('xlsx', 'xls')))"
   ]
  },
  {
   "cell_type": "code",
   "execution_count": 126,
   "id": "75f955f8-c0d4-4f50-9761-1ed44f8dd63e",
   "metadata": {},
   "outputs": [
    {
     "name": "stdout",
     "output_type": "stream",
     "text": [
      "True\n"
     ]
    }
   ],
   "source": [
    "# 046\n",
    "\n",
    "file_name = '2020_보고서.xlsx'\n",
    "print(file_name.startswith('2020'))\n"
   ]
  },
  {
   "cell_type": "code",
   "execution_count": 132,
   "id": "6bd0537a-37d7-49f7-a352-004f41ee071e",
   "metadata": {},
   "outputs": [
    {
     "name": "stdout",
     "output_type": "stream",
     "text": [
      "['hello', 'world']\n"
     ]
    }
   ],
   "source": [
    "# 047\n",
    "\n",
    "a = 'hello world'\n",
    "print(a.split())"
   ]
  },
  {
   "cell_type": "code",
   "execution_count": 133,
   "id": "bb88b7cd-1bfb-4644-bfd5-655ce69f7876",
   "metadata": {},
   "outputs": [
    {
     "name": "stdout",
     "output_type": "stream",
     "text": [
      "['btc', 'krw']\n"
     ]
    }
   ],
   "source": [
    "# 048\n",
    "\n",
    "ticker = 'btc_krw'\n",
    "print(ticker.split('_'))"
   ]
  },
  {
   "cell_type": "code",
   "execution_count": 134,
   "id": "2517e1d8-14a2-4457-a4d0-193524a79f9d",
   "metadata": {},
   "outputs": [
    {
     "name": "stdout",
     "output_type": "stream",
     "text": [
      "['2020', '05', '01']\n"
     ]
    }
   ],
   "source": [
    "# 049\n",
    "\n",
    "date = \"2020-05-01\"\n",
    "print(date.split('-'))"
   ]
  },
  {
   "cell_type": "code",
   "execution_count": 137,
   "id": "48f66900-746e-4b27-be2e-d7dd115ccac1",
   "metadata": {},
   "outputs": [
    {
     "name": "stdout",
     "output_type": "stream",
     "text": [
      "039490\n"
     ]
    }
   ],
   "source": [
    "# 050\n",
    "\n",
    "data = \"039490     \"\n",
    "print(data.rstrip())"
   ]
  },
  {
   "cell_type": "code",
   "execution_count": 139,
   "id": "7c2415f7-1da9-4e13-9349-60252fe151c2",
   "metadata": {},
   "outputs": [
    {
     "name": "stdout",
     "output_type": "stream",
     "text": [
      "['doctor strange', 'split', 'lucky']\n"
     ]
    }
   ],
   "source": [
    "# 051\n",
    "\n",
    "movie_rank = ['doctor strange', 'split', 'lucky']\n",
    "print(movie_rank)"
   ]
  },
  {
   "cell_type": "code",
   "execution_count": 141,
   "id": "1f1f4903-75d0-4a75-b854-f62648550c90",
   "metadata": {},
   "outputs": [
    {
     "name": "stdout",
     "output_type": "stream",
     "text": [
      "['doctor strange', 'split', 'lucky', 'batman', 'batman']\n"
     ]
    }
   ],
   "source": [
    "# 052\n",
    "\n",
    "movie_rank.append('batman')\n",
    "print(movie_rank)"
   ]
  },
  {
   "cell_type": "code",
   "execution_count": 142,
   "id": "c333b169-7358-49c6-ac21-a7661ed89897",
   "metadata": {},
   "outputs": [
    {
     "name": "stdout",
     "output_type": "stream",
     "text": [
      "['doctor strange', 'super man', 'split', 'lucky', 'batman', 'batman']\n"
     ]
    }
   ],
   "source": [
    "# 053\n",
    "\n",
    "movie_rank.insert(1, 'super man')\n",
    "print(movie_rank)"
   ]
  },
  {
   "cell_type": "code",
   "execution_count": 150,
   "id": "68f6d9e9-3f3b-4d72-86b5-2c7acf2ef657",
   "metadata": {},
   "outputs": [
    {
     "name": "stdout",
     "output_type": "stream",
     "text": [
      "['doctor strange', 'super man', 'split', 'batman', 'batman']\n",
      "['doctor strange', 'super man', 'split', 'batman', 'batman']\n"
     ]
    }
   ],
   "source": [
    "# 054\n",
    "\n",
    "movie_rank = ['doctor strange', 'super man', 'split', 'lucky', 'batman', 'batman']\n",
    "movie_rank.remove('lucky')\n",
    "print(movie_rank)\n",
    "\n",
    "# remove는 하나의 값만 받는다.\n",
    "\n",
    "movie_rank = ['doctor strange', 'super man', 'split', 'lucky', 'batman', 'batman']\n",
    "del movie_rank[3]\n",
    "print(movie_rank)\n"
   ]
  },
  {
   "cell_type": "code",
   "execution_count": 152,
   "id": "133fabce-395b-41d0-92e1-141371b66237",
   "metadata": {},
   "outputs": [
    {
     "name": "stdout",
     "output_type": "stream",
     "text": [
      "['doctor strange', 'super man']\n"
     ]
    }
   ],
   "source": [
    "# 055\n",
    "\n",
    "del movie_rank[2:]\n",
    "print(movie_rank)"
   ]
  },
  {
   "cell_type": "code",
   "execution_count": 154,
   "id": "d4bb2eff-fd4b-41b8-9d93-124dc04b1570",
   "metadata": {},
   "outputs": [
    {
     "name": "stdout",
     "output_type": "stream",
     "text": [
      "['C', 'C++', 'JAVA', 'Python', 'Go', 'C#']\n"
     ]
    }
   ],
   "source": [
    "# 056\n",
    "\n",
    "lang1 = [\"C\", \"C++\", \"JAVA\"]\n",
    "lang2 = [\"Python\", \"Go\", \"C#\"]\n",
    "\n",
    "langs = lang1 + lang2\n",
    "print(langs)"
   ]
  },
  {
   "cell_type": "code",
   "execution_count": 158,
   "id": "b354b188-3b73-4827-9665-fc0acb89e117",
   "metadata": {},
   "outputs": [
    {
     "name": "stdout",
     "output_type": "stream",
     "text": [
      "max:  7\n",
      "min:  1\n",
      "\n",
      "max:   7\n",
      "min:   1\n"
     ]
    }
   ],
   "source": [
    "# 057\n",
    "\n",
    "nums = [1, 2, 3, 4, 5, 6, 7]\n",
    "print(f'max:  {max(nums)}\\nmin:  {min(nums)}')\n",
    "print()\n",
    "print('max:  ', max(nums))\n",
    "print('min:  ', min(nums))"
   ]
  },
  {
   "cell_type": "code",
   "execution_count": 159,
   "id": "f0d192e3-ca3e-49de-871f-31dc9c6d423f",
   "metadata": {},
   "outputs": [
    {
     "data": {
      "text/plain": [
       "15"
      ]
     },
     "execution_count": 159,
     "metadata": {},
     "output_type": "execute_result"
    }
   ],
   "source": [
    "# 058\n",
    "\n",
    "nums = [1, 2, 3, 4, 5]\n",
    "sum(nums)"
   ]
  },
  {
   "cell_type": "code",
   "execution_count": 161,
   "id": "d03295af-0a93-4339-9945-eb236bfb13f9",
   "metadata": {},
   "outputs": [
    {
     "data": {
      "text/plain": [
       "11"
      ]
     },
     "execution_count": 161,
     "metadata": {},
     "output_type": "execute_result"
    }
   ],
   "source": [
    "# 059\n",
    "\n",
    "cook = ['pizza', 'kimbap', 'dumpling', 'chicken', 'pork feet', 'kimchi dumpling', 'jjolmyeon', 'sausage', 'ramen', 'shaved ice', 'kimchi pancake']\n",
    "len(cook)"
   ]
  },
  {
   "cell_type": "code",
   "execution_count": 162,
   "id": "3db824dc-8560-4c1b-92cc-c4dc93ca2c21",
   "metadata": {},
   "outputs": [
    {
     "data": {
      "text/plain": [
       "3.0"
      ]
     },
     "execution_count": 162,
     "metadata": {},
     "output_type": "execute_result"
    }
   ],
   "source": [
    "# 060\n",
    "\n",
    "nums = [1, 2, 3, 4, 5]\n",
    "sum(nums)/len(nums)"
   ]
  },
  {
   "cell_type": "code",
   "execution_count": 1,
   "id": "76772e79-8741-470d-a8af-47bd04f34d08",
   "metadata": {},
   "outputs": [
    {
     "name": "stdout",
     "output_type": "stream",
     "text": [
      "[100, 130, 140, 150, 160, 170]\n"
     ]
    }
   ],
   "source": [
    "# 061\n",
    "\n",
    "price = ['20180728', 100, 130, 140, 150, 160, 170]\n",
    "print(price[1:])"
   ]
  },
  {
   "cell_type": "code",
   "execution_count": 3,
   "id": "33f30a97-3324-4c10-a81d-3bdcfb21f8c0",
   "metadata": {},
   "outputs": [
    {
     "name": "stdout",
     "output_type": "stream",
     "text": [
      "[1, 3, 5, 7, 9]\n"
     ]
    }
   ],
   "source": [
    "# 062\n",
    "\n",
    "nums = [1, 2, 3, 4, 5, 6, 7, 8, 9, 10]\n",
    "print(nums[::2])"
   ]
  },
  {
   "cell_type": "code",
   "execution_count": 4,
   "id": "c3e17577-a224-4ee9-ab53-169045926ba1",
   "metadata": {},
   "outputs": [
    {
     "name": "stdout",
     "output_type": "stream",
     "text": [
      "[2, 4, 6, 8, 10]\n"
     ]
    }
   ],
   "source": [
    "# 063\n",
    "\n",
    "nums = [1, 2, 3, 4, 5, 6, 7, 8, 9, 10]\n",
    "print(nums[1::2])"
   ]
  },
  {
   "cell_type": "code",
   "execution_count": 5,
   "id": "9de59d24-dd66-4cb3-b3fc-85738c32f9e2",
   "metadata": {},
   "outputs": [
    {
     "name": "stdout",
     "output_type": "stream",
     "text": [
      "[5, 4, 3, 2, 1]\n"
     ]
    }
   ],
   "source": [
    "# 064\n",
    "\n",
    "nums = [1, 2, 3, 4, 5]\n",
    "print(nums[::-1])"
   ]
  },
  {
   "cell_type": "code",
   "execution_count": 10,
   "id": "38817196-33e7-4e4b-8115-f72efdbbb4e7",
   "metadata": {},
   "outputs": [
    {
     "name": "stdout",
     "output_type": "stream",
     "text": [
      "['samsung', 'naver']\n",
      "samsung naver\n"
     ]
    }
   ],
   "source": [
    "# 065\n",
    "\n",
    "interest = ['samsung', 'lg', 'naver']\n",
    "print(interest[::2])\n",
    "print(interest[0], interest[2])"
   ]
  },
  {
   "cell_type": "code",
   "execution_count": 14,
   "id": "5c5f363c-363e-4c19-8765-020a0c46f17e",
   "metadata": {},
   "outputs": [
    {
     "name": "stdout",
     "output_type": "stream",
     "text": [
      "samsung lg naver sk mirae\n"
     ]
    }
   ],
   "source": [
    "# 066\n",
    "\n",
    "interest = ['samsung', 'lg', 'naver', 'sk', 'mirae']\n",
    "print(' '.join(interest))"
   ]
  },
  {
   "cell_type": "code",
   "execution_count": null,
   "id": "c6fd73e2-11d2-41db-a8b9-4d0b78399960",
   "metadata": {},
   "outputs": [],
   "source": [
    "# 067\n",
    "\n",
    "interest = ['samsung', 'lg', 'naver', 'sk', 'mirae']\n",
    "print('/'.join(interest))"
   ]
  },
  {
   "cell_type": "code",
   "execution_count": 15,
   "id": "561a6132-70be-44a8-9dbb-674e065e8b1d",
   "metadata": {},
   "outputs": [
    {
     "name": "stdout",
     "output_type": "stream",
     "text": [
      "samsung\n",
      "lg\n",
      "naver\n",
      "sk\n",
      "mirae\n"
     ]
    }
   ],
   "source": [
    "# 068\n",
    "\n",
    "interest = ['samsung', 'lg', 'naver', 'sk', 'mirae']\n",
    "print('\\n'.join(interest))"
   ]
  },
  {
   "cell_type": "code",
   "execution_count": 18,
   "id": "43a92bbb-e05c-4b0d-bd82-f47d958068ee",
   "metadata": {},
   "outputs": [
    {
     "name": "stdout",
     "output_type": "stream",
     "text": [
      "['samsung', 'lg', 'naver']\n"
     ]
    }
   ],
   "source": [
    "# 069\n",
    "\n",
    "string = 'samsung/lg/naver'\n",
    "interest = string.split('/')\n",
    "print(interest)"
   ]
  },
  {
   "cell_type": "code",
   "execution_count": 20,
   "id": "9b8ed4d5-59a1-45e8-ab57-813a2dc09a0a",
   "metadata": {},
   "outputs": [
    {
     "name": "stdout",
     "output_type": "stream",
     "text": [
      "[1, 2, 3, 4, 5, 9, 10]\n"
     ]
    }
   ],
   "source": [
    "# 070\n",
    "\n",
    "data = [2, 4, 3, 1, 5, 10, 9]\n",
    "data.sort()\n",
    "print(data)"
   ]
  },
  {
   "cell_type": "code",
   "execution_count": 27,
   "id": "ce063b65-bca3-493b-be84-5c8eeb07f8f7",
   "metadata": {},
   "outputs": [
    {
     "name": "stdout",
     "output_type": "stream",
     "text": [
      "<class 'tuple'>\n"
     ]
    }
   ],
   "source": [
    "# 071\n",
    "\n",
    "my_variable = ()\n",
    "print(type(my_variable))"
   ]
  },
  {
   "cell_type": "code",
   "execution_count": 28,
   "id": "3b1cc2af-5098-42cc-a44d-4f57418f8ad4",
   "metadata": {},
   "outputs": [
    {
     "name": "stdout",
     "output_type": "stream",
     "text": [
      "('doctor strange', 'split', 'lucky')\n"
     ]
    }
   ],
   "source": [
    "# 072\n",
    "\n",
    "movie_rank = ('doctor strange', 'split', 'lucky')\n",
    "print(movie_rank)"
   ]
  },
  {
   "cell_type": "code",
   "execution_count": 32,
   "id": "49f95d1f-c74f-46ac-85aa-39f70785b20c",
   "metadata": {},
   "outputs": [
    {
     "name": "stdout",
     "output_type": "stream",
     "text": [
      "<class 'tuple'>\n"
     ]
    }
   ],
   "source": [
    "# 073\n",
    "\n",
    "number = (1, )\n",
    "print(type(number))"
   ]
  },
  {
   "cell_type": "code",
   "execution_count": 33,
   "id": "b42e6786-c8ce-4127-a270-733786c60513",
   "metadata": {},
   "outputs": [
    {
     "ename": "SyntaxError",
     "evalue": "invalid syntax. Perhaps you forgot a comma? (2670491144.py, line 5)",
     "output_type": "error",
     "traceback": [
      "\u001b[1;36m  Cell \u001b[1;32mIn[33], line 5\u001b[1;36m\u001b[0m\n\u001b[1;33m    Traceback (most recent call last):\u001b[0m\n\u001b[1;37m               ^\u001b[0m\n\u001b[1;31mSyntaxError\u001b[0m\u001b[1;31m:\u001b[0m invalid syntax. Perhaps you forgot a comma?\n"
     ]
    }
   ],
   "source": [
    "# 074\n",
    "\n",
    "# 입력 코드\n",
    ">> t = (1, 2, 3)\n",
    ">> t[0] = 'a'\n",
    "\n",
    "# 오류: tuple은 immutable 데이터이기에 변경 불가능하다.\n",
    "Traceback (most recent call last):\n",
    "  File \"<pyshell#46>\", line 1, in <module>\n",
    "    t[0] = 'a'\n",
    "TypeError: 'tuple' object does not support item assignment\n"
   ]
  },
  {
   "cell_type": "code",
   "execution_count": 34,
   "id": "cbeee63b-5e55-4a06-9dbf-3a82bc259cd5",
   "metadata": {},
   "outputs": [
    {
     "data": {
      "text/plain": [
       "tuple"
      ]
     },
     "execution_count": 34,
     "metadata": {},
     "output_type": "execute_result"
    }
   ],
   "source": [
    "# 075\n",
    "\n",
    "t = 1, 2, 3, 4\n",
    "type(t)  #tuple\n",
    "#원칙적으로 튜플은 괄호와 함께 데이터를 정의해야 하지만, 사용자 편의를 위해 괄호 없이도 동작한다."
   ]
  },
  {
   "cell_type": "code",
   "execution_count": 36,
   "id": "7fb06f3f-fea1-45fb-8f83-01896cbe8e15",
   "metadata": {},
   "outputs": [],
   "source": [
    "# 076\n",
    "\n",
    "t = ('a', 'b', 'c')\n",
    "t = ('A', 'b', 'c')"
   ]
  },
  {
   "cell_type": "code",
   "execution_count": 39,
   "id": "b69069d4-8486-4244-9f30-2f6648f49a70",
   "metadata": {},
   "outputs": [
    {
     "name": "stdout",
     "output_type": "stream",
     "text": [
      "['samsung', 'lg', 'sk']\n"
     ]
    }
   ],
   "source": [
    "# 077\n",
    "\n",
    "interest = ('samsung', 'lg', 'sk')\n",
    "print(list(interest))"
   ]
  },
  {
   "cell_type": "code",
   "execution_count": 40,
   "id": "7fd67f58-3255-465a-9fa4-e0fd418f2e88",
   "metadata": {},
   "outputs": [
    {
     "name": "stdout",
     "output_type": "stream",
     "text": [
      "('samsung', 'lg', 'sk')\n"
     ]
    }
   ],
   "source": [
    "# 078\n",
    "\n",
    "interest = ['samsung', 'lg', 'sk']\n",
    "print(tuple(interest))"
   ]
  },
  {
   "cell_type": "code",
   "execution_count": 41,
   "id": "8da29617-0727-4727-a756-43af0067a3b8",
   "metadata": {},
   "outputs": [
    {
     "name": "stdout",
     "output_type": "stream",
     "text": [
      "apple banana cake\n"
     ]
    }
   ],
   "source": [
    "# 079\n",
    "\n",
    "temp = ('apple', 'banana', 'cake')\n",
    "a, b, c = temp\n",
    "print(a, b, c)\n",
    "\n",
    "# tuple unpacking"
   ]
  },
  {
   "cell_type": "code",
   "execution_count": 54,
   "id": "a34fc8ad-5718-4911-9333-9451291ad88d",
   "metadata": {},
   "outputs": [
    {
     "name": "stdout",
     "output_type": "stream",
     "text": [
      "(2, 4, 6, 8, 10, 12, 14, 16, 18, 20, 22, 24, 26, 28, 30, 32, 34, 36, 38, 40, 42, 44, 46, 48, 50, 52, 54, 56, 58, 60, 62, 64, 66, 68, 70, 72, 74, 76, 78, 80, 82, 84, 86, 88, 90, 92, 94, 96, 98)\n"
     ]
    }
   ],
   "source": [
    "# 080\n",
    "\n",
    "data = tuple(range(2, 100, 2))\n",
    "print(data)"
   ]
  },
  {
   "cell_type": "markdown",
   "id": "a5ed96a1-d3c7-4145-85a5-9e259e6a4269",
   "metadata": {},
   "source": [
    "### 별 표현식 (star expression)\n",
    "\n",
    "- 좌변과 우변의 변수 개수가 달라도 데이터 언패킹 가능하다.\n",
    "- 별 표현식을 활용하여, 필요한 요소 값만 패킹하고 나머지 값은 언패킹을 유지할 수 있다.\n",
    "- 이 때 여러 값을 바인딩한 변수는 리스트로 출력된다. (?)\n",
    "\n",
    "<참고>\n",
    "- 변수의 역할이 필요하긴 하나, 나중에 사용하지 않을 경우 언더 스코어(`_`)를  사용한다."
   ]
  },
  {
   "cell_type": "code",
   "execution_count": 3,
   "id": "ef12b10f-56c8-404c-85be-1f497ebc25ad",
   "metadata": {},
   "outputs": [
    {
     "name": "stdout",
     "output_type": "stream",
     "text": [
      "[8.8, 8.9, 8.7, 9.2, 9.3, 9.7, 9.9, 9.5]\n"
     ]
    }
   ],
   "source": [
    "# 081\n",
    "\n",
    "scores = [8.8, 8.9, 8.7, 9.2, 9.3, 9.7, 9.9, 9.5, 7.8, 9.4]\n",
    "*valid_score, a, b = scores\n",
    "print(valid_score)"
   ]
  },
  {
   "cell_type": "code",
   "execution_count": 4,
   "id": "c2c22e3e-6613-41d1-bbae-43aea81b96d8",
   "metadata": {},
   "outputs": [
    {
     "name": "stdout",
     "output_type": "stream",
     "text": [
      "[8.7, 9.2, 9.3, 9.7, 9.9, 9.5, 7.8, 9.4]\n"
     ]
    }
   ],
   "source": [
    "# 082\n",
    "\n",
    "scores = [8.8, 8.9, 8.7, 9.2, 9.3, 9.7, 9.9, 9.5, 7.8, 9.4]\n",
    "a, b, *valid_score = scores\n",
    "print(valid_score)"
   ]
  },
  {
   "cell_type": "code",
   "execution_count": 5,
   "id": "ba5a8cbc-a146-46f2-a1a7-0520717063e1",
   "metadata": {},
   "outputs": [
    {
     "name": "stdout",
     "output_type": "stream",
     "text": [
      "[8.9, 8.7, 9.2, 9.3, 9.7, 9.9, 9.5, 7.8]\n"
     ]
    }
   ],
   "source": [
    "# 083\n",
    "\n",
    "scores = [8.8, 8.9, 8.7, 9.2, 9.3, 9.7, 9.9, 9.5, 7.8, 9.4]\n",
    "a, *valid_score, b = scores\n",
    "print(valid_score)"
   ]
  },
  {
   "cell_type": "code",
   "execution_count": 11,
   "id": "64c4a55c-51ce-489e-8198-406ae65db154",
   "metadata": {},
   "outputs": [
    {
     "name": "stdout",
     "output_type": "stream",
     "text": [
      "{}\n"
     ]
    }
   ],
   "source": [
    "# 084\n",
    "\n",
    "temp = { }\n",
    "print(temp)"
   ]
  },
  {
   "cell_type": "code",
   "execution_count": 18,
   "id": "4a29e539-e930-4164-aecb-359a29192898",
   "metadata": {},
   "outputs": [
    {
     "name": "stdout",
     "output_type": "stream",
     "text": [
      "{'merona': 1000, 'polapo': 1200, 'bbangparae': 1800}\n"
     ]
    }
   ],
   "source": [
    "# 085\n",
    "\n",
    "ice_cream = {'merona': 1000, 'polapo': 1200, 'bbangparae':1800}\n",
    "print(ice_cream)"
   ]
  },
  {
   "cell_type": "code",
   "execution_count": 19,
   "id": "e5000b55-fb0c-4a56-bd43-ba60c1e98c3a",
   "metadata": {},
   "outputs": [
    {
     "name": "stdout",
     "output_type": "stream",
     "text": [
      "{'merona': 1000, 'polapo': 1200, 'bbangparae': 1800, 'jawsbar': 1200, 'worldcon': 1500}\n"
     ]
    }
   ],
   "source": [
    "# 086\n",
    "\n",
    "ice_cream.update({'jawsbar': 1200, 'worldcon': 1500})\n",
    "print(ice_cream)"
   ]
  },
  {
   "cell_type": "markdown",
   "id": "c741a9af-ab49-4ece-9a4e-fc6f57ff776f",
   "metadata": {},
   "source": [
    "### 딕셔너리에서 key 값 가져오는 방법\n",
    "\n",
    "1. `.get()` 메서드 사용하기\n",
    "2. `[]` 사용하기"
   ]
  },
  {
   "cell_type": "code",
   "execution_count": 36,
   "id": "088da91b-8cdd-4f85-a633-44875f1edc43",
   "metadata": {},
   "outputs": [
    {
     "name": "stdout",
     "output_type": "stream",
     "text": [
      "메로나 가격: 1000\n",
      "메로나 가격: 1000\n"
     ]
    }
   ],
   "source": [
    "# 087\n",
    "\n",
    "print('메로나 가격:', ice_cream['merona'])\n",
    "print('메로나 가격:', ice_cream.get('merona'))"
   ]
  },
  {
   "cell_type": "code",
   "execution_count": 37,
   "id": "a188a5fe-a51d-4c31-8a25-2f455f30c817",
   "metadata": {},
   "outputs": [
    {
     "name": "stdout",
     "output_type": "stream",
     "text": [
      "{'merona': 1300, 'polapo': 1200, 'bbangparae': 1800, 'jawsbar': 1200, 'worldcon': 1500}\n"
     ]
    }
   ],
   "source": [
    "# 088\n",
    "\n",
    "ice_cream['merona'] = 1300\n",
    "print(ice_cream)"
   ]
  },
  {
   "cell_type": "markdown",
   "id": "0c31677b-037d-4520-a26a-5f2544af7e37",
   "metadata": {},
   "source": [
    "### 딕셔너리에서 key 값 삭제하는 방법\n",
    "\n",
    "1. `del` 사용하기"
   ]
  },
  {
   "cell_type": "code",
   "execution_count": 40,
   "id": "68a10573-d025-46b0-ba53-03c394caa260",
   "metadata": {},
   "outputs": [
    {
     "name": "stdout",
     "output_type": "stream",
     "text": [
      "{'polapo': 1200, 'bbangparae': 1800, 'jawsbar': 1200, 'worldcon': 1500}\n"
     ]
    }
   ],
   "source": [
    "# 089\n",
    "\n",
    "del ice_cream['merona']\n",
    "print(ice_cream)"
   ]
  },
  {
   "cell_type": "code",
   "execution_count": 45,
   "id": "2a4b15c4-418c-4515-95d2-ffcd8a38098e",
   "metadata": {},
   "outputs": [
    {
     "ename": "KeyError",
     "evalue": "'누가바'",
     "output_type": "error",
     "traceback": [
      "\u001b[1;31m---------------------------------------------------------------------------\u001b[0m",
      "\u001b[1;31mKeyError\u001b[0m                                  Traceback (most recent call last)",
      "Cell \u001b[1;32mIn[45], line 4\u001b[0m\n\u001b[0;32m      1\u001b[0m \u001b[38;5;66;03m# 090\u001b[39;00m\n\u001b[0;32m      3\u001b[0m icecream \u001b[38;5;241m=\u001b[39m {\u001b[38;5;124m'\u001b[39m\u001b[38;5;124m폴라포\u001b[39m\u001b[38;5;124m'\u001b[39m: \u001b[38;5;241m1200\u001b[39m, \u001b[38;5;124m'\u001b[39m\u001b[38;5;124m빵빠레\u001b[39m\u001b[38;5;124m'\u001b[39m: \u001b[38;5;241m1800\u001b[39m, \u001b[38;5;124m'\u001b[39m\u001b[38;5;124m월드콘\u001b[39m\u001b[38;5;124m'\u001b[39m: \u001b[38;5;241m1500\u001b[39m, \u001b[38;5;124m'\u001b[39m\u001b[38;5;124m메로나\u001b[39m\u001b[38;5;124m'\u001b[39m: \u001b[38;5;241m1000\u001b[39m}\n\u001b[1;32m----> 4\u001b[0m \u001b[43micecream\u001b[49m\u001b[43m[\u001b[49m\u001b[38;5;124;43m'\u001b[39;49m\u001b[38;5;124;43m누가바\u001b[39;49m\u001b[38;5;124;43m'\u001b[39;49m\u001b[43m]\u001b[49m\n\u001b[0;32m      6\u001b[0m \u001b[38;5;66;03m# '누가바'라는 key 값이 없기 때문에 keyerror 발생\u001b[39;00m\n",
      "\u001b[1;31mKeyError\u001b[0m: '누가바'"
     ]
    }
   ],
   "source": [
    "# 090\n",
    "\n",
    "icecream = {'폴라포': 1200, '빵빠레': 1800, '월드콘': 1500, '메로나': 1000}\n",
    "icecream['누가바']\n",
    "\n",
    "# '누가바'라는 key 값이 없기 때문에 keyerror 발생"
   ]
  },
  {
   "cell_type": "code",
   "execution_count": 1,
   "id": "997fbb4c-a68e-4ae9-b71f-5b42545e2c72",
   "metadata": {},
   "outputs": [
    {
     "name": "stdout",
     "output_type": "stream",
     "text": [
      "{'merona': [300, 20], 'bibibic': [400, 3], 'jawsbar': [250, 100]}\n"
     ]
    }
   ],
   "source": [
    "# 091\n",
    "\n",
    "inventory = {'merona': [300, 20], 'bibibic': [400, 3], 'jawsbar': [250, 100]}\n",
    "print(inventory)"
   ]
  },
  {
   "cell_type": "code",
   "execution_count": 2,
   "id": "8b94d86e-1b13-48fa-a71e-95dc3a63d5ba",
   "metadata": {},
   "outputs": [
    {
     "name": "stdout",
     "output_type": "stream",
     "text": [
      "300 원\n"
     ]
    }
   ],
   "source": [
    "# 092\n",
    "\n",
    "inventory = {'merona': [300, 20], 'bibibic': [400, 3], 'jawsbar': [250, 100]}\n",
    "print(inventory['merona'][0], '원')"
   ]
  },
  {
   "cell_type": "code",
   "execution_count": 3,
   "id": "8c4fb858-59d4-432d-beaf-1ef05874e818",
   "metadata": {},
   "outputs": [
    {
     "name": "stdout",
     "output_type": "stream",
     "text": [
      "20 개\n"
     ]
    }
   ],
   "source": [
    "# 093\n",
    "\n",
    "inventory = {'merona': [300, 20], 'bibibic': [400, 3], 'jawsbar': [250, 100]}\n",
    "print(inventory['merona'][1], '개')"
   ]
  },
  {
   "cell_type": "code",
   "execution_count": 5,
   "id": "91616994-4623-4d32-a070-d6e5f4170b91",
   "metadata": {},
   "outputs": [
    {
     "name": "stdout",
     "output_type": "stream",
     "text": [
      "{'merona': [300, 20], 'bibibic': [400, 3], 'jawsbar': [250, 100], 'worldcon': [500, 7]}\n"
     ]
    }
   ],
   "source": [
    "# 094\n",
    "\n",
    "inventory = {'merona': [300, 20], 'bibibic': [400, 3], 'jawsbar': [250, 100]}\n",
    "inventory.update({'worldcon': [500, 7]})\n",
    "print(inventory)"
   ]
  },
  {
   "cell_type": "markdown",
   "id": "336bb6ae-c561-4841-8b86-cec7622ec49d",
   "metadata": {},
   "source": [
    "### 딕셔너리 메서드\n",
    "\n",
    "- `.keys()`: 딕셔너리로부터 key 값만 출력\n",
    "- `.values()`: 딕셔너리로부터 value 값만 출력\n",
    "- `.update()`: 딕셔너리에 새로운 key, value 값을 추가\n",
    "   - mutable하기 때문에 원본에 값이 추가 및 삭제된다."
   ]
  },
  {
   "cell_type": "code",
   "execution_count": 14,
   "id": "d25e4e90-45c8-47fd-a2e6-e08cb15baafc",
   "metadata": {},
   "outputs": [
    {
     "name": "stdout",
     "output_type": "stream",
     "text": [
      "['tankboy', 'polapo', 'bbangparae', 'worldcon', 'merona']\n"
     ]
    }
   ],
   "source": [
    "# 095\n",
    "\n",
    "icecream = {'tankboy': 1200, 'polapo': 1200, 'bbangparae': 1800, 'worldcon': 1500, 'merona': 1000}\n",
    "ice = list(icecream.keys())\n",
    "print(ice)"
   ]
  },
  {
   "cell_type": "code",
   "execution_count": 17,
   "id": "cd307b82-bdb0-4665-aeb2-a5f7c8d023f2",
   "metadata": {},
   "outputs": [
    {
     "name": "stdout",
     "output_type": "stream",
     "text": [
      "[1200, 1200, 1800, 1500, 1000]\n"
     ]
    }
   ],
   "source": [
    "# 096\n",
    "\n",
    "icecream = {'tankboy': 1200, 'polapo': 1200, 'bbangparae': 1800, 'worldcon': 1500, 'merona': 1000}\n",
    "print(list(icecream.values()))"
   ]
  },
  {
   "cell_type": "code",
   "execution_count": 20,
   "id": "e0eceef3-b696-4911-ba5c-e08593b226cf",
   "metadata": {},
   "outputs": [
    {
     "name": "stdout",
     "output_type": "stream",
     "text": [
      "6700\n"
     ]
    }
   ],
   "source": [
    "# 097\n",
    "\n",
    "icecream = {'tankboy': 1200, 'polapo': 1200, 'bbangparae': 1800, 'worldcon': 1500, 'merona': 1000}\n",
    "print(sum(icecream.values()))"
   ]
  },
  {
   "cell_type": "code",
   "execution_count": 28,
   "id": "1bd52f7b-2fc4-4eeb-9ac6-7b5f0496e412",
   "metadata": {},
   "outputs": [
    {
     "name": "stdout",
     "output_type": "stream",
     "text": [
      "{'tankboy': 1200, 'polapo': 1200, 'bbangparae': 1800, 'worldcon': 1500, 'merona': 1000, 'ppatbingsu': 2700, 'amatna': 1000}\n"
     ]
    }
   ],
   "source": [
    "# 098\n",
    "\n",
    "icecream = {'tankboy': 1200, 'polapo': 1200, 'bbangparae': 1800, 'worldcon': 1500, 'merona': 1000}\n",
    "new_product = {'ppatbingsu': 2700, 'amatna': 1000}\n",
    "icecream.update(new_product)\n",
    "print(icecream)"
   ]
  },
  {
   "cell_type": "markdown",
   "id": "776e76a3-b446-4ad5-9f16-38c84eb9c825",
   "metadata": {},
   "source": [
    "### 딕셔너리 활용법\n",
    "\n",
    "- `zip`: 두 개의 튜플을 하나의 딕셔너리로 변환한다.\n",
    "  - 예시: `dict(zip(keys, vals))`\n",
    "- 딕셔너리의 key 값을 중괄호 안에 넣으면 대응하는 value 값을 출력한다.\n",
    "  - 예시: 환율 = {\"달러\": 1167,  \"엔\": 1.096,  \"유로\": 1268   \"위안\": 1\n",
    "    \n",
    "          환율['달러'] = 1167\n",
    "          환율['엔'] = 1.09671}"
   ]
  },
  {
   "cell_type": "code",
   "execution_count": 32,
   "id": "d520ee9e-40b9-4185-90d1-1f196b3daff1",
   "metadata": {},
   "outputs": [
    {
     "name": "stdout",
     "output_type": "stream",
     "text": [
      "{'apple': 300, 'pear': 250, 'peach': 400}\n"
     ]
    }
   ],
   "source": [
    "# 099\n",
    "\n",
    "keys = (\"apple\", \"pear\", \"peach\")\n",
    "vals = (300, 250, 400)\n",
    "result = dict(zip(keys, vals))\n",
    "print(result)"
   ]
  },
  {
   "cell_type": "code",
   "execution_count": null,
   "id": "99eb87d4-6e18-4f9e-9bdd-e24d04576045",
   "metadata": {},
   "outputs": [],
   "source": [
    "# 100\n",
    "\n",
    "date = ['09/05', '09/06', '09/07', '09/08', '09/09']\n",
    "close_price = [10500, 10300, 10100, 10800, 11000]\n"
   ]
  },
  {
   "cell_type": "code",
   "execution_count": null,
   "id": "d3afc245-1500-4dc6-b2db-ce1af63df8d0",
   "metadata": {},
   "outputs": [],
   "source": [
    "# 101\n",
    "\n",
    "# 파이썬에서 True 혹은 False를 갖는 데이터 타입\n",
    "bool"
   ]
  },
  {
   "cell_type": "code",
   "execution_count": 1,
   "id": "ad6eae85-0d85-433b-965a-13651415f6ed",
   "metadata": {},
   "outputs": [
    {
     "name": "stdout",
     "output_type": "stream",
     "text": [
      "False\n"
     ]
    }
   ],
   "source": [
    "# 102\n",
    "\n",
    "print(3 == 5)  # False"
   ]
  },
  {
   "cell_type": "code",
   "execution_count": 2,
   "id": "a49093bf-eefe-4d54-81a2-b374201fc473",
   "metadata": {},
   "outputs": [
    {
     "name": "stdout",
     "output_type": "stream",
     "text": [
      "True\n"
     ]
    }
   ],
   "source": [
    "# 103\n",
    "\n",
    "print(3 < 5) # True"
   ]
  },
  {
   "cell_type": "code",
   "execution_count": 3,
   "id": "b5a24084-80e9-40d0-accc-90739edb8878",
   "metadata": {},
   "outputs": [
    {
     "name": "stdout",
     "output_type": "stream",
     "text": [
      "True\n"
     ]
    }
   ],
   "source": [
    "# 104\n",
    "\n",
    "x = 4\n",
    "print(1 < x < 5) # True"
   ]
  },
  {
   "cell_type": "code",
   "execution_count": 4,
   "id": "11ee5b62-6f1f-42b8-b627-58e7591d5369",
   "metadata": {},
   "outputs": [
    {
     "name": "stdout",
     "output_type": "stream",
     "text": [
      "True\n"
     ]
    }
   ],
   "source": [
    "# 105\n",
    "\n",
    "print((3 == 3) and (4 != 3)) # True and True => True"
   ]
  },
  {
   "cell_type": "code",
   "execution_count": 5,
   "id": "be03dc01-59c5-4ba8-9dcd-c761e937be6c",
   "metadata": {},
   "outputs": [
    {
     "ename": "SyntaxError",
     "evalue": "expression cannot contain assignment, perhaps you meant \"==\"? (2390400816.py, line 3)",
     "output_type": "error",
     "traceback": [
      "\u001b[1;36m  Cell \u001b[1;32mIn[5], line 3\u001b[1;36m\u001b[0m\n\u001b[1;33m    print(3 => 4) # False\u001b[0m\n\u001b[1;37m          ^\u001b[0m\n\u001b[1;31mSyntaxError\u001b[0m\u001b[1;31m:\u001b[0m expression cannot contain assignment, perhaps you meant \"==\"?\n"
     ]
    }
   ],
   "source": [
    "# 106\n",
    "\n",
    "print(3 => 4) # =>가 아닌 >=가 적절하다."
   ]
  },
  {
   "cell_type": "code",
   "execution_count": 7,
   "id": "d2b9680f-578b-4687-8592-1b072ad4a233",
   "metadata": {},
   "outputs": [],
   "source": [
    "# 107\n",
    "\n",
    "if 4 < 3:\n",
    "    print(\"Hello World\")\n",
    "# 조건을 만족하지 않기 때문에 아무 결과도 출력되지 않는다."
   ]
  },
  {
   "cell_type": "code",
   "execution_count": 8,
   "id": "d5639173-6c02-4fbe-80e4-ee1704deabd1",
   "metadata": {},
   "outputs": [
    {
     "name": "stdout",
     "output_type": "stream",
     "text": [
      "Hi, there.\n"
     ]
    }
   ],
   "source": [
    "# 108\n",
    "\n",
    "if 4 < 3:\n",
    "    print(\"Hello World.\")\n",
    "else:\n",
    "    print(\"Hi, there.\")\n",
    "# Hi, there."
   ]
  },
  {
   "cell_type": "code",
   "execution_count": 10,
   "id": "7cbdc585-22f6-4753-b561-9f9f64eeb937",
   "metadata": {},
   "outputs": [
    {
     "name": "stdout",
     "output_type": "stream",
     "text": [
      "1\n",
      "2\n",
      "4\n"
     ]
    }
   ],
   "source": [
    "# 109\n",
    "\n",
    "if True:\n",
    "    print(\"1\")\n",
    "    print(\"2\")\n",
    "else:\n",
    "    print(\"3\")\n",
    "print(\"4\")\n",
    "\n",
    "# 1\n",
    "# 2\n",
    "# 4"
   ]
  },
  {
   "cell_type": "code",
   "execution_count": 11,
   "id": "6b053f5c-aa28-4f9a-919f-d6448d7a86c3",
   "metadata": {},
   "outputs": [
    {
     "name": "stdout",
     "output_type": "stream",
     "text": [
      "3\n",
      "5\n"
     ]
    }
   ],
   "source": [
    "# 110\n",
    "\n",
    "if True:\n",
    "    if False:\n",
    "        print(\"1\")\n",
    "        print(\"2\")\n",
    "    else:\n",
    "        print(\"3\")\n",
    "else:\n",
    "    print(\"4\")\n",
    "print(\"5\")\n",
    "# 3\n",
    "# 5"
   ]
  },
  {
   "cell_type": "code",
   "execution_count": 14,
   "id": "4ffe6811-1175-41a0-bcf5-f3d39be35e1d",
   "metadata": {},
   "outputs": [
    {
     "name": "stdin",
     "output_type": "stream",
     "text": [
      "문자를 입력하시오.:  안녕하세요\n"
     ]
    },
    {
     "name": "stdout",
     "output_type": "stream",
     "text": [
      "안녕하세요안녕하세요\n"
     ]
    }
   ],
   "source": [
    "# 111\n",
    "\n",
    "user_input = input('문자를 입력하시오.: ')\n",
    "print(user_input * 2)"
   ]
  },
  {
   "cell_type": "code",
   "execution_count": 17,
   "id": "b8286112-cb12-47ff-83a3-7d9120866090",
   "metadata": {},
   "outputs": [
    {
     "name": "stdin",
     "output_type": "stream",
     "text": [
      "숫자를 입력하시오.:  15\n"
     ]
    },
    {
     "name": "stdout",
     "output_type": "stream",
     "text": [
      "25\n"
     ]
    }
   ],
   "source": [
    "# 112\n",
    "\n",
    "user_input = int(input('숫자를 입력하시오.: '))\n",
    "print(user_input + 10)"
   ]
  },
  {
   "cell_type": "code",
   "execution_count": 19,
   "id": "b4b399ed-1cbb-4a9f-91f1-788c1f678e15",
   "metadata": {},
   "outputs": [
    {
     "name": "stdin",
     "output_type": "stream",
     "text": [
      "숫자를 입력하시오.:  12\n"
     ]
    },
    {
     "name": "stdout",
     "output_type": "stream",
     "text": [
      "짝수\n"
     ]
    }
   ],
   "source": [
    "# 113\n",
    "\n",
    "user_input = int(input('숫자를 입력하시오.: '))\n",
    "if user_input % 2 == 1:\n",
    "    print('홀수')\n",
    "else:\n",
    "    print('짝수')"
   ]
  },
  {
   "cell_type": "code",
   "execution_count": 25,
   "id": "6f424a22-90ee-46e1-a267-4a7d0dfda06a",
   "metadata": {},
   "outputs": [
    {
     "name": "stdin",
     "output_type": "stream",
     "text": [
      "입력값:  234\n"
     ]
    },
    {
     "name": "stdout",
     "output_type": "stream",
     "text": [
      "254\n"
     ]
    }
   ],
   "source": [
    "# 114\n",
    "\n",
    "user_input = int(input('입력값: '))\n",
    "result = user_input + 20\n",
    "if result > 255:\n",
    "    print('255')\n",
    "else:\n",
    "    print(result)"
   ]
  },
  {
   "cell_type": "code",
   "execution_count": 27,
   "id": "e458607f-d862-4a59-8255-30b5099c7340",
   "metadata": {},
   "outputs": [
    {
     "name": "stdin",
     "output_type": "stream",
     "text": [
      "입력값:  250\n"
     ]
    },
    {
     "name": "stdout",
     "output_type": "stream",
     "text": [
      "50\n"
     ]
    }
   ],
   "source": [
    "# 115\n",
    "\n",
    "user_input = int(input('입력값: '))\n",
    "result = user_input - 200\n",
    "if 0 > result:\n",
    "    print(0)\n",
    "elif result > 255:\n",
    "    print(255)\n",
    "else:\n",
    "    print(result)"
   ]
  },
  {
   "cell_type": "code",
   "execution_count": 4,
   "id": "fbdc898d-4d44-4576-a725-cb8e43b40f1d",
   "metadata": {},
   "outputs": [
    {
     "name": "stdin",
     "output_type": "stream",
     "text": [
      "현재시간:  15:38\n"
     ]
    },
    {
     "name": "stdout",
     "output_type": "stream",
     "text": [
      "정각이 아닙니다.\n"
     ]
    }
   ],
   "source": [
    "# 116\n",
    "\n",
    "user = input('현재시간: ')\n",
    "if user[-2:] == '00':\n",
    "    print('정각입니다.')\n",
    "else:\n",
    "    print('정각이 아닙니다.')"
   ]
  },
  {
   "cell_type": "code",
   "execution_count": 2,
   "id": "2b94c45d-a3ae-4c8f-9df4-edf540dfc548",
   "metadata": {},
   "outputs": [
    {
     "name": "stdin",
     "output_type": "stream",
     "text": [
      "좋아하는 과일은?:  샤인머스캣\n"
     ]
    },
    {
     "name": "stdout",
     "output_type": "stream",
     "text": [
      "오답입니다.\n"
     ]
    }
   ],
   "source": [
    "# 117\n",
    "\n",
    "fruit = ['사과', '포도', '홍시']\n",
    "answer = input('좋아하는 과일은?: ')\n",
    "if answer in fruit:\n",
    "    print('정답입니다.')\n",
    "else:\n",
    "    print('오답입니다.')"
   ]
  },
  {
   "cell_type": "code",
   "execution_count": 3,
   "id": "05c8a212-c590-4dc3-8eea-ff852a315562",
   "metadata": {},
   "outputs": [
    {
     "name": "stdin",
     "output_type": "stream",
     "text": [
      "종목명:  Naver\n"
     ]
    },
    {
     "name": "stdout",
     "output_type": "stream",
     "text": [
      "투자 경고 종목입니다.\n"
     ]
    }
   ],
   "source": [
    "# 118\n",
    "\n",
    "warn_investment_list = ['Microsoft', 'Google', 'Naver', 'Kakao', 'SAMSUNG', 'LG']\n",
    "answer = input('종목명: ')\n",
    "if answer in warn_investment_list:\n",
    "    print('투자 경고 종목입니다.')\n",
    "else:\n",
    "    print('투자 경고 종목이 아닙니다.')"
   ]
  },
  {
   "cell_type": "code",
   "execution_count": 5,
   "id": "fe0a44bc-77ba-4f00-bb1f-3986115721bd",
   "metadata": {},
   "outputs": [
    {
     "name": "stdin",
     "output_type": "stream",
     "text": [
      "제가 좋아하는 계절은:  summer\n"
     ]
    },
    {
     "name": "stdout",
     "output_type": "stream",
     "text": [
      "정답입니다.\n"
     ]
    }
   ],
   "source": [
    "# 119\n",
    "\n",
    "fruit = {'spring':'strawberry', 'summer':'tomato', 'autumn':'apple'}\n",
    "answer = input('제가 좋아하는 계절은: ')\n",
    "if answer in fruit.keys():\n",
    "    print('정답입니다.')\n",
    "else:\n",
    "    print('오답입니다.')"
   ]
  },
  {
   "cell_type": "code",
   "execution_count": 6,
   "id": "2743e164-f9f7-4e6c-8fb1-567288ec956f",
   "metadata": {},
   "outputs": [
    {
     "name": "stdin",
     "output_type": "stream",
     "text": [
      "좋아하는 과일은?:  한라봉\n"
     ]
    },
    {
     "name": "stdout",
     "output_type": "stream",
     "text": [
      "오답입니다.\n"
     ]
    }
   ],
   "source": [
    "# 120\n",
    "\n",
    "fruit = {'spring':'strawberry', 'summer':'tomato', 'autumn':'apple'}\n",
    "answer = input('좋아하는 과일은?: ')\n",
    "if answer in fruit.values():\n",
    "    print('정답입니다.')\n",
    "else:\n",
    "    print('오답입니다.')"
   ]
  },
  {
   "cell_type": "code",
   "execution_count": 15,
   "id": "136f9635-94d1-4410-b57a-c7c880e5da5e",
   "metadata": {},
   "outputs": [
    {
     "name": "stdin",
     "output_type": "stream",
     "text": [
      "문자 한 글자를 입력해 주세요.:  g\n"
     ]
    },
    {
     "name": "stdout",
     "output_type": "stream",
     "text": [
      "G\n"
     ]
    }
   ],
   "source": [
    "# 121\n",
    "\n",
    "user = input('문자 한 글자를 입력해 주세요.: ')\n",
    "if user.islower() is True:\n",
    "    print(user.upper())\n",
    "else:\n",
    "    print(user.lower())\n",
    "\n",
    "# is True는 생략 가능하다."
   ]
  },
  {
   "cell_type": "code",
   "execution_count": 17,
   "id": "853f0a0b-3f62-41cc-88a9-fc501c44a520",
   "metadata": {},
   "outputs": [
    {
     "name": "stdin",
     "output_type": "stream",
     "text": [
      "score:  54\n"
     ]
    },
    {
     "name": "stdout",
     "output_type": "stream",
     "text": [
      "C\n"
     ]
    }
   ],
   "source": [
    "# 122\n",
    "\n",
    "score = int(input('score: '))\n",
    "if score <= 20:\n",
    "    print('E')\n",
    "elif score <= 40:\n",
    "    print('D')\n",
    "elif score <= 60:\n",
    "    print('C')\n",
    "elif score <= 80:\n",
    "    print('B')\n",
    "elif score <= 100:\n",
    "    print('A')"
   ]
  },
  {
   "cell_type": "code",
   "execution_count": 33,
   "id": "1490f667-bcc9-472c-bbeb-2142c13eb1aa",
   "metadata": {},
   "outputs": [
    {
     "name": "stdin",
     "output_type": "stream",
     "text": [
      "입력:  100 dps\n",
      "입력:  100 엔\n"
     ]
    },
    {
     "name": "stdout",
     "output_type": "stream",
     "text": [
      "109.60000000000001 원\n"
     ]
    }
   ],
   "source": [
    "# 123\n",
    "# 금액과 통화명 사이에 공백을 넣어 입력한다고 가정한다. (달러, 엔, 유로, 위안)\n",
    "\n",
    "user = input('입력: ')\n",
    "if user[-2:] == '달러':\n",
    "    print(int(user[:-3])*1167, '달러')\n",
    "elif user[-1] == '엔':\n",
    "    print(float(user[:-2])*1.096, '엔')\n",
    "elif user[-2:] == '유로':\n",
    "    print(int(user[:-3])*1268, '유로')\n",
    "elif user[-2:] == '위안':\n",
    "    print(int(user[:-3])*171, '위안')\n",
    "\n",
    "## 풀이\n",
    "환율 = {'달러': 1167, '엔': 1.096, '유로': 1268, '위안': 171}\n",
    "\n",
    "환율['엔']\n",
    "user = input('입력: ')\n",
    "num, currency = user.split()\n",
    "print(float(num) * 환율[currency], '원')"
   ]
  },
  {
   "cell_type": "code",
   "execution_count": 34,
   "id": "06369215-766a-416f-8584-1f4b54d53a48",
   "metadata": {},
   "outputs": [
    {
     "name": "stdin",
     "output_type": "stream",
     "text": [
      "number1:  1\n",
      "number2:  2\n",
      "number3:  3\n"
     ]
    },
    {
     "name": "stdout",
     "output_type": "stream",
     "text": [
      "3.0\n"
     ]
    }
   ],
   "source": [
    "# 124\n",
    "\n",
    "number1 = float(input('number1: '))\n",
    "number2 = float(input('number2: '))\n",
    "number3 = float(input('number3: '))\n",
    "\n",
    "if number1 > (number2 and number3):\n",
    "    print(number1)\n",
    "elif number2 > (number1 and number3):\n",
    "    print(number2)\n",
    "elif number3 > (number1 and number2):\n",
    "    print(number3)"
   ]
  },
  {
   "cell_type": "code",
   "execution_count": 41,
   "id": "9c218521-672a-46fb-9377-057b1c1d96d2",
   "metadata": {},
   "outputs": [
    {
     "name": "stdin",
     "output_type": "stream",
     "text": [
      "휴대전화 번호 입력:  010-7777-7777\n"
     ]
    },
    {
     "name": "stdout",
     "output_type": "stream",
     "text": [
      "당신은 알수없음 사용자입니다.\n"
     ]
    },
    {
     "name": "stdin",
     "output_type": "stream",
     "text": [
      "휴대전화 번호 입력:  016-7-7\n"
     ]
    },
    {
     "name": "stdout",
     "output_type": "stream",
     "text": [
      "당신은 KT 사용자입니다.\n"
     ]
    },
    {
     "name": "stdin",
     "output_type": "stream",
     "text": [
      "휴대전화 번호 입력:  019-7-7\n"
     ]
    },
    {
     "name": "stdout",
     "output_type": "stream",
     "text": [
      "당신은 LGU 사용자입니다.\n"
     ]
    }
   ],
   "source": [
    "# 125\n",
    "\n",
    "phone = {'011': 'SKT', '016': 'KT', '019': 'LGU', '010': '알수없음'}\n",
    "user = input('휴대전화 번호 입력: ')\n",
    "head_number, middle, last = user.split('-')\n",
    "print(f'당신은 {phone[head_number]} 사용자입니다.')\n",
    "\n",
    "# 풀이\n",
    "number = input('휴대전화 번호 입력: ')\n",
    "num = number.split('-')[0]\n",
    "if num == '011':\n",
    "    com = 'SKT'\n",
    "elif num == '016':\n",
    "    com = 'KT'\n",
    "elif num == '019':\n",
    "    com = 'LGU'\n",
    "else:\n",
    "    com = '알수없음'\n",
    "print(f'당신은 {com} 사용자입니다.')\n",
    "\n",
    "# 내가 수정한 풀이\n",
    "phone = {'011': 'SKT', '016': 'KT', '019': 'LGU', '010': '알수없음'}\n",
    "user = input('휴대전화 번호 입력: ')\n",
    "head_number = user.split('-')[0]\n",
    "print(f'당신은 {phone[head_number]} 사용자입니다.')"
   ]
  },
  {
   "cell_type": "code",
   "execution_count": 44,
   "id": "8a1ffa39-54a6-402a-9c1f-fd013680d16b",
   "metadata": {},
   "outputs": [
    {
     "name": "stdin",
     "output_type": "stream",
     "text": [
      "우편번호:  014\n"
     ]
    },
    {
     "name": "stdout",
     "output_type": "stream",
     "text": [
      "도봉구\n"
     ]
    },
    {
     "name": "stdin",
     "output_type": "stream",
     "text": [
      "우편번호:  012\n"
     ]
    },
    {
     "name": "stdout",
     "output_type": "stream",
     "text": [
      "강북구\n"
     ]
    }
   ],
   "source": [
    "# 126\n",
    "\n",
    "user = input('우편번호: ')\n",
    "\n",
    "if 0 <= int(user[2]) <= 2:\n",
    "    print('강북구')\n",
    "elif 3 <= int(user[2]) <= 5:\n",
    "    print('도봉구')\n",
    "elif 6 <= int(user[2]) <= 9:\n",
    "    print('노원구')\n",
    "\n",
    "# 풀이\n",
    "우편번호 = input('우편번호: ')\n",
    "우편번호 = 우편번호[:3]\n",
    "if 우편번호 in ['010', '011', '012']:\n",
    "    print('강북구')\n",
    "elif 우편번호 in ['014', '015', '016']:\n",
    "    print('도봉구')\n",
    "else:\n",
    "    print('노원구')"
   ]
  },
  {
   "cell_type": "code",
   "execution_count": 3,
   "id": "82a979b5-5584-4a0d-9114-6805641d857b",
   "metadata": {},
   "outputs": [
    {
     "name": "stdin",
     "output_type": "stream",
     "text": [
      "주민등록번호:  001001-4567891\n"
     ]
    },
    {
     "name": "stdout",
     "output_type": "stream",
     "text": [
      "여자\n"
     ]
    }
   ],
   "source": [
    "# 127\n",
    "\n",
    "user_num = input('주민등록번호: ')\n",
    "sex = user_num.split('-')[1][0]\n",
    "if sex == ('1' or '3'):\n",
    "    print('남자')\n",
    "else:\n",
    "    print('여자')"
   ]
  },
  {
   "cell_type": "code",
   "execution_count": 6,
   "id": "cad61957-96be-488c-921d-15488b85fc6b",
   "metadata": {},
   "outputs": [
    {
     "name": "stdin",
     "output_type": "stream",
     "text": [
      "주민등록번호:  123456-0081234\n"
     ]
    },
    {
     "name": "stdout",
     "output_type": "stream",
     "text": [
      "서울입니다.\n"
     ]
    }
   ],
   "source": [
    "# 128\n",
    "\n",
    "user_num = input('주민등록번호: ')\n",
    "region = user_num.split('-')[1][1:3]\n",
    "if '00' <= region <= '08':\n",
    "    print('서울입니다.')\n",
    "else:\n",
    "    print('서울이 아닙니다.')"
   ]
  },
  {
   "cell_type": "code",
   "execution_count": 16,
   "id": "3689a9f4-6dd4-4a02-9c70-084fc907b547",
   "metadata": {},
   "outputs": [
    {
     "name": "stdin",
     "output_type": "stream",
     "text": [
      "주민등록번호:  821010-1635210\n"
     ]
    },
    {
     "name": "stdout",
     "output_type": "stream",
     "text": [
      "유효하지 않은 주민등록번호입니다.\n"
     ]
    },
    {
     "name": "stdin",
     "output_type": "stream",
     "text": [
      "주민등록번호:  821010-1635210\n"
     ]
    },
    {
     "name": "stdout",
     "output_type": "stream",
     "text": [
      "유효하지 않은 주민등록번호입니다.\n"
     ]
    }
   ],
   "source": [
    "# 129\n",
    "\n",
    "user_num = input('주민등록번호: ')\n",
    "f = user_num.split('-')[0]\n",
    "l = user_num.split('-')[1]\n",
    "result1 = (int(f[0]) * 2) + (int(f[1]) * 3) + (int(f[2]) * 4) + (int(f[3]) * 5) + (int(f[4]) * 6) + (int(f[5]) * 7) + (int(l[0]) * 8) + (int(l[1]) * 9) + (int(l[2]) * 2) + (int(l[3]) * 3) + (int(l[4]) * 4) + (int(l[5]) * 5)\n",
    "result2 = 11 - (result1 % 11)\n",
    "if result2 == l[6]:\n",
    "    print('유효한 주민등록번호입니다.')\n",
    "else:\n",
    "    print('유효하지 않은 주민등록번호입니다.')\n",
    "\n",
    "# 동영상 풀이\n",
    "data = input('주민등록번호: ')\n",
    "data = data.replace('-', '')\n",
    "계산1 = int(data[0]) * 2 + \\\n",
    "        int(data[1]) * 3 + \\\n",
    "        int(data[2]) * 4 + \\\n",
    "        int(data[3]) * 5 + \\\n",
    "        int(data[4]) * 6 + \\\n",
    "        int(data[5]) * 7 + \\\n",
    "        int(data[6]) * 8 + \\\n",
    "        int(data[7]) * 9 + \\\n",
    "        int(data[8]) * 2 + \\\n",
    "        int(data[9]) * 3 + \\\n",
    "        int(data[10]) * 4 + \\\n",
    "        int(data[11]) * 5\n",
    "계산1 = 계산1 % 11\n",
    "계산2 = 11 - 계산1\n",
    "if data[-1] == 계산2:\n",
    "    print('유효한 주민등록번호입니다.')\n",
    "else:\n",
    "    print('유효하지 않은 주민등록번호입니다.')\n",
    "# 괄호가 없는 경우 식 안에서 줄바꿈하려면 역슬래시를 추가해야 한다. "
   ]
  },
  {
   "cell_type": "code",
   "execution_count": 21,
   "id": "5e5e782b-66bb-40f3-8728-69e534faa90f",
   "metadata": {},
   "outputs": [
    {
     "name": "stdout",
     "output_type": "stream",
     "text": [
      "상승장\n"
     ]
    }
   ],
   "source": [
    "# 130\n",
    "\n",
    "import requests\n",
    "btc = requests.get(\"https://api.bithumb.com/public/ticker/\").json()['data']\n",
    "fluc_range = float(btc['max_price']) - float(btc['min_price'])\n",
    "if float(btc['opening_price']) + fluc_range > float(btc['max_price']):\n",
    "    print('상승장')\n",
    "else:\n",
    "    print('하락장')"
   ]
  },
  {
   "cell_type": "markdown",
   "id": "a5fa3274-3b4b-49de-9ad6-0d9f0400c6bd",
   "metadata": {},
   "source": [
    "## `for`문\n",
    "\n",
    "- 들여쓰기된 코드가 자료구조에 저장된 데이터 개수만큼 반복되는 특징이 있다.\n",
    "- `for`문을 작성할 때는,\n",
    "    1. 변하는 값을 변수에 바인딩한다.\n",
    "    2. 변하는 부분을 `for`문의 자료구조 자리에 위치시킨다.\n",
    "    3. 변하지 않는 코드는 들여쓰기 후에 작성한다.\n",
    "- `enumerate(iterable, star='')`를 이용하는 방법\r\n",
    "  - 내장함수의 하나로, `idx`와 `value`를 함께 활용할 수 있다.\r\n",
    "  - `enumerate()` 사용 시 첫 번째 자리에 `idx`, 두 번째 자리에 임시변수 자리에서 순회하는 `요소`를 출력한다.\r\n",
    "  - `star=''`를 사용하여 시작 `idx`를 지정할 수도 있다.\n",
    "\n",
    "\n",
    "\n",
    "#### 참고 내용\n",
    "- print() 함수는 입력한 값을 한칸의 공백과 함께 이어붙여 출력한다.\n",
    "- 변수에 바인딩한 자료값이 괄호 안에 있지 않을 때, 여러 줄로 입력할 경우 역슬리시`\\` 추가 필수"
   ]
  },
  {
   "cell_type": "code",
   "execution_count": 1,
   "id": "bb4a74cc-6241-483f-a4d7-bbb336757fa3",
   "metadata": {},
   "outputs": [
    {
     "name": "stdout",
     "output_type": "stream",
     "text": [
      "apple\n",
      "orange\n",
      "watermelon\n"
     ]
    }
   ],
   "source": [
    "# 131\n",
    "\n",
    "fruits = ['apple', 'orange', 'watermelon']\n",
    "for fruit in fruits:\n",
    "    print(fruit)"
   ]
  },
  {
   "cell_type": "code",
   "execution_count": 2,
   "id": "85be2674-d92e-468c-a2e8-844f03dde95b",
   "metadata": {},
   "outputs": [
    {
     "name": "stdout",
     "output_type": "stream",
     "text": [
      "#####\n",
      "#####\n",
      "#####\n"
     ]
    }
   ],
   "source": [
    "# 132\n",
    "\n",
    "fruits = ['apple', 'orange', 'watermelon']\n",
    "for fruit in fruits:\n",
    "    print('#####')"
   ]
  },
  {
   "cell_type": "code",
   "execution_count": 5,
   "id": "e5aa69ae-0fbb-46db-a6c0-f841cc0d7e62",
   "metadata": {},
   "outputs": [
    {
     "name": "stdout",
     "output_type": "stream",
     "text": [
      "A\n",
      "B\n",
      "C\n",
      "\n",
      "A\n",
      "B\n",
      "C\n"
     ]
    }
   ],
   "source": [
    "# 133\n",
    "\n",
    "for i in ['A', 'B', 'C']:\n",
    "    print(i)\n",
    "\n",
    "print()\n",
    "\n",
    "# 변수 바인딩=>출력 과정을 자료구조 데이터 개수만큼 반복하기 때문에 하기 코드와 동일한 기능 수행\n",
    "i = 'A'\n",
    "print(i)\n",
    "i = 'B'\n",
    "print(i)\n",
    "i = 'C'\n",
    "print(i)"
   ]
  },
  {
   "cell_type": "code",
   "execution_count": 7,
   "id": "2e37a73a-702e-42ac-b507-da595ffee2d4",
   "metadata": {},
   "outputs": [
    {
     "name": "stdout",
     "output_type": "stream",
     "text": [
      "출력:  A\n",
      "출력:  B\n",
      "출력:  C\n",
      "\n",
      "출력:  A\n",
      "출력:  B\n",
      "출력:  C\n"
     ]
    }
   ],
   "source": [
    "# 134\n",
    "\n",
    "for i in ['A', 'B', 'C']:\n",
    "    print('출력: ', i)\n",
    "\n",
    "print()\n",
    "\n",
    "# 상기 코드와 동일한 동작을 하는 코드\n",
    "print('출력: ', 'A')\n",
    "print('출력: ', 'B')\n",
    "print('출력: ', 'C')"
   ]
  },
  {
   "cell_type": "code",
   "execution_count": 8,
   "id": "5b68d853-48f2-4718-a89c-50de6d48dfe0",
   "metadata": {},
   "outputs": [
    {
     "name": "stdout",
     "output_type": "stream",
     "text": [
      "변환:  a\n",
      "변환:  b\n",
      "변환:  c\n",
      "\n",
      "변환:  a\n",
      "변환:  b\n",
      "변환:  c\n"
     ]
    }
   ],
   "source": [
    "# 135\n",
    "\n",
    "for i in ['A', 'B', 'C']:\n",
    "    b = i.lower()\n",
    "    print('변환: ', b)\n",
    "\n",
    "print()\n",
    "\n",
    "# 상기 코드와 동일한 동작을 하는 코드\n",
    "print('변환: ', 'A'.lower())\n",
    "print('변환: ', 'B'.lower())\n",
    "print('변환: ', 'C'.lower())"
   ]
  },
  {
   "cell_type": "code",
   "execution_count": 12,
   "id": "5bfc6890-2baf-49f1-ac95-001f2fccd37a",
   "metadata": {},
   "outputs": [
    {
     "name": "stdout",
     "output_type": "stream",
     "text": [
      "10\n",
      "20\n",
      "30\n",
      "\n",
      "10\n",
      "20\n",
      "30\n"
     ]
    }
   ],
   "source": [
    "# 136\n",
    "\n",
    "i = 10\n",
    "print(i)\n",
    "i = 20\n",
    "print(i)\n",
    "i = 30\n",
    "print(i)\n",
    "\n",
    "print()\n",
    "\n",
    "# 상기 코드와 동일한 동작을 하는 코드\n",
    "for i in [10, 20, 30]:\n",
    "    print(i)"
   ]
  },
  {
   "cell_type": "code",
   "execution_count": null,
   "id": "adce4e06-dfa9-45d6-bf27-0f3275106205",
   "metadata": {},
   "outputs": [],
   "source": [
    "# 137\n",
    "\n",
    "print(10)\n",
    "print(20)\n",
    "print(30)\n",
    "\n",
    "print()\n",
    "\n",
    "# 상기 코드와 동일한 동작을 하는 코드\n",
    "for i in [10, 20, 30]:\n",
    "    print(i)"
   ]
  },
  {
   "cell_type": "code",
   "execution_count": 21,
   "id": "10ea15e4-2b55-4ee0-9f63-d25db25a5c92",
   "metadata": {},
   "outputs": [
    {
     "name": "stdout",
     "output_type": "stream",
     "text": [
      "10\n",
      "-------\n",
      "20\n",
      "-------\n",
      "30\n",
      "-------\n",
      "\n",
      "10 \n",
      " -------\n",
      "20 \n",
      " -------\n",
      "30 \n",
      " -------\n",
      "\n",
      "10\n",
      "-------\n",
      "20\n",
      "-------\n",
      "30\n",
      "-------\n"
     ]
    }
   ],
   "source": [
    "# 138\n",
    "\n",
    "print(10)\n",
    "print('-------')\n",
    "print(20)\n",
    "print('-------')\n",
    "print(30)\n",
    "print('-------')\n",
    "\n",
    "print()\n",
    "\n",
    "# 상기 코드와 동일한 동작을 하는 코드\n",
    "for i in [10, 20, 30]:\n",
    "    print(i, '\\n', '-------')\n",
    "\n",
    "print()\n",
    "\n",
    "# 풀이\n",
    "for i in [10, 20, 30]:\n",
    "    print(i)\n",
    "    print('-------')"
   ]
  },
  {
   "cell_type": "code",
   "execution_count": 23,
   "id": "4c10d3b0-6dea-40df-81c1-a2644d3e4cbf",
   "metadata": {},
   "outputs": [
    {
     "name": "stdout",
     "output_type": "stream",
     "text": [
      "++++\n",
      "10\n",
      "20\n",
      "30\n",
      "\n",
      "++++\n",
      "10\n",
      "20\n",
      "30\n"
     ]
    }
   ],
   "source": [
    "# 139\n",
    "\n",
    "print('++++')\n",
    "print(10)\n",
    "print(20)\n",
    "print(30)\n",
    "\n",
    "print()\n",
    "\n",
    "#상기 코드와 동일한 동작을 하는 코드\n",
    "print('++++')\n",
    "for i in [10, 20, 30]:\n",
    "    print(i)"
   ]
  },
  {
   "cell_type": "code",
   "execution_count": 24,
   "id": "2c22ee89-5230-42fa-a4f0-7577a62b7271",
   "metadata": {},
   "outputs": [
    {
     "name": "stdout",
     "output_type": "stream",
     "text": [
      "-------\n",
      "-------\n",
      "-------\n",
      "-------\n",
      "\n",
      "-------\n",
      "-------\n",
      "-------\n",
      "-------\n"
     ]
    }
   ],
   "source": [
    "# 140\n",
    "\n",
    "print('-------')\n",
    "print('-------')\n",
    "print('-------')\n",
    "print('-------')\n",
    "\n",
    "print()\n",
    "\n",
    "#상기 코드와 동일한 동작을 하는 코드\n",
    "for i in [1, 2, 3, 4]:\n",
    "    print('-------')"
   ]
  },
  {
   "cell_type": "code",
   "execution_count": 14,
   "id": "5b29ced7-707f-4290-86e0-06a1b9e9ad67",
   "metadata": {},
   "outputs": [
    {
     "name": "stdout",
     "output_type": "stream",
     "text": [
      "110\n",
      "210\n",
      "310\n",
      "\n",
      "110\n",
      "210\n",
      "310\n"
     ]
    }
   ],
   "source": [
    "# 141\n",
    "\n",
    "list = [100, 200, 300]\n",
    "for i in list:\n",
    "    i += 10\n",
    "    print(i)\n",
    "\n",
    "print()\n",
    "\n",
    "# 풀이\n",
    "list = [100, 200, 300]\n",
    "for i in list:\n",
    "    print(i + 10)"
   ]
  },
  {
   "cell_type": "code",
   "execution_count": 16,
   "id": "c79f1e3f-8025-40ca-9c4d-5b52b974a0a6",
   "metadata": {},
   "outputs": [
    {
     "name": "stdout",
     "output_type": "stream",
     "text": [
      "오늘의 메뉴: gimbap\n",
      "오늘의 메뉴: ramyeon\n",
      "오늘의 메뉴: fries\n"
     ]
    }
   ],
   "source": [
    "# 142\n",
    "\n",
    "list = ['gimbap', 'ramyeon', 'fries']\n",
    "for menu in list:\n",
    "    print('오늘의 메뉴:', menu)"
   ]
  },
  {
   "cell_type": "code",
   "execution_count": 18,
   "id": "911fcad1-ed9f-4767-bb81-9a38048e7099",
   "metadata": {},
   "outputs": [
    {
     "name": "stdout",
     "output_type": "stream",
     "text": [
      "2\n",
      "7\n",
      "2\n"
     ]
    }
   ],
   "source": [
    "# 143\n",
    "\n",
    "list = ['SK', 'SAMSUNG', 'LG']\n",
    "\n",
    "for i in list:\n",
    "    print(len(i))"
   ]
  },
  {
   "cell_type": "code",
   "execution_count": 20,
   "id": "f4596ca3-4581-41a9-a8db-8d59d7cfb64d",
   "metadata": {},
   "outputs": [
    {
     "name": "stdout",
     "output_type": "stream",
     "text": [
      "dog 3\n",
      "cat 3\n",
      "parrot 6\n"
     ]
    }
   ],
   "source": [
    "# 144\n",
    "\n",
    "list = ['dog', 'cat', 'parrot']\n",
    "for animal in list:\n",
    "    print(animal, len(animal))"
   ]
  },
  {
   "cell_type": "code",
   "execution_count": 22,
   "id": "a748b99e-3cb4-4cf8-866d-02195f8d3fdb",
   "metadata": {},
   "outputs": [
    {
     "name": "stdout",
     "output_type": "stream",
     "text": [
      "d\n",
      "c\n",
      "p\n"
     ]
    }
   ],
   "source": [
    "# 145\n",
    "\n",
    "list = ['dog', 'cat', 'parrot']\n",
    "for animal in list:\n",
    "    print(animal[0])"
   ]
  },
  {
   "cell_type": "code",
   "execution_count": 24,
   "id": "43a6541c-3bc2-4c9b-9f2e-5c6f031ca554",
   "metadata": {},
   "outputs": [
    {
     "name": "stdout",
     "output_type": "stream",
     "text": [
      "3 x 1\n",
      "3 x 2\n",
      "3 x 3\n",
      "\n",
      "3 x 1\n",
      "3 x 2\n",
      "3 x 3\n"
     ]
    }
   ],
   "source": [
    "# 146\n",
    "\n",
    "list = [1, 2, 3]\n",
    "for num in list:\n",
    "    print('3 x', num)\n",
    "\n",
    "print()\n",
    "\n",
    "# 풀이\n",
    "list = [1, 2, 3]\n",
    "for num in list:\n",
    "    print('3 x ' + str(num))"
   ]
  },
  {
   "cell_type": "code",
   "execution_count": 28,
   "id": "4770f6d7-6dd3-43ee-bef0-1dd972724453",
   "metadata": {},
   "outputs": [
    {
     "name": "stdout",
     "output_type": "stream",
     "text": [
      "3 x 1 = 3\n",
      "3 x 2 = 6\n",
      "3 x 3 = 9\n",
      "\n",
      "3 x 1 = 3\n",
      "3 x 2 = 6\n",
      "3 x 3 = 9\n",
      "\n",
      "3 x 1 = 3\n",
      "3 x 2 = 6\n",
      "3 x 3 = 9\n"
     ]
    }
   ],
   "source": [
    "# 147\n",
    "\n",
    "list = [1, 2, 3]\n",
    "for num in list:\n",
    "    print('3 x', num, '=', (3*num))\n",
    "\n",
    "print()\n",
    "\n",
    "# 풀이\n",
    "list = [1, 2, 3]\n",
    "for num in list:\n",
    "    print('3 x {} = {}'.format(num, 3*num))\n",
    "    \n",
    "print()\n",
    "\n",
    "# 내가 수정한 풀이\n",
    "list = [1, 2, 3]\n",
    "for num in list:\n",
    "    print(f'3 x {num} = {3*num}')"
   ]
  },
  {
   "cell_type": "code",
   "execution_count": 32,
   "id": "ab508413-088e-4394-976a-938b5ad54b0a",
   "metadata": {},
   "outputs": [
    {
     "name": "stdout",
     "output_type": "stream",
     "text": [
      "나\n",
      "다\n",
      "라\n",
      "\n",
      "나\n",
      "다\n",
      "라\n"
     ]
    }
   ],
   "source": [
    "# 148\n",
    "\n",
    "list = ['가', '나', '다', '라']\n",
    "for i in list:\n",
    "    if i in list[1:]:\n",
    "        print(i)\n",
    "\n",
    "print()\n",
    "\n",
    "# 풀이\n",
    "list = ['가', '나', '다', '라']\n",
    "for i in list[1:]:\n",
    "    print(i)"
   ]
  },
  {
   "cell_type": "code",
   "execution_count": 34,
   "id": "a3809b42-9cc3-409d-93e3-df647ee19532",
   "metadata": {},
   "outputs": [
    {
     "name": "stdout",
     "output_type": "stream",
     "text": [
      "가\n",
      "다\n"
     ]
    }
   ],
   "source": [
    "# 149\n",
    "\n",
    "list = ['가', '나', '다', '라']\n",
    "for i in list[::2]:\n",
    "    print(i)"
   ]
  },
  {
   "cell_type": "code",
   "execution_count": 35,
   "id": "a071c058-8526-4b47-ba96-a68e96d3bc03",
   "metadata": {},
   "outputs": [
    {
     "name": "stdout",
     "output_type": "stream",
     "text": [
      "라\n",
      "다\n",
      "나\n",
      "가\n"
     ]
    }
   ],
   "source": [
    "# 150\n",
    "\n",
    "list = ['가', '나', '다', '라']\n",
    "for i in list[::-1]:\n",
    "    print(i)"
   ]
  },
  {
   "cell_type": "code",
   "execution_count": 2,
   "id": "9d8a87f2-918d-49c7-88f3-775334598119",
   "metadata": {},
   "outputs": [
    {
     "name": "stdout",
     "output_type": "stream",
     "text": [
      "-20\n",
      "-3\n"
     ]
    }
   ],
   "source": [
    "# 151\n",
    "\n",
    "list = [3, -20, -3, 44]\n",
    "for num in list:\n",
    "    if num < 0:\n",
    "        print(num)"
   ]
  },
  {
   "cell_type": "code",
   "execution_count": 3,
   "id": "c8515a41-5a44-4e16-9cf8-832fa46c78c4",
   "metadata": {},
   "outputs": [
    {
     "name": "stdout",
     "output_type": "stream",
     "text": [
      "3\n"
     ]
    }
   ],
   "source": [
    "# 152\n",
    "\n",
    "list = [3, 100, 23, 44]\n",
    "for num in list:\n",
    "    if num % 3 == 0:\n",
    "        print(num)"
   ]
  },
  {
   "cell_type": "code",
   "execution_count": 4,
   "id": "def89ecf-49d3-4c0e-8ac6-2afdc9a51fac",
   "metadata": {},
   "outputs": [
    {
     "name": "stdout",
     "output_type": "stream",
     "text": [
      "12\n",
      "18\n"
     ]
    }
   ],
   "source": [
    "# 153\n",
    "\n",
    "list = [13, 21, 12, 14, 30, 18]\n",
    "for num in list:\n",
    "    if num % 3 == 0 and num < 20:\n",
    "        print(num)"
   ]
  },
  {
   "cell_type": "code",
   "execution_count": 5,
   "id": "430b9a19-006f-4f0f-8bda-9680489e02d5",
   "metadata": {},
   "outputs": [
    {
     "name": "stdout",
     "output_type": "stream",
     "text": [
      "study\n",
      "python\n",
      "language\n"
     ]
    }
   ],
   "source": [
    "# 154\n",
    "\n",
    "list = ['I', 'study', 'python', 'language', '!']\n",
    "for sentence in list:\n",
    "    if len(sentence) >= 3:\n",
    "        print(sentence)"
   ]
  },
  {
   "cell_type": "code",
   "execution_count": 7,
   "id": "f91ec38a-9abf-4be6-b76f-29bcbaae23b9",
   "metadata": {},
   "outputs": [
    {
     "name": "stdout",
     "output_type": "stream",
     "text": [
      "A\n",
      "D\n"
     ]
    }
   ],
   "source": [
    "# 155\n",
    "\n",
    "list = ['A', 'b', 'c', 'D']\n",
    "for i in list:\n",
    "    if i.isupper():\n",
    "        print(i)"
   ]
  },
  {
   "cell_type": "code",
   "execution_count": 8,
   "id": "c0d786cd-bd42-456d-9c3e-06a41c945137",
   "metadata": {},
   "outputs": [
    {
     "name": "stdout",
     "output_type": "stream",
     "text": [
      "b\n",
      "c\n"
     ]
    }
   ],
   "source": [
    "# 156\n",
    "\n",
    "list = ['A', 'b', 'c', 'D']\n",
    "for i in list:\n",
    "    if i.islower():\n",
    "        print(i)"
   ]
  },
  {
   "cell_type": "code",
   "execution_count": 2,
   "id": "586d1661-74cc-4de4-93e6-ec9336d7f775",
   "metadata": {},
   "outputs": [
    {
     "name": "stdout",
     "output_type": "stream",
     "text": [
      "Dog\n",
      "Cat\n",
      "Parrot\n"
     ]
    }
   ],
   "source": [
    "# 157\n",
    "\n",
    "list = ['dog', 'cat', 'parrot']\n",
    "for i in list:\n",
    "    result = i.capitalize()\n",
    "    print(result)"
   ]
  },
  {
   "cell_type": "code",
   "execution_count": 13,
   "id": "61c39ec7-a937-463c-aa07-e76cb93303d9",
   "metadata": {},
   "outputs": [
    {
     "name": "stdout",
     "output_type": "stream",
     "text": [
      "hello\n",
      "ex01\n",
      "intro\n",
      "\n",
      "hello\n",
      "ex01\n",
      "intro\n"
     ]
    }
   ],
   "source": [
    "# 158\n",
    "\n",
    "list = ['hello.py', 'ex01.py', 'intro.hwp']\n",
    "for name in list:\n",
    "    file, extension = name.split('.')\n",
    "    print(file)\n",
    "\n",
    "print()\n",
    "# 풀이\n",
    "list = ['hello.py', 'ex01.py', 'intro.hwp']\n",
    "for name in list:\n",
    "    result = name.split('.')\n",
    "    print(result[0])"
   ]
  },
  {
   "cell_type": "code",
   "execution_count": 24,
   "id": "6781089f-ef0f-4915-92e4-9e16e321339b",
   "metadata": {},
   "outputs": [
    {
     "name": "stdout",
     "output_type": "stream",
     "text": [
      "intra.h\n",
      "define.h\n",
      "\n",
      "intra.h\n",
      "define.h\n",
      "\n",
      "intra.h\n",
      "define.h\n"
     ]
    }
   ],
   "source": [
    "# 159\n",
    "\n",
    "list = ['intra.h', 'intra.c', 'define.h', 'run.py']\n",
    "for name in list:\n",
    "    if '.h' in name:\n",
    "        print(name)\n",
    "\n",
    "print()\n",
    "# 추가 작성한 풀이\n",
    "list = ['intra.h', 'intra.c', 'define.h', 'run.py']\n",
    "for name in list:\n",
    "    result = name.split('.')\n",
    "    if result[1] == 'h':\n",
    "        print(result[0]+'.'+result[1])\n",
    "\n",
    "print()\n",
    "# 풀이\n",
    "list = ['intra.h', 'intra.c', 'define.h', 'run.py']\n",
    "for name in list:\n",
    "    result = name.split('.')\n",
    "    if result[1] == 'h':\n",
    "        print(name)"
   ]
  },
  {
   "cell_type": "code",
   "execution_count": 32,
   "id": "9e8b90e1-9eae-461a-b9dc-ed5315348164",
   "metadata": {},
   "outputs": [
    {
     "name": "stdout",
     "output_type": "stream",
     "text": [
      "intra.h\n",
      "intra.c\n",
      "define.h\n",
      "\n",
      "intra.h\n",
      "intra.c\n",
      "define.h\n"
     ]
    }
   ],
   "source": [
    "# 160\n",
    "\n",
    "list = ['intra.h', 'intra.c', 'define.h', 'run.py']\n",
    "for name in list:\n",
    "    result = name.split('.')\n",
    "    if result[1] == 'h':\n",
    "        print(name)\n",
    "    elif result[1] == 'c':\n",
    "        print(name)\n",
    "\n",
    "print()\n",
    "# 풀이\n",
    "list = ['intra.h', 'intra.c', 'define.h', 'run.py']\n",
    "for name in list:\n",
    "    result = name.split('.')\n",
    "    if (result[1] == 'h') or (result[1] == 'c'):\n",
    "        print(name)"
   ]
  },
  {
   "cell_type": "code",
   "execution_count": 43,
   "id": "043a637c-ed4d-4592-859b-d782c95e78c5",
   "metadata": {},
   "outputs": [
    {
     "name": "stdout",
     "output_type": "stream",
     "text": [
      "0\n",
      "1\n",
      "2\n",
      "3\n",
      "4\n",
      "5\n",
      "6\n",
      "7\n",
      "8\n",
      "9\n",
      "10\n",
      "11\n",
      "12\n",
      "13\n",
      "14\n",
      "15\n",
      "16\n",
      "17\n",
      "18\n",
      "19\n",
      "20\n",
      "21\n",
      "22\n",
      "23\n",
      "24\n",
      "25\n",
      "26\n",
      "27\n",
      "28\n",
      "29\n",
      "30\n",
      "31\n",
      "32\n",
      "33\n",
      "34\n",
      "35\n",
      "36\n",
      "37\n",
      "38\n",
      "39\n",
      "40\n",
      "41\n",
      "42\n",
      "43\n",
      "44\n",
      "45\n",
      "46\n",
      "47\n",
      "48\n",
      "49\n",
      "50\n",
      "51\n",
      "52\n",
      "53\n",
      "54\n",
      "55\n",
      "56\n",
      "57\n",
      "58\n",
      "59\n",
      "60\n",
      "61\n",
      "62\n",
      "63\n",
      "64\n",
      "65\n",
      "66\n",
      "67\n",
      "68\n",
      "69\n",
      "70\n",
      "71\n",
      "72\n",
      "73\n",
      "74\n",
      "75\n",
      "76\n",
      "77\n",
      "78\n",
      "79\n",
      "80\n",
      "81\n",
      "82\n",
      "83\n",
      "84\n",
      "85\n",
      "86\n",
      "87\n",
      "88\n",
      "89\n",
      "90\n",
      "91\n",
      "92\n",
      "93\n",
      "94\n",
      "95\n",
      "96\n",
      "97\n",
      "98\n",
      "99\n"
     ]
    }
   ],
   "source": [
    "# 161\n",
    "\n",
    "for i in range(0, 100):\n",
    "    print(i)"
   ]
  },
  {
   "cell_type": "code",
   "execution_count": 50,
   "id": "504628e4-841e-42fe-9c6f-d71de6be313c",
   "metadata": {},
   "outputs": [
    {
     "name": "stdout",
     "output_type": "stream",
     "text": [
      "2002\n",
      "2006\n",
      "2010\n",
      "2014\n",
      "2018\n",
      "2022\n",
      "2026\n",
      "2030\n",
      "2034\n",
      "2038\n",
      "2042\n",
      "2046\n",
      "2050\n"
     ]
    }
   ],
   "source": [
    "# 162\n",
    "\n",
    "for worldcup in range(2002, 2051, 4):\n",
    "    print(worldcup)"
   ]
  },
  {
   "cell_type": "code",
   "execution_count": 53,
   "id": "929779a1-d608-4596-bc60-8e4c541096df",
   "metadata": {},
   "outputs": [
    {
     "name": "stdout",
     "output_type": "stream",
     "text": [
      "3\n",
      "6\n",
      "9\n",
      "12\n",
      "15\n",
      "18\n",
      "21\n",
      "24\n",
      "27\n",
      "30\n"
     ]
    }
   ],
   "source": [
    "# 163\n",
    "\n",
    "for num in range(3, 31, 3):\n",
    "    print(num)"
   ]
  },
  {
   "cell_type": "code",
   "execution_count": 60,
   "id": "d03d9afb-8b21-431e-b511-f843b0e7811c",
   "metadata": {},
   "outputs": [
    {
     "name": "stdout",
     "output_type": "stream",
     "text": [
      "99\n",
      "98\n",
      "97\n",
      "96\n",
      "95\n",
      "94\n",
      "93\n",
      "92\n",
      "91\n",
      "90\n",
      "89\n",
      "88\n",
      "87\n",
      "86\n",
      "85\n",
      "84\n",
      "83\n",
      "82\n",
      "81\n",
      "80\n",
      "79\n",
      "78\n",
      "77\n",
      "76\n",
      "75\n",
      "74\n",
      "73\n",
      "72\n",
      "71\n",
      "70\n",
      "69\n",
      "68\n",
      "67\n",
      "66\n",
      "65\n",
      "64\n",
      "63\n",
      "62\n",
      "61\n",
      "60\n",
      "59\n",
      "58\n",
      "57\n",
      "56\n",
      "55\n",
      "54\n",
      "53\n",
      "52\n",
      "51\n",
      "50\n",
      "49\n",
      "48\n",
      "47\n",
      "46\n",
      "45\n",
      "44\n",
      "43\n",
      "42\n",
      "41\n",
      "40\n",
      "39\n",
      "38\n",
      "37\n",
      "36\n",
      "35\n",
      "34\n",
      "33\n",
      "32\n",
      "31\n",
      "30\n",
      "29\n",
      "28\n",
      "27\n",
      "26\n",
      "25\n",
      "24\n",
      "23\n",
      "22\n",
      "21\n",
      "20\n",
      "19\n",
      "18\n",
      "17\n",
      "16\n",
      "15\n",
      "14\n",
      "13\n",
      "12\n",
      "11\n",
      "10\n",
      "9\n",
      "8\n",
      "7\n",
      "6\n",
      "5\n",
      "4\n",
      "3\n",
      "2\n",
      "1\n",
      "0\n",
      "\n",
      "99\n",
      "98\n",
      "97\n",
      "96\n",
      "95\n",
      "94\n",
      "93\n",
      "92\n",
      "91\n",
      "90\n",
      "89\n",
      "88\n",
      "87\n",
      "86\n",
      "85\n",
      "84\n",
      "83\n",
      "82\n",
      "81\n",
      "80\n",
      "79\n",
      "78\n",
      "77\n",
      "76\n",
      "75\n",
      "74\n",
      "73\n",
      "72\n",
      "71\n",
      "70\n",
      "69\n",
      "68\n",
      "67\n",
      "66\n",
      "65\n",
      "64\n",
      "63\n",
      "62\n",
      "61\n",
      "60\n",
      "59\n",
      "58\n",
      "57\n",
      "56\n",
      "55\n",
      "54\n",
      "53\n",
      "52\n",
      "51\n",
      "50\n",
      "49\n",
      "48\n",
      "47\n",
      "46\n",
      "45\n",
      "44\n",
      "43\n",
      "42\n",
      "41\n",
      "40\n",
      "39\n",
      "38\n",
      "37\n",
      "36\n",
      "35\n",
      "34\n",
      "33\n",
      "32\n",
      "31\n",
      "30\n",
      "29\n",
      "28\n",
      "27\n",
      "26\n",
      "25\n",
      "24\n",
      "23\n",
      "22\n",
      "21\n",
      "20\n",
      "19\n",
      "18\n",
      "17\n",
      "16\n",
      "15\n",
      "14\n",
      "13\n",
      "12\n",
      "11\n",
      "10\n",
      "9\n",
      "8\n",
      "7\n",
      "6\n",
      "5\n",
      "4\n",
      "3\n",
      "2\n",
      "1\n",
      "0\n"
     ]
    }
   ],
   "source": [
    "# 164\n",
    "\n",
    "for num in range(99, -1, -1):\n",
    "    print(num)\n",
    "\n",
    "print()\n",
    "# 풀이\n",
    "for num in range(100):\n",
    "    print(99 - num)"
   ]
  },
  {
   "cell_type": "code",
   "execution_count": 3,
   "id": "c1099b3c-cda8-41d1-998e-f664f8dac229",
   "metadata": {},
   "outputs": [
    {
     "name": "stdout",
     "output_type": "stream",
     "text": [
      "0.0\n",
      "0.1\n",
      "0.2\n",
      "0.3\n",
      "0.4\n",
      "0.5\n",
      "0.6\n",
      "0.7\n",
      "0.8\n",
      "0.9\n"
     ]
    }
   ],
   "source": [
    "# 165\n",
    "\n",
    "for num in range(10):\n",
    "    print(num / 10)"
   ]
  },
  {
   "cell_type": "code",
   "execution_count": 7,
   "id": "474882aa-72bc-476e-8cf5-3c2bc1a36c59",
   "metadata": {},
   "outputs": [
    {
     "name": "stdout",
     "output_type": "stream",
     "text": [
      "3x1 = 3\n",
      "3x2 = 6\n",
      "3x3 = 9\n",
      "3x4 = 12\n",
      "3x5 = 15\n",
      "3x6 = 18\n",
      "3x7 = 21\n",
      "3x8 = 24\n",
      "3x9 = 27\n"
     ]
    }
   ],
   "source": [
    "# 166\n",
    "\n",
    "for num in range(1, 10):\n",
    "    result = 3 * num\n",
    "    print('3x'+str(num)+' = '+str(result))"
   ]
  },
  {
   "cell_type": "code",
   "execution_count": 9,
   "id": "6412c609-4f6b-44c9-b023-7d5385b96a54",
   "metadata": {},
   "outputs": [
    {
     "name": "stdout",
     "output_type": "stream",
     "text": [
      "3x1 = 3\n",
      "3x3 = 9\n",
      "3x5 = 15\n",
      "3x7 = 21\n",
      "3x9 = 27\n",
      "\n",
      "3 x 1 = 3\n",
      "3 x 3 = 9\n",
      "3 x 5 = 15\n",
      "3 x 7 = 21\n",
      "3 x 9 = 27\n"
     ]
    }
   ],
   "source": [
    "# 167\n",
    "\n",
    "for num in range(1, 10, 2):\n",
    "    result = 3 * num\n",
    "    print('3x'+str(num)+' = '+str(result))\n",
    "\n",
    "print()\n",
    "# 풀이\n",
    "num = 3\n",
    "for i in range(1, 10):\n",
    "    if i % 2 == 1:\n",
    "        print(num, 'x', i, '=', num*i)"
   ]
  },
  {
   "cell_type": "code",
   "execution_count": 16,
   "id": "3da2ffb1-c83c-4062-bb41-ec732ca5b3d4",
   "metadata": {},
   "outputs": [
    {
     "name": "stdout",
     "output_type": "stream",
     "text": [
      "합: 55\n",
      "\n",
      "합: 55\n"
     ]
    }
   ],
   "source": [
    "# 168\n",
    "\n",
    "result = 0\n",
    "for i in range(1, 11):\n",
    "    result += i\n",
    "    if i == 10:\n",
    "        print('합:', result)\n",
    "\n",
    "print()\n",
    "# 풀이\n",
    "result = 0\n",
    "for i in range(1, 11):\n",
    "    result += i\n",
    "print('합:', result)\n",
    "\n",
    "# print를 for문 밖으로 빼면 마지막 result 값만 받을 수 있다."
   ]
  },
  {
   "cell_type": "code",
   "execution_count": 2,
   "id": "8aa181fc-0fd7-4747-bcec-95b288fe0d84",
   "metadata": {},
   "outputs": [
    {
     "name": "stdout",
     "output_type": "stream",
     "text": [
      "합: 25\n",
      "\n",
      "합: 25\n"
     ]
    }
   ],
   "source": [
    "# 169\n",
    "\n",
    "result = 0\n",
    "for i in range(1, 11, 2):\n",
    "    result += i\n",
    "print('합:', result)\n",
    "\n",
    "print()\n",
    "# 추가로 쓴 풀이\n",
    "result = 0\n",
    "for i in range(1, 11):\n",
    "    if i % 2 == 1:\n",
    "        result += i\n",
    "print('합:', result)"
   ]
  },
  {
   "cell_type": "code",
   "execution_count": 1,
   "id": "116a73d7-13e9-4f44-adf3-c100b99c2874",
   "metadata": {},
   "outputs": [
    {
     "name": "stdout",
     "output_type": "stream",
     "text": [
      "3628800\n"
     ]
    }
   ],
   "source": [
    "# 170\n",
    "\n",
    "result = 1\n",
    "for num in range(1, 11):\n",
    "    result *= num\n",
    "print(result)"
   ]
  },
  {
   "cell_type": "code",
   "execution_count": 5,
   "id": "c41a2798-d86c-4d85-81c0-cd1c12c154c5",
   "metadata": {},
   "outputs": [
    {
     "name": "stdout",
     "output_type": "stream",
     "text": [
      "32100\n",
      "32150\n",
      "32000\n",
      "32500\n",
      "\n",
      "32100\n",
      "32150\n",
      "32000\n",
      "32500\n"
     ]
    }
   ],
   "source": [
    "# 171\n",
    "\n",
    "price_list = [32100, 32150, 32000, 32500]\n",
    "for data in price_list:\n",
    "    if data in range(30000, 40000):\n",
    "        print(data)\n",
    "\n",
    "print()\n",
    "# 풀이\n",
    "price_list = [32100, 32150, 32000, 32500]\n",
    "for data in range(len(price_list)):\n",
    "    print(price_list[data])"
   ]
  },
  {
   "cell_type": "code",
   "execution_count": 13,
   "id": "ad41c448-1be3-4d67-8980-06601166b192",
   "metadata": {},
   "outputs": [
    {
     "name": "stdout",
     "output_type": "stream",
     "text": [
      "0 32100\n",
      "1 32150\n",
      "2 32000\n",
      "3 32500\n",
      "\n",
      "0 32100\n",
      "1 32150\n",
      "2 32000\n",
      "3 32500\n",
      "\n",
      "(0, 32100)\n",
      "(1, 32150)\n",
      "(2, 32000)\n",
      "(3, 32500)\n"
     ]
    }
   ],
   "source": [
    "# 172\n",
    "\n",
    "price_list = [32100, 32150, 32000, 32500]\n",
    "for i in range(len(price_list)):\n",
    "    print(i, price_list[i])\n",
    "\n",
    "print()\n",
    "# 풀이\n",
    "price_list = [32100, 32150, 32000, 32500]\n",
    "for i, data in enumerate(price_list):\n",
    "    print(i, data)\n",
    "\n",
    "print()\n",
    "# 참고 코드\n",
    "price_list = [32100, 32150, 32000, 32500]\n",
    "for i in enumerate(price_list):\n",
    "    print(i)"
   ]
  },
  {
   "cell_type": "code",
   "execution_count": 3,
   "id": "14f07cf3-2821-47d9-bf8b-d9450352ac47",
   "metadata": {},
   "outputs": [
    {
     "name": "stdout",
     "output_type": "stream",
     "text": [
      "3 32100\n",
      "2 32150\n",
      "1 32000\n",
      "0 32500\n"
     ]
    }
   ],
   "source": [
    "# 173\n",
    "# 풀이\n",
    "price_list = [32100, 32150, 32000, 32500]\n",
    "for i in range(len(price_list)):\n",
    "    print((len(price_list) - 1) - i, price_list[i])\n",
    "# len(price_list)는 idx와 달리 0이 아닌 1부터 카운팅되기 때문에 (len-1)을 적용한다."
   ]
  },
  {
   "cell_type": "code",
   "execution_count": 19,
   "id": "aa12a9ef-8b5d-4636-b144-06b1566d9400",
   "metadata": {},
   "outputs": [
    {
     "name": "stdout",
     "output_type": "stream",
     "text": [
      "0.0 32100\n",
      "10.0 32150\n",
      "20.0 32000\n",
      "30.0 32500\n",
      "\n",
      "100 32150\n",
      "110 32000\n",
      "120 32500\n",
      "\n",
      "100 32150\n",
      "110 32000\n",
      "120 32500\n"
     ]
    }
   ],
   "source": [
    "# 174\n",
    "\n",
    "price_list = [32100, 32150, 32000, 32500]\n",
    "for i in range(len(price_list)):\n",
    "    print((100 * (i/10)), price_list[i])\n",
    "\n",
    "print()\n",
    "# 풀이\n",
    "price_list = [32100, 32150, 32000, 32500]\n",
    "for i in range(1, 4):\n",
    "    print(90+10*i, price_list[i])\n",
    "\n",
    "print()\n",
    "# 추가 수정한 풀이\n",
    "price_list = [32100, 32150, 32000, 32500]\n",
    "for i in range(1, 4):\n",
    "    print(round(100*(1+(i-1)/10)), price_list[i])"
   ]
  },
  {
   "cell_type": "code",
   "execution_count": 30,
   "id": "0c8f06be-c495-4a96-bd79-a8552adaace8",
   "metadata": {},
   "outputs": [
    {
     "name": "stdout",
     "output_type": "stream",
     "text": [
      "가 나\n",
      "나 다\n",
      "다 라\n",
      "\n",
      "가 나\n",
      "나 다\n",
      "다 라\n"
     ]
    }
   ],
   "source": [
    "# 175\n",
    "\n",
    "# int는 순회 가능하지 않다. (not iterable)\n",
    "my_list = ['가', '나', '다', '라']\n",
    "for i in range(1, len(my_list)):\n",
    "    print(my_list[i-1], my_list[i])\n",
    "\n",
    "print()\n",
    "# 풀이\n",
    "for i in range(len(my_list) - 1):\n",
    "    print(my_list[i], my_list[i+1])"
   ]
  },
  {
   "cell_type": "code",
   "execution_count": 13,
   "id": "7bccca71-025b-4499-8bc7-eaa10fb61345",
   "metadata": {},
   "outputs": [
    {
     "name": "stdout",
     "output_type": "stream",
     "text": [
      "가 나 다\n",
      "나 다 라\n",
      "다 라 마\n"
     ]
    }
   ],
   "source": [
    "# 176\n",
    "\n",
    "my_list = [\"가\", \"나\", \"다\", \"라\", \"마\"]\n",
    "\n",
    "for i in range(len(my_list) - 2):\n",
    "    print(my_list[i], my_list[i+1], my_list[i+2])"
   ]
  },
  {
   "cell_type": "code",
   "execution_count": 19,
   "id": "12f73963-a429-455c-a5d1-799f919577e9",
   "metadata": {},
   "outputs": [
    {
     "name": "stdout",
     "output_type": "stream",
     "text": [
      "라 다\n",
      "다 나\n",
      "나 가\n"
     ]
    }
   ],
   "source": [
    "# 177\n",
    "\n",
    "my_list = [\"가\", \"나\", \"다\", \"라\"]\n",
    "\n",
    "for i in range(len(my_list) - 1):\n",
    "    print(my_list[-(i+1)], my_list[-(i+2)])"
   ]
  },
  {
   "cell_type": "code",
   "execution_count": 21,
   "id": "45ca7af0-7155-4a5e-b674-dd107eeaa578",
   "metadata": {},
   "outputs": [
    {
     "name": "stdout",
     "output_type": "stream",
     "text": [
      "100\n",
      "200\n",
      "400\n"
     ]
    }
   ],
   "source": [
    "# 178\n",
    "\n",
    "my_list = [100, 200, 400, 800]\n",
    "\n",
    "for i in range(len(my_list)-1):\n",
    "    print(my_list[i+1] - my_list[i])\n",
    "# 절댓값 함수 abs()를 적용할 수도 있다."
   ]
  },
  {
   "cell_type": "code",
   "execution_count": 25,
   "id": "04747a78-e9bb-47f0-b3f4-de71ecbe8d20",
   "metadata": {},
   "outputs": [
    {
     "name": "stdout",
     "output_type": "stream",
     "text": [
      "233.33333333333334\n",
      "466.6666666666667\n",
      "733.3333333333334\n",
      "1033.3333333333333\n"
     ]
    }
   ],
   "source": [
    "# 179\n",
    "\n",
    "my_list = [100, 200, 400, 800, 1000, 1300]\n",
    "\n",
    "for i in range(len(my_list)-2):\n",
    "    print((my_list[i] + my_list[i+1] + my_list[i+2])/3)          "
   ]
  },
  {
   "cell_type": "code",
   "execution_count": 43,
   "id": "cecc090d-807e-4904-864a-0a144b2104d0",
   "metadata": {},
   "outputs": [
    {
     "name": "stdout",
     "output_type": "stream",
     "text": [
      "[50, 100, 30, 80, 0]\n"
     ]
    }
   ],
   "source": [
    "# 180\n",
    "\n",
    "low_prices  = [100, 200, 400, 800, 1000]\n",
    "high_prices = [150, 300, 430, 880, 1000]\n",
    "volatility = []\n",
    "for i in range(len(low_prices)):\n",
    "    volatility.append(high_prices[i] - low_prices[i])\n",
    "\n",
    "print(volatility)"
   ]
  },
  {
   "cell_type": "code",
   "execution_count": 46,
   "id": "46b59c81-9c59-4f22-8b23-8f928acd1705",
   "metadata": {},
   "outputs": [],
   "source": [
    "# 181\n",
    "\n",
    "apart = [['101호', '102호'],\n",
    "         ['201호', '202호'],\n",
    "         ['301호', '302호']]"
   ]
  },
  {
   "cell_type": "code",
   "execution_count": null,
   "id": "f00bc0f1-864a-48c8-8925-b10c6c4e1166",
   "metadata": {},
   "outputs": [],
   "source": [
    "# 182\n",
    "\n"
   ]
  },
  {
   "cell_type": "code",
   "execution_count": null,
   "id": "f3924528-9255-4775-bcd9-c604f975b2a0",
   "metadata": {},
   "outputs": [],
   "source": []
  },
  {
   "cell_type": "code",
   "execution_count": null,
   "id": "8f5efa99-158c-4f6c-937a-00b3d4ec4b2a",
   "metadata": {},
   "outputs": [],
   "source": []
  },
  {
   "cell_type": "code",
   "execution_count": null,
   "id": "c0a466e4-ae33-460d-82bc-80b9c2bc7577",
   "metadata": {},
   "outputs": [],
   "source": []
  },
  {
   "cell_type": "code",
   "execution_count": null,
   "id": "36070b40-dc54-40d7-b884-252d36f4a419",
   "metadata": {},
   "outputs": [],
   "source": []
  },
  {
   "cell_type": "code",
   "execution_count": null,
   "id": "b7b4130f-7872-4323-bc20-e687f80e25fa",
   "metadata": {},
   "outputs": [],
   "source": []
  },
  {
   "cell_type": "code",
   "execution_count": null,
   "id": "086304f6-f5d9-40ae-9dc3-2c712c7ce602",
   "metadata": {},
   "outputs": [],
   "source": []
  },
  {
   "cell_type": "code",
   "execution_count": null,
   "id": "f8096625-817d-46d3-bbe6-9c0292c3c24d",
   "metadata": {},
   "outputs": [],
   "source": []
  },
  {
   "cell_type": "code",
   "execution_count": null,
   "id": "bf5ab584-b7f9-40e8-870c-93d4d53b3843",
   "metadata": {},
   "outputs": [],
   "source": []
  },
  {
   "cell_type": "code",
   "execution_count": null,
   "id": "8cc43293-c36b-447b-9efb-33a78251b60e",
   "metadata": {},
   "outputs": [],
   "source": []
  },
  {
   "cell_type": "code",
   "execution_count": null,
   "id": "b73bc5c4-b898-4100-bf1d-e26a32595a2b",
   "metadata": {},
   "outputs": [],
   "source": []
  },
  {
   "cell_type": "code",
   "execution_count": null,
   "id": "b1015019-ab12-4d83-aec3-8aac4205a856",
   "metadata": {},
   "outputs": [],
   "source": []
  },
  {
   "cell_type": "code",
   "execution_count": null,
   "id": "d64fe128-9129-4f86-b83d-1ce2fea93597",
   "metadata": {},
   "outputs": [],
   "source": []
  },
  {
   "cell_type": "code",
   "execution_count": null,
   "id": "b8961343-32ea-4cfa-999b-bbb25ca3b2f7",
   "metadata": {},
   "outputs": [],
   "source": []
  },
  {
   "cell_type": "code",
   "execution_count": null,
   "id": "9783c126-c72e-4741-9228-4e33c333211f",
   "metadata": {},
   "outputs": [],
   "source": []
  },
  {
   "cell_type": "code",
   "execution_count": null,
   "id": "79127557-32a2-4e84-b8a1-5e4936e40579",
   "metadata": {},
   "outputs": [],
   "source": []
  },
  {
   "cell_type": "code",
   "execution_count": null,
   "id": "e9033220-23ea-40fe-b808-86010d0a204a",
   "metadata": {},
   "outputs": [],
   "source": []
  },
  {
   "cell_type": "code",
   "execution_count": null,
   "id": "5d50b1e3-18cf-49c4-97fb-5ada23e9cd66",
   "metadata": {},
   "outputs": [],
   "source": []
  },
  {
   "cell_type": "code",
   "execution_count": null,
   "id": "82916c1f-5b9e-4cb4-ad53-c935c5cd2c8b",
   "metadata": {},
   "outputs": [],
   "source": []
  },
  {
   "cell_type": "code",
   "execution_count": null,
   "id": "7af695d4-6c2a-4c85-8895-42fd15a1b637",
   "metadata": {},
   "outputs": [],
   "source": []
  },
  {
   "cell_type": "code",
   "execution_count": null,
   "id": "07611c5c-9140-417f-b94a-682362090dc3",
   "metadata": {},
   "outputs": [],
   "source": []
  },
  {
   "cell_type": "code",
   "execution_count": null,
   "id": "3d0a0245-d69f-4e96-bdb0-ccdcff9ea59f",
   "metadata": {},
   "outputs": [],
   "source": []
  },
  {
   "cell_type": "code",
   "execution_count": null,
   "id": "577686cb-b8ae-439c-9fcd-18979d7c3085",
   "metadata": {},
   "outputs": [],
   "source": []
  },
  {
   "cell_type": "code",
   "execution_count": null,
   "id": "3567f5ad-24d9-4cdd-9927-e5ca7d7df50e",
   "metadata": {},
   "outputs": [],
   "source": []
  }
 ],
 "metadata": {
  "kernelspec": {
   "display_name": "Python 3 (ipykernel)",
   "language": "python",
   "name": "python3"
  },
  "language_info": {
   "codemirror_mode": {
    "name": "ipython",
    "version": 3
   },
   "file_extension": ".py",
   "mimetype": "text/x-python",
   "name": "python",
   "nbconvert_exporter": "python",
   "pygments_lexer": "ipython3",
   "version": "3.11.6"
  }
 },
 "nbformat": 4,
 "nbformat_minor": 5
}
