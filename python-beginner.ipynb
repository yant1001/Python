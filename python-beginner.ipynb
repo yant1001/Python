{
 "cells": [
  {
   "cell_type": "code",
   "execution_count": null,
   "id": "a8c099e2-7f8f-4388-a5a5-81a2dad74d85",
   "metadata": {},
   "outputs": [],
   "source": [
    "# 001\n",
    "\n",
    "print('Hello World')"
   ]
  },
  {
   "cell_type": "code",
   "execution_count": null,
   "id": "35e38552-ef42-4dbc-a841-a68592119f06",
   "metadata": {},
   "outputs": [],
   "source": [
    "# 002\n",
    "\n",
    "print('Mary\\'s cosmetics')"
   ]
  },
  {
   "cell_type": "code",
   "execution_count": null,
   "id": "45b1f70f-1a6d-4169-b76b-826f0f941807",
   "metadata": {},
   "outputs": [],
   "source": [
    "# 003\n",
    "\n",
    "print('신씨가 소리질렀다. \"도둑이야\".')"
   ]
  },
  {
   "cell_type": "code",
   "execution_count": null,
   "id": "cc4956b1-8fce-44f4-aa3c-3487127798e8",
   "metadata": {},
   "outputs": [],
   "source": [
    "# 004\n",
    "\n",
    "print('C:\\Windows')"
   ]
  },
  {
   "cell_type": "code",
   "execution_count": null,
   "id": "f45a5044-1487-40f4-914a-84bea39f27c6",
   "metadata": {},
   "outputs": [],
   "source": [
    "# 005\n",
    "\n",
    "print(\"안녕하세요. \\n만나서\\t\\t반갑습니다.\")\n",
    "\n",
    "# \\n는 줄바꿈, \\t 탭 삽입"
   ]
  },
  {
   "cell_type": "code",
   "execution_count": null,
   "id": "0e1523fc-0726-4b6e-906f-17315d4c0f44",
   "metadata": {},
   "outputs": [],
   "source": [
    "# 006\n",
    "\n",
    "print(\"오늘은\", \"일요일\")\n",
    "\n",
    "# 여러 값을 출력 시 쉼표로 구분하면 공백으로 값을 구분하여 출력한다."
   ]
  },
  {
   "cell_type": "markdown",
   "id": "448747d9-55bf-46ad-a6eb-f51eeafc76c8",
   "metadata": {},
   "source": [
    "**sep인자**\n",
    "\n",
    "sep 인자를 활용하여 출력되는 값들 사이에 동일한 값을 삽입할 수 있다."
   ]
  },
  {
   "cell_type": "code",
   "execution_count": null,
   "id": "934f52c3-b0c2-40a9-8da3-e090b07b8de3",
   "metadata": {},
   "outputs": [],
   "source": [
    "# 007\n",
    "\n",
    "print('naver', 'kakao', 'sk', 'samsung', sep=';')"
   ]
  },
  {
   "cell_type": "code",
   "execution_count": null,
   "id": "558c5021-ed19-47b8-a7aa-25ea18f807d2",
   "metadata": {},
   "outputs": [],
   "source": [
    "# 008\n",
    "\n",
    "print('naver', 'kakao', 'sk', 'samsung', sep='/')"
   ]
  },
  {
   "cell_type": "code",
   "execution_count": null,
   "id": "0b132ed3-0da7-42b9-ab5a-42bab2e7022e",
   "metadata": {},
   "outputs": [],
   "source": [
    "# 009\n",
    "\n",
    "print(\"first\", end='');print(\"second\")"
   ]
  },
  {
   "cell_type": "code",
   "execution_count": null,
   "id": "becbf3cd-66d1-4687-9037-6dc51ce987a3",
   "metadata": {},
   "outputs": [],
   "source": [
    "# 010\n",
    "\n",
    "print(5/3)"
   ]
  },
  {
   "cell_type": "code",
   "execution_count": null,
   "id": "69d489d6-3a94-49f2-addf-ee04da317796",
   "metadata": {},
   "outputs": [],
   "source": [
    "# 011\n",
    "\n",
    "samsung = 50000\n",
    "total_eval = samsung * 10\n",
    "print(total_eval)"
   ]
  },
  {
   "cell_type": "code",
   "execution_count": null,
   "id": "12ad8a52-9af1-41a0-b607-fce3a04bc3b6",
   "metadata": {},
   "outputs": [],
   "source": [
    "# 012\n",
    "\n",
    "market_capital = 298000000000000\n",
    "current_price = 50000\n",
    "PER = 15.79\n",
    "print(market_capital)\n",
    "print(current_price)\n",
    "print(PER)"
   ]
  },
  {
   "cell_type": "code",
   "execution_count": null,
   "id": "efbb1396-c3a4-4b9f-bd65-796a12c40669",
   "metadata": {},
   "outputs": [],
   "source": [
    "# 013\n",
    "\n",
    "s = \"hello\"\n",
    "t = \"python\"\n",
    "\n",
    "print(s, t, sep='! ')\n",
    "print(s+'!', t)"
   ]
  },
  {
   "cell_type": "code",
   "execution_count": null,
   "id": "f92cfe59-d39b-4597-b9c3-21e3fcaeb5ff",
   "metadata": {},
   "outputs": [],
   "source": [
    "# 014\n",
    "\n",
    "a = 128\n",
    "print(type(a))\n",
    "\n",
    "b = \"132\"\n",
    "print(type(b))"
   ]
  },
  {
   "cell_type": "code",
   "execution_count": null,
   "id": "2bf891f2-2c0d-4fdc-bb15-9402dfbd4ed2",
   "metadata": {},
   "outputs": [],
   "source": [
    "# 016\n",
    "\n",
    "num_str = \"720\"\n",
    "num_int = int(num_str)\n",
    "\n",
    "print(num_int, type(num_int))"
   ]
  },
  {
   "cell_type": "code",
   "execution_count": null,
   "id": "2c1d721e-b259-42a1-b41b-0b29cb83e441",
   "metadata": {},
   "outputs": [],
   "source": [
    "# 017\n",
    "\n",
    "num = 100\n",
    "num_str = str(num)\n",
    "print(num_str, type(num_str))"
   ]
  },
  {
   "cell_type": "code",
   "execution_count": null,
   "id": "eef67ee7-d30a-43d4-bada-8391720a03ba",
   "metadata": {},
   "outputs": [],
   "source": [
    "# 018\n",
    "\n",
    "result = float('15.79')\n",
    "print(result, type(result))"
   ]
  },
  {
   "cell_type": "code",
   "execution_count": null,
   "id": "4e1235cb-aca9-4192-8296-8c2164160046",
   "metadata": {},
   "outputs": [],
   "source": [
    "# 019\n",
    "\n",
    "year = '2020'\n",
    "result = int(year)\n",
    "print(result - 3, result - 2, result - 1)"
   ]
  },
  {
   "cell_type": "code",
   "execution_count": null,
   "id": "0242f30d-dd00-432e-8c05-6e732bfd2bbe",
   "metadata": {},
   "outputs": [],
   "source": [
    "# 020\n",
    "\n",
    "ac_month = 48584\n",
    "total = ac_month * 36\n",
    "print(total)"
   ]
  },
  {
   "cell_type": "code",
   "execution_count": null,
   "id": "960c5822-63b9-4ea6-8f4b-dde228488b68",
   "metadata": {},
   "outputs": [],
   "source": [
    "# 021\n",
    "\n",
    "letters = 'python'\n",
    "print(letters[0], letters[2])"
   ]
  },
  {
   "cell_type": "markdown",
   "id": "7b1d9d92-fbe8-40f1-8162-2674452ea6f9",
   "metadata": {},
   "source": [
    "### 문자열 슬라이싱\n",
    "\n",
    "파이썬의 인덱스는 앞에서부터 0, 뒤에서부터 -1의 값을 갖는다.\n",
    "시작 인덱스를 생략하면 0으로 간주하고, 마지막 인덱스를 생략하면 문자열의 끝을 의미한다."
   ]
  },
  {
   "cell_type": "code",
   "execution_count": null,
   "id": "8a10bba3-7aed-49c1-83d3-69fb57387b39",
   "metadata": {},
   "outputs": [],
   "source": [
    "# 022\n",
    "\n",
    "license_plate = '24가 2210'\n",
    "print(license_plate[-4:])"
   ]
  },
  {
   "cell_type": "code",
   "execution_count": null,
   "id": "0903e852-dacf-4e7a-9011-4665fbb9827b",
   "metadata": {},
   "outputs": [],
   "source": [
    "# 023\n",
    "\n",
    "string = '홀짝홀짝홀짝'\n",
    "print(string[::2])"
   ]
  },
  {
   "cell_type": "code",
   "execution_count": null,
   "id": "5aafd7fc-bf3b-4820-854b-378dfbac0874",
   "metadata": {},
   "outputs": [],
   "source": [
    "# 024\n",
    "\n",
    "string = 'PYTHON'\n",
    "print(string[::-1])"
   ]
  },
  {
   "cell_type": "code",
   "execution_count": null,
   "id": "3749f43d-1b12-452a-b422-b01c576ea39d",
   "metadata": {},
   "outputs": [],
   "source": [
    "# 025\n",
    "\n",
    "phone_number = '010-1111-2222'\n",
    "print(phone_number.replace('-', ' '))\n",
    "\n",
    "# string은 immutable 자료형이므로 기존 문자열은 그대로 두고 새로운 문자열이 리턴된다."
   ]
  },
  {
   "cell_type": "code",
   "execution_count": null,
   "id": "deb54d71-d6d8-4b0a-986c-16d18084677e",
   "metadata": {},
   "outputs": [],
   "source": [
    "# 026\n",
    "\n",
    "print(phone_number.replace('-', ''))"
   ]
  },
  {
   "cell_type": "code",
   "execution_count": null,
   "id": "afbccc2f-220c-49cf-b475-32b0c91c8e6c",
   "metadata": {},
   "outputs": [],
   "source": [
    "# 027\n",
    "\n",
    "url = 'http://sharebook.kr'\n",
    "print(url[-2:])\n",
    "\n",
    "# 풀이 오답\n",
    "# 주어진 문자열에서 '.'을 기준으로 분리하면 어떤 url을 넣더라도 도메인만 출력할 수 있다.\n",
    "print(url.split('.')[-1])"
   ]
  },
  {
   "cell_type": "markdown",
   "id": "d6fc0cbb-7097-4288-8394-a57ff47aaa38",
   "metadata": {},
   "source": [
    "## 데이터의 분류\n",
    "> cf. 01_data_container\n",
    "\r\n",
    "1. 변경 불가능한(`immutable`) 데이터\r\n",
    "    - Reference(참조) 할 뿐, 값이 복사되지고 메모리 주소만 복사 전달된다.다.\r\n",
    "    - 원본 값하지 않고 새로운 객체를 생성한다변한다.\r\n",
    "    - 종류\r\n",
    "      - literal\r\n",
    "        - 숫자 (integer/float)\r\n",
    "        - 글자 (string)\r\n",
    "        - 참/거짓 (bool)\r\n",
    "      - range()\r\n",
    "      - tuple()\r\n",
    "      - frozenset()\r\n",
    "2. 변경 가능한(`mutable`) 데이터\r\n",
    "    - Value 타입으로, 값이 실제로 넘어가기 때문에 형태로  - 데??**\r\n",
    "    -  원본 이 변한다.\r\n",
    "       종류\n",
    "        -  lis\n",
    "        -   dict\r\n",
    "       -  set  -  d     -  set\r\n",
    "\r\n",
    "---\r\n",
    "\r\n"
   ]
  },
  {
   "cell_type": "code",
   "execution_count": null,
   "id": "63275a53-1b5d-49e8-be50-7c0645b375f9",
   "metadata": {},
   "outputs": [],
   "source": [
    "# 028\n",
    "\n",
    "lang = 'python'\n",
    "lang[0] = 'P'\n",
    "print(lang)\n",
    "\n",
    "# 문자열은 수정할 수 없는 immutable 변수이다."
   ]
  },
  {
   "cell_type": "code",
   "execution_count": null,
   "id": "1e705524-2cdc-4a03-b350-04a8c6bb373b",
   "metadata": {},
   "outputs": [],
   "source": [
    "# 029\n",
    "\n",
    "string = 'abcdfe2a354a32a'\n",
    "print(string.replace('a', 'A'))"
   ]
  },
  {
   "cell_type": "code",
   "execution_count": null,
   "id": "bd1493e1-a98f-4092-a0da-0e33e38eeaec",
   "metadata": {},
   "outputs": [],
   "source": [
    "# 030\n",
    "\n",
    "string = 'abcd'\n",
    "string.replace('b', 'B')\n",
    "print(string)"
   ]
  },
  {
   "cell_type": "code",
   "execution_count": null,
   "id": "5258bb9f-da7e-4700-a110-770bb8dbd482",
   "metadata": {},
   "outputs": [],
   "source": [
    "# 031\n",
    "\n",
    "a = '3'\n",
    "b = '4'\n",
    "print(a + b)"
   ]
  },
  {
   "cell_type": "code",
   "execution_count": null,
   "id": "c2387faa-2028-4411-b000-f73c8f22c866",
   "metadata": {},
   "outputs": [],
   "source": [
    "# 032\n",
    "\n",
    "print('Hi' * 3)"
   ]
  },
  {
   "cell_type": "code",
   "execution_count": null,
   "id": "cfe0cf15-8cee-46da-a895-1353f29f231d",
   "metadata": {},
   "outputs": [],
   "source": [
    "# 033\n",
    "\n",
    "print('-' * 80)"
   ]
  },
  {
   "cell_type": "code",
   "execution_count": null,
   "id": "aca61f36-5835-4cf2-adba-426d7a1f51be",
   "metadata": {},
   "outputs": [],
   "source": [
    "# 034\n",
    "\n",
    "t1 = 'python'\n",
    "t2 = 'java'\n",
    "\n",
    "print((t1 + ' ' + t2 + ' ') * 4)"
   ]
  },
  {
   "cell_type": "code",
   "execution_count": null,
   "id": "86ecac9a-123e-4796-a91b-49e90c3b86f0",
   "metadata": {},
   "outputs": [],
   "source": [
    "# 035\n",
    "\n",
    "name1 = \"김민수\" \n",
    "age1 = 10\n",
    "name2 = \"이철희\"\n",
    "age2 = 13\n",
    "\n",
    "print(f'이름: {name1} 나이: {age1}')\n",
    "print(f'이름: {name2} 나이: {age2}')\n",
    "\n",
    "# 풀이 답안: % formatting\n",
    "# '%s': 문자열 데이터 타입의 값의 출력\n",
    "# '%d': 정수형 데이터 타입 값의 출력\n",
    "print(\"이름: %s 나이: %d\" % (name1, age1))\n",
    "print(\"이름: %s 나이: %d\" % (name2, age2))"
   ]
  },
  {
   "cell_type": "code",
   "execution_count": null,
   "id": "c0d54c7d-bc36-4d4b-975c-827f8d566c00",
   "metadata": {},
   "outputs": [],
   "source": [
    "# 036\n",
    "\n",
    "name1 = \"김민수\" \n",
    "age1 = 10\n",
    "name2 = \"이철희\"\n",
    "age2 = 13\n",
    "\n",
    "# format() 메서드\n",
    "print('이름: {} 나이: {}'.format(name1, age1))\n",
    "print('이름: {} 나이: {}'.format(name2, age2))"
   ]
  },
  {
   "cell_type": "code",
   "execution_count": null,
   "id": "b77217fb-6079-40e4-a0ae-2b7d109ef4ca",
   "metadata": {},
   "outputs": [],
   "source": [
    "# 037\n",
    "\n",
    "# f-string => python 3.6ver 부터 지원\n",
    "name1 = \"김민수\" \n",
    "age1 = 10\n",
    "name2 = \"이철희\"\n",
    "age2 = 13\n",
    "\n",
    "print(f'이름: {name1} 나이: {age1}')\n",
    "print(f'이름: {name2} 나이: {age2}')"
   ]
  },
  {
   "cell_type": "code",
   "execution_count": null,
   "id": "f6df3290-269e-49e6-9246-219158583243",
   "metadata": {},
   "outputs": [],
   "source": [
    "# 038\n",
    "\n",
    "stock_num = '5,969,782,550'\n",
    "result = int(stock_num.replace(',', ''))\n",
    "print(result, type(result))"
   ]
  },
  {
   "cell_type": "code",
   "execution_count": null,
   "id": "c4e8928f-cd4e-427d-b590-9595b1808a63",
   "metadata": {},
   "outputs": [],
   "source": [
    "# 039\n",
    "\n",
    "q = '2020/03(E) (IFRS연결)'\n",
    "print(q[:7])"
   ]
  },
  {
   "cell_type": "code",
   "execution_count": null,
   "id": "c3e16a61-a8a3-464e-886c-638dee3108aa",
   "metadata": {},
   "outputs": [],
   "source": [
    "# 040\n",
    "\n",
    "data = \"   삼성전자    \"\n",
    "\n",
    "print(data.rstrip().lstrip())"
   ]
  },
  {
   "cell_type": "code",
   "execution_count": null,
   "id": "61b52691-5e7a-4b07-b160-bb777f740fb1",
   "metadata": {},
   "outputs": [],
   "source": [
    "# 041\n",
    "\n",
    "ticker = 'btc_krw'\n",
    "print(ticker.upper())"
   ]
  },
  {
   "cell_type": "code",
   "execution_count": null,
   "id": "c40aef3d-e4b7-4eb6-a58b-e472299a4ba4",
   "metadata": {},
   "outputs": [],
   "source": [
    "# 042\n",
    "\n",
    "ticker = 'BTC_KRW'\n",
    "print(ticker.lower())"
   ]
  },
  {
   "cell_type": "markdown",
   "id": "e7660384-a16f-4b7d-a6b4-5f0ee00fd0fe",
   "metadata": {},
   "source": [
    "### 대소문자 변환\n",
    "\n",
    "`.capitalize()`: 앞 글자를 대문자로 만들어 반환한다. \\\n",
    "`.tile()`: 어퍼스트로피(')나 공백 이후를 대문자로 만들어 반환한다. \\\n",
    "`.upper()`: 모두 대문자로 만들어 반환 \\\n",
    "`.lower()`: 모두 소문자로 만들어 반환 \\\n",
    "`.swapcase()`: 대소문자를 변경하여 반환"
   ]
  },
  {
   "cell_type": "code",
   "execution_count": null,
   "id": "5b7387ca-4e11-4e46-9a6f-fa5898470aea",
   "metadata": {},
   "outputs": [],
   "source": [
    "# 043\n",
    "\n",
    "result = 'hello'\n",
    "print(result.capitalize())"
   ]
  },
  {
   "cell_type": "markdown",
   "id": "8a49f691-7d69-47b7-93a9-584f67b47516",
   "metadata": {},
   "source": [
    "### startswith 메서드\n",
    "\n",
    "startswith 메서드를 활용하여 파일 이름이 특정 문자열로 시작하는지 확인할 수 있다.\n",
    "\n",
    "### endswith 메서드\n",
    "\n",
    "endswith 메서드를 활용하여 파일 이름이 특정 문자열로 끝나는게 맞는지 확인할 수 있다. \\\n",
    "여러 개의 특정 문자열 중 하나인지 확인할 경우에는 tuple을 사용한다."
   ]
  },
  {
   "cell_type": "code",
   "execution_count": null,
   "id": "bb4d550a-74f4-4c4c-8a22-3748897a8a7c",
   "metadata": {},
   "outputs": [],
   "source": [
    "# 044\n",
    "\n",
    "file_name = '보고서.xlsx'\n",
    "print(file_name.endswith('xlsx'))"
   ]
  },
  {
   "cell_type": "code",
   "execution_count": null,
   "id": "1749eeb1-8ca9-4de7-980b-22d4000ca1b8",
   "metadata": {},
   "outputs": [],
   "source": [
    "# 045\n",
    "\n",
    "file_name = '보고서.xlsx'\n",
    "print(file_name.endswith('xlsx' or 'xls'))\n",
    "print(file_name.endswith(('xlsx', 'xls')))"
   ]
  },
  {
   "cell_type": "code",
   "execution_count": null,
   "id": "75f955f8-c0d4-4f50-9761-1ed44f8dd63e",
   "metadata": {},
   "outputs": [],
   "source": [
    "# 046\n",
    "\n",
    "file_name = '2020_보고서.xlsx'\n",
    "print(file_name.startswith('2020'))\n"
   ]
  },
  {
   "cell_type": "code",
   "execution_count": null,
   "id": "6bd0537a-37d7-49f7-a352-004f41ee071e",
   "metadata": {},
   "outputs": [],
   "source": [
    "# 047\n",
    "\n",
    "a = 'hello world'\n",
    "print(a.split())"
   ]
  },
  {
   "cell_type": "code",
   "execution_count": null,
   "id": "bb88b7cd-1bfb-4644-bfd5-655ce69f7876",
   "metadata": {},
   "outputs": [],
   "source": [
    "# 048\n",
    "\n",
    "ticker = 'btc_krw'\n",
    "print(ticker.split('_'))"
   ]
  },
  {
   "cell_type": "code",
   "execution_count": null,
   "id": "2517e1d8-14a2-4457-a4d0-193524a79f9d",
   "metadata": {},
   "outputs": [],
   "source": [
    "# 049\n",
    "\n",
    "date = \"2020-05-01\"\n",
    "print(date.split('-'))"
   ]
  },
  {
   "cell_type": "code",
   "execution_count": null,
   "id": "48f66900-746e-4b27-be2e-d7dd115ccac1",
   "metadata": {},
   "outputs": [],
   "source": [
    "# 050\n",
    "\n",
    "data = \"039490     \"\n",
    "print(data.rstrip())"
   ]
  },
  {
   "cell_type": "code",
   "execution_count": null,
   "id": "7c2415f7-1da9-4e13-9349-60252fe151c2",
   "metadata": {},
   "outputs": [],
   "source": [
    "# 051\n",
    "\n",
    "movie_rank = ['doctor strange', 'split', 'lucky']\n",
    "print(movie_rank)"
   ]
  },
  {
   "cell_type": "code",
   "execution_count": null,
   "id": "1f1f4903-75d0-4a75-b854-f62648550c90",
   "metadata": {},
   "outputs": [],
   "source": [
    "# 052\n",
    "\n",
    "movie_rank.append('batman')\n",
    "print(movie_rank)"
   ]
  },
  {
   "cell_type": "code",
   "execution_count": null,
   "id": "c333b169-7358-49c6-ac21-a7661ed89897",
   "metadata": {},
   "outputs": [],
   "source": [
    "# 053\n",
    "\n",
    "movie_rank.insert(1, 'super man')\n",
    "print(movie_rank)"
   ]
  },
  {
   "cell_type": "code",
   "execution_count": null,
   "id": "68f6d9e9-3f3b-4d72-86b5-2c7acf2ef657",
   "metadata": {},
   "outputs": [],
   "source": [
    "# 054\n",
    "\n",
    "movie_rank = ['doctor strange', 'super man', 'split', 'lucky', 'batman', 'batman']\n",
    "movie_rank.remove('lucky')\n",
    "print(movie_rank)\n",
    "\n",
    "# remove는 하나의 값만 받는다.\n",
    "\n",
    "movie_rank = ['doctor strange', 'super man', 'split', 'lucky', 'batman', 'batman']\n",
    "del movie_rank[3]\n",
    "print(movie_rank)\n"
   ]
  },
  {
   "cell_type": "code",
   "execution_count": null,
   "id": "133fabce-395b-41d0-92e1-141371b66237",
   "metadata": {},
   "outputs": [],
   "source": [
    "# 055\n",
    "\n",
    "del movie_rank[2:]\n",
    "print(movie_rank)"
   ]
  },
  {
   "cell_type": "code",
   "execution_count": null,
   "id": "d4bb2eff-fd4b-41b8-9d93-124dc04b1570",
   "metadata": {},
   "outputs": [],
   "source": [
    "# 056\n",
    "\n",
    "lang1 = [\"C\", \"C++\", \"JAVA\"]\n",
    "lang2 = [\"Python\", \"Go\", \"C#\"]\n",
    "\n",
    "langs = lang1 + lang2\n",
    "print(langs)"
   ]
  },
  {
   "cell_type": "code",
   "execution_count": null,
   "id": "b354b188-3b73-4827-9665-fc0acb89e117",
   "metadata": {},
   "outputs": [],
   "source": [
    "# 057\n",
    "\n",
    "nums = [1, 2, 3, 4, 5, 6, 7]\n",
    "print(f'max:  {max(nums)}\\nmin:  {min(nums)}')\n",
    "print()\n",
    "print('max:  ', max(nums))\n",
    "print('min:  ', min(nums))"
   ]
  },
  {
   "cell_type": "code",
   "execution_count": null,
   "id": "f0d192e3-ca3e-49de-871f-31dc9c6d423f",
   "metadata": {},
   "outputs": [],
   "source": [
    "# 058\n",
    "\n",
    "nums = [1, 2, 3, 4, 5]\n",
    "sum(nums)"
   ]
  },
  {
   "cell_type": "code",
   "execution_count": null,
   "id": "d03295af-0a93-4339-9945-eb236bfb13f9",
   "metadata": {},
   "outputs": [],
   "source": [
    "# 059\n",
    "\n",
    "cook = ['pizza', 'kimbap', 'dumpling', 'chicken', 'pork feet', 'kimchi dumpling', 'jjolmyeon', 'sausage', 'ramen', 'shaved ice', 'kimchi pancake']\n",
    "len(cook)"
   ]
  },
  {
   "cell_type": "code",
   "execution_count": null,
   "id": "3db824dc-8560-4c1b-92cc-c4dc93ca2c21",
   "metadata": {},
   "outputs": [],
   "source": [
    "# 060\n",
    "\n",
    "nums = [1, 2, 3, 4, 5]\n",
    "sum(nums)/len(nums)"
   ]
  },
  {
   "cell_type": "code",
   "execution_count": null,
   "id": "76772e79-8741-470d-a8af-47bd04f34d08",
   "metadata": {},
   "outputs": [],
   "source": [
    "# 061\n",
    "\n",
    "price = ['20180728', 100, 130, 140, 150, 160, 170]\n",
    "print(price[1:])"
   ]
  },
  {
   "cell_type": "code",
   "execution_count": null,
   "id": "33f30a97-3324-4c10-a81d-3bdcfb21f8c0",
   "metadata": {},
   "outputs": [],
   "source": [
    "# 062\n",
    "\n",
    "nums = [1, 2, 3, 4, 5, 6, 7, 8, 9, 10]\n",
    "print(nums[::2])"
   ]
  },
  {
   "cell_type": "code",
   "execution_count": null,
   "id": "c3e17577-a224-4ee9-ab53-169045926ba1",
   "metadata": {},
   "outputs": [],
   "source": [
    "# 063\n",
    "\n",
    "nums = [1, 2, 3, 4, 5, 6, 7, 8, 9, 10]\n",
    "print(nums[1::2])"
   ]
  },
  {
   "cell_type": "code",
   "execution_count": null,
   "id": "9de59d24-dd66-4cb3-b3fc-85738c32f9e2",
   "metadata": {},
   "outputs": [],
   "source": [
    "# 064\n",
    "\n",
    "nums = [1, 2, 3, 4, 5]\n",
    "print(nums[::-1])"
   ]
  },
  {
   "cell_type": "code",
   "execution_count": null,
   "id": "38817196-33e7-4e4b-8115-f72efdbbb4e7",
   "metadata": {},
   "outputs": [],
   "source": [
    "# 065\n",
    "\n",
    "interest = ['samsung', 'lg', 'naver']\n",
    "print(interest[::2])\n",
    "print(interest[0], interest[2])"
   ]
  },
  {
   "cell_type": "code",
   "execution_count": null,
   "id": "5c5f363c-363e-4c19-8765-020a0c46f17e",
   "metadata": {},
   "outputs": [],
   "source": [
    "# 066\n",
    "\n",
    "interest = ['samsung', 'lg', 'naver', 'sk', 'mirae']\n",
    "print(' '.join(interest))"
   ]
  },
  {
   "cell_type": "code",
   "execution_count": null,
   "id": "c6fd73e2-11d2-41db-a8b9-4d0b78399960",
   "metadata": {},
   "outputs": [],
   "source": [
    "# 067\n",
    "\n",
    "interest = ['samsung', 'lg', 'naver', 'sk', 'mirae']\n",
    "print('/'.join(interest))"
   ]
  },
  {
   "cell_type": "code",
   "execution_count": null,
   "id": "561a6132-70be-44a8-9dbb-674e065e8b1d",
   "metadata": {},
   "outputs": [],
   "source": [
    "# 068\n",
    "\n",
    "interest = ['samsung', 'lg', 'naver', 'sk', 'mirae']\n",
    "print('\\n'.join(interest))"
   ]
  },
  {
   "cell_type": "code",
   "execution_count": null,
   "id": "43a92bbb-e05c-4b0d-bd82-f47d958068ee",
   "metadata": {},
   "outputs": [],
   "source": [
    "# 069\n",
    "\n",
    "string = 'samsung/lg/naver'\n",
    "interest = string.split('/')\n",
    "print(interest)"
   ]
  },
  {
   "cell_type": "code",
   "execution_count": null,
   "id": "9b8ed4d5-59a1-45e8-ab57-813a2dc09a0a",
   "metadata": {},
   "outputs": [],
   "source": [
    "# 070\n",
    "\n",
    "data = [2, 4, 3, 1, 5, 10, 9]\n",
    "data.sort()\n",
    "print(data)"
   ]
  },
  {
   "cell_type": "code",
   "execution_count": null,
   "id": "ce063b65-bca3-493b-be84-5c8eeb07f8f7",
   "metadata": {},
   "outputs": [],
   "source": [
    "# 071\n",
    "\n",
    "my_variable = ()\n",
    "print(type(my_variable))"
   ]
  },
  {
   "cell_type": "code",
   "execution_count": null,
   "id": "3b1cc2af-5098-42cc-a44d-4f57418f8ad4",
   "metadata": {},
   "outputs": [],
   "source": [
    "# 072\n",
    "\n",
    "movie_rank = ('doctor strange', 'split', 'lucky')\n",
    "print(movie_rank)"
   ]
  },
  {
   "cell_type": "code",
   "execution_count": null,
   "id": "49f95d1f-c74f-46ac-85aa-39f70785b20c",
   "metadata": {},
   "outputs": [],
   "source": [
    "# 073\n",
    "\n",
    "number = (1, )\n",
    "print(type(number))"
   ]
  },
  {
   "cell_type": "code",
   "execution_count": null,
   "id": "b42e6786-c8ce-4127-a270-733786c60513",
   "metadata": {},
   "outputs": [],
   "source": [
    "# 074\n",
    "\n",
    "# 입력 코드\n",
    ">> t = (1, 2, 3)\n",
    ">> t[0] = 'a'\n",
    "\n",
    "# 오류: tuple은 immutable 데이터이기에 변경 불가능하다.\n",
    "Traceback (most recent call last):\n",
    "  File \"<pyshell#46>\", line 1, in <module>\n",
    "    t[0] = 'a'\n",
    "TypeError: 'tuple' object does not support item assignment\n"
   ]
  },
  {
   "cell_type": "code",
   "execution_count": null,
   "id": "cbeee63b-5e55-4a06-9dbf-3a82bc259cd5",
   "metadata": {},
   "outputs": [],
   "source": [
    "# 075\n",
    "\n",
    "t = 1, 2, 3, 4\n",
    "type(t)  #tuple\n",
    "#원칙적으로 튜플은 괄호와 함께 데이터를 정의해야 하지만, 사용자 편의를 위해 괄호 없이도 동작한다."
   ]
  },
  {
   "cell_type": "code",
   "execution_count": null,
   "id": "7fb06f3f-fea1-45fb-8f83-01896cbe8e15",
   "metadata": {},
   "outputs": [],
   "source": [
    "# 076\n",
    "\n",
    "t = ('a', 'b', 'c')\n",
    "t = ('A', 'b', 'c')"
   ]
  },
  {
   "cell_type": "code",
   "execution_count": null,
   "id": "b69069d4-8486-4244-9f30-2f6648f49a70",
   "metadata": {},
   "outputs": [],
   "source": [
    "# 077\n",
    "\n",
    "interest = ('samsung', 'lg', 'sk')\n",
    "print(list(interest))"
   ]
  },
  {
   "cell_type": "code",
   "execution_count": null,
   "id": "7fd67f58-3255-465a-9fa4-e0fd418f2e88",
   "metadata": {},
   "outputs": [],
   "source": [
    "# 078\n",
    "\n",
    "interest = ['samsung', 'lg', 'sk']\n",
    "print(tuple(interest))"
   ]
  },
  {
   "cell_type": "code",
   "execution_count": null,
   "id": "8da29617-0727-4727-a756-43af0067a3b8",
   "metadata": {},
   "outputs": [],
   "source": [
    "# 079\n",
    "\n",
    "temp = ('apple', 'banana', 'cake')\n",
    "a, b, c = temp\n",
    "print(a, b, c)\n",
    "\n",
    "# tuple unpacking"
   ]
  },
  {
   "cell_type": "code",
   "execution_count": null,
   "id": "a34fc8ad-5718-4911-9333-9451291ad88d",
   "metadata": {},
   "outputs": [],
   "source": [
    "# 080\n",
    "\n",
    "data = tuple(range(2, 100, 2))\n",
    "print(data)"
   ]
  },
  {
   "cell_type": "markdown",
   "id": "a5ed96a1-d3c7-4145-85a5-9e259e6a4269",
   "metadata": {},
   "source": [
    "### 별 표현식 (star expression)\n",
    "\n",
    "- 좌변과 우변의 변수 개수가 달라도 데이터 언패킹 가능하다.\n",
    "- 별 표현식을 활용하여, 필요한 요소 값만 패킹하고 나머지 값은 언패킹을 유지할 수 있다.\n",
    "- 이 때 여러 값을 바인딩한 변수는 리스트로 출력된다. (?)\n",
    "\n",
    "<참고>\n",
    "- 변수의 역할이 필요하긴 하나, 나중에 사용하지 않을 경우 언더 스코어(`_`)를  사용한다."
   ]
  },
  {
   "cell_type": "code",
   "execution_count": null,
   "id": "ef12b10f-56c8-404c-85be-1f497ebc25ad",
   "metadata": {},
   "outputs": [],
   "source": [
    "# 081\n",
    "\n",
    "scores = [8.8, 8.9, 8.7, 9.2, 9.3, 9.7, 9.9, 9.5, 7.8, 9.4]\n",
    "*valid_score, a, b = scores\n",
    "print(valid_score)"
   ]
  },
  {
   "cell_type": "code",
   "execution_count": null,
   "id": "c2c22e3e-6613-41d1-bbae-43aea81b96d8",
   "metadata": {},
   "outputs": [],
   "source": [
    "# 082\n",
    "\n",
    "scores = [8.8, 8.9, 8.7, 9.2, 9.3, 9.7, 9.9, 9.5, 7.8, 9.4]\n",
    "a, b, *valid_score = scores\n",
    "print(valid_score)"
   ]
  },
  {
   "cell_type": "code",
   "execution_count": null,
   "id": "ba5a8cbc-a146-46f2-a1a7-0520717063e1",
   "metadata": {},
   "outputs": [],
   "source": [
    "# 083\n",
    "\n",
    "scores = [8.8, 8.9, 8.7, 9.2, 9.3, 9.7, 9.9, 9.5, 7.8, 9.4]\n",
    "a, *valid_score, b = scores\n",
    "print(valid_score)"
   ]
  },
  {
   "cell_type": "code",
   "execution_count": null,
   "id": "64c4a55c-51ce-489e-8198-406ae65db154",
   "metadata": {},
   "outputs": [],
   "source": [
    "# 084\n",
    "\n",
    "temp = { }\n",
    "print(temp)"
   ]
  },
  {
   "cell_type": "code",
   "execution_count": null,
   "id": "4a29e539-e930-4164-aecb-359a29192898",
   "metadata": {},
   "outputs": [],
   "source": [
    "# 085\n",
    "\n",
    "ice_cream = {'merona': 1000, 'polapo': 1200, 'bbangparae':1800}\n",
    "print(ice_cream)"
   ]
  },
  {
   "cell_type": "code",
   "execution_count": null,
   "id": "e5000b55-fb0c-4a56-bd43-ba60c1e98c3a",
   "metadata": {},
   "outputs": [],
   "source": [
    "# 086\n",
    "\n",
    "ice_cream.update({'jawsbar': 1200, 'worldcon': 1500})\n",
    "print(ice_cream)"
   ]
  },
  {
   "cell_type": "markdown",
   "id": "c741a9af-ab49-4ece-9a4e-fc6f57ff776f",
   "metadata": {},
   "source": [
    "### 딕셔너리에서 key 값 가져오는 방법\n",
    "\n",
    "1. `.get()` 메서드 사용하기\n",
    "2. `[]` 사용하기"
   ]
  },
  {
   "cell_type": "code",
   "execution_count": null,
   "id": "088da91b-8cdd-4f85-a633-44875f1edc43",
   "metadata": {},
   "outputs": [],
   "source": [
    "# 087\n",
    "\n",
    "print('메로나 가격:', ice_cream['merona'])\n",
    "print('메로나 가격:', ice_cream.get('merona'))"
   ]
  },
  {
   "cell_type": "code",
   "execution_count": null,
   "id": "a188a5fe-a51d-4c31-8a25-2f455f30c817",
   "metadata": {},
   "outputs": [],
   "source": [
    "# 088\n",
    "\n",
    "ice_cream['merona'] = 1300\n",
    "print(ice_cream)"
   ]
  },
  {
   "cell_type": "markdown",
   "id": "0c31677b-037d-4520-a26a-5f2544af7e37",
   "metadata": {},
   "source": [
    "### 딕셔너리에서 key 값 삭제하는 방법\n",
    "\n",
    "1. `del` 사용하기"
   ]
  },
  {
   "cell_type": "code",
   "execution_count": null,
   "id": "68a10573-d025-46b0-ba53-03c394caa260",
   "metadata": {},
   "outputs": [],
   "source": [
    "# 089\n",
    "\n",
    "del ice_cream['merona']\n",
    "print(ice_cream)"
   ]
  },
  {
   "cell_type": "code",
   "execution_count": null,
   "id": "2a4b15c4-418c-4515-95d2-ffcd8a38098e",
   "metadata": {},
   "outputs": [],
   "source": [
    "# 090\n",
    "\n",
    "icecream = {'폴라포': 1200, '빵빠레': 1800, '월드콘': 1500, '메로나': 1000}\n",
    "icecream['누가바']\n",
    "\n",
    "# '누가바'라는 key 값이 없기 때문에 keyerror 발생"
   ]
  },
  {
   "cell_type": "code",
   "execution_count": null,
   "id": "997fbb4c-a68e-4ae9-b71f-5b42545e2c72",
   "metadata": {},
   "outputs": [],
   "source": [
    "# 091\n",
    "\n",
    "inventory = {'merona': [300, 20], 'bibibic': [400, 3], 'jawsbar': [250, 100]}\n",
    "print(inventory)"
   ]
  },
  {
   "cell_type": "code",
   "execution_count": null,
   "id": "8b94d86e-1b13-48fa-a71e-95dc3a63d5ba",
   "metadata": {},
   "outputs": [],
   "source": [
    "# 092\n",
    "\n",
    "inventory = {'merona': [300, 20], 'bibibic': [400, 3], 'jawsbar': [250, 100]}\n",
    "print(inventory['merona'][0], '원')"
   ]
  },
  {
   "cell_type": "code",
   "execution_count": null,
   "id": "8c4fb858-59d4-432d-beaf-1ef05874e818",
   "metadata": {},
   "outputs": [],
   "source": [
    "# 093\n",
    "\n",
    "inventory = {'merona': [300, 20], 'bibibic': [400, 3], 'jawsbar': [250, 100]}\n",
    "print(inventory['merona'][1], '개')"
   ]
  },
  {
   "cell_type": "code",
   "execution_count": null,
   "id": "91616994-4623-4d32-a070-d6e5f4170b91",
   "metadata": {},
   "outputs": [],
   "source": [
    "# 094\n",
    "\n",
    "inventory = {'merona': [300, 20], 'bibibic': [400, 3], 'jawsbar': [250, 100]}\n",
    "inventory.update({'worldcon': [500, 7]})\n",
    "print(inventory)"
   ]
  },
  {
   "cell_type": "markdown",
   "id": "336bb6ae-c561-4841-8b86-cec7622ec49d",
   "metadata": {},
   "source": [
    "### 딕셔너리 메서드\n",
    "\n",
    "- `.keys()`: 딕셔너리로부터 key 값만 출력\n",
    "- `.values()`: 딕셔너리로부터 value 값만 출력\n",
    "- `.update()`: 딕셔너리에 새로운 key, value 값을 추가\n",
    "   - mutable하기 때문에 원본에 값이 추가 및 삭제된다."
   ]
  },
  {
   "cell_type": "code",
   "execution_count": null,
   "id": "d25e4e90-45c8-47fd-a2e6-e08cb15baafc",
   "metadata": {},
   "outputs": [],
   "source": [
    "# 095\n",
    "\n",
    "icecream = {'tankboy': 1200, 'polapo': 1200, 'bbangparae': 1800, 'worldcon': 1500, 'merona': 1000}\n",
    "ice = list(icecream.keys())\n",
    "print(ice)"
   ]
  },
  {
   "cell_type": "code",
   "execution_count": null,
   "id": "cd307b82-bdb0-4665-aeb2-a5f7c8d023f2",
   "metadata": {},
   "outputs": [],
   "source": [
    "# 096\n",
    "\n",
    "icecream = {'tankboy': 1200, 'polapo': 1200, 'bbangparae': 1800, 'worldcon': 1500, 'merona': 1000}\n",
    "print(list(icecream.values()))"
   ]
  },
  {
   "cell_type": "code",
   "execution_count": null,
   "id": "e0eceef3-b696-4911-ba5c-e08593b226cf",
   "metadata": {},
   "outputs": [],
   "source": [
    "# 097\n",
    "\n",
    "icecream = {'tankboy': 1200, 'polapo': 1200, 'bbangparae': 1800, 'worldcon': 1500, 'merona': 1000}\n",
    "print(sum(icecream.values()))"
   ]
  },
  {
   "cell_type": "code",
   "execution_count": null,
   "id": "1bd52f7b-2fc4-4eeb-9ac6-7b5f0496e412",
   "metadata": {},
   "outputs": [],
   "source": [
    "# 098\n",
    "\n",
    "icecream = {'tankboy': 1200, 'polapo': 1200, 'bbangparae': 1800, 'worldcon': 1500, 'merona': 1000}\n",
    "new_product = {'ppatbingsu': 2700, 'amatna': 1000}\n",
    "icecream.update(new_product)\n",
    "print(icecream)"
   ]
  },
  {
   "cell_type": "markdown",
   "id": "776e76a3-b446-4ad5-9f16-38c84eb9c825",
   "metadata": {},
   "source": [
    "### 딕셔너리 활용법\n",
    "\n",
    "- `zip`: 두 개의 튜플을 하나의 딕셔너리로 변환한다.\n",
    "  - 예시: `dict(zip(keys, vals))`\n",
    "- 딕셔너리의 key 값을 중괄호 안에 넣으면 대응하는 value 값을 출력한다.\n",
    "  - 예시: 환율 = {\"달러\": 1167,  \"엔\": 1.096,  \"유로\": 1268   \"위안\": 1\n",
    "    \n",
    "          환율['달러'] = 1167\n",
    "          환율['엔'] = 1.09671}"
   ]
  },
  {
   "cell_type": "code",
   "execution_count": null,
   "id": "d520ee9e-40b9-4185-90d1-1f196b3daff1",
   "metadata": {},
   "outputs": [],
   "source": [
    "# 099\n",
    "\n",
    "keys = (\"apple\", \"pear\", \"peach\")\n",
    "vals = (300, 250, 400)\n",
    "result = dict(zip(keys, vals))\n",
    "print(result)"
   ]
  },
  {
   "cell_type": "code",
   "execution_count": null,
   "id": "99eb87d4-6e18-4f9e-9bdd-e24d04576045",
   "metadata": {},
   "outputs": [],
   "source": [
    "# 100\n",
    "\n",
    "date = ['09/05', '09/06', '09/07', '09/08', '09/09']\n",
    "close_price = [10500, 10300, 10100, 10800, 11000]\n"
   ]
  },
  {
   "cell_type": "code",
   "execution_count": null,
   "id": "d3afc245-1500-4dc6-b2db-ce1af63df8d0",
   "metadata": {},
   "outputs": [],
   "source": [
    "# 101\n",
    "\n",
    "# 파이썬에서 True 혹은 False를 갖는 데이터 타입\n",
    "bool"
   ]
  },
  {
   "cell_type": "code",
   "execution_count": null,
   "id": "ad6eae85-0d85-433b-965a-13651415f6ed",
   "metadata": {},
   "outputs": [],
   "source": [
    "# 102\n",
    "\n",
    "print(3 == 5)  # False"
   ]
  },
  {
   "cell_type": "code",
   "execution_count": null,
   "id": "a49093bf-eefe-4d54-81a2-b374201fc473",
   "metadata": {},
   "outputs": [],
   "source": [
    "# 103\n",
    "\n",
    "print(3 < 5) # True"
   ]
  },
  {
   "cell_type": "code",
   "execution_count": null,
   "id": "b5a24084-80e9-40d0-accc-90739edb8878",
   "metadata": {},
   "outputs": [],
   "source": [
    "# 104\n",
    "\n",
    "x = 4\n",
    "print(1 < x < 5) # True"
   ]
  },
  {
   "cell_type": "code",
   "execution_count": null,
   "id": "11ee5b62-6f1f-42b8-b627-58e7591d5369",
   "metadata": {},
   "outputs": [],
   "source": [
    "# 105\n",
    "\n",
    "print((3 == 3) and (4 != 3)) # True and True => True"
   ]
  },
  {
   "cell_type": "code",
   "execution_count": null,
   "id": "be03dc01-59c5-4ba8-9dcd-c761e937be6c",
   "metadata": {},
   "outputs": [],
   "source": [
    "# 106\n",
    "\n",
    "print(3 => 4) # =>가 아닌 >=가 적절하다."
   ]
  },
  {
   "cell_type": "code",
   "execution_count": null,
   "id": "d2b9680f-578b-4687-8592-1b072ad4a233",
   "metadata": {},
   "outputs": [],
   "source": [
    "# 107\n",
    "\n",
    "if 4 < 3:\n",
    "    print(\"Hello World\")\n",
    "# 조건을 만족하지 않기 때문에 아무 결과도 출력되지 않는다."
   ]
  },
  {
   "cell_type": "code",
   "execution_count": null,
   "id": "d5639173-6c02-4fbe-80e4-ee1704deabd1",
   "metadata": {},
   "outputs": [],
   "source": [
    "# 108\n",
    "\n",
    "if 4 < 3:\n",
    "    print(\"Hello World.\")\n",
    "else:\n",
    "    print(\"Hi, there.\")\n",
    "# Hi, there."
   ]
  },
  {
   "cell_type": "code",
   "execution_count": null,
   "id": "7cbdc585-22f6-4753-b561-9f9f64eeb937",
   "metadata": {},
   "outputs": [],
   "source": [
    "# 109\n",
    "\n",
    "if True:\n",
    "    print(\"1\")\n",
    "    print(\"2\")\n",
    "else:\n",
    "    print(\"3\")\n",
    "print(\"4\")\n",
    "\n",
    "# 1\n",
    "# 2\n",
    "# 4"
   ]
  },
  {
   "cell_type": "code",
   "execution_count": null,
   "id": "6b053f5c-aa28-4f9a-919f-d6448d7a86c3",
   "metadata": {},
   "outputs": [],
   "source": [
    "# 110\n",
    "\n",
    "if True:\n",
    "    if False:\n",
    "        print(\"1\")\n",
    "        print(\"2\")\n",
    "    else:\n",
    "        print(\"3\")\n",
    "else:\n",
    "    print(\"4\")\n",
    "print(\"5\")\n",
    "# 3\n",
    "# 5"
   ]
  },
  {
   "cell_type": "code",
   "execution_count": null,
   "id": "4ffe6811-1175-41a0-bcf5-f3d39be35e1d",
   "metadata": {},
   "outputs": [],
   "source": [
    "# 111\n",
    "\n",
    "user_input = input('문자를 입력하시오.: ')\n",
    "print(user_input * 2)"
   ]
  },
  {
   "cell_type": "code",
   "execution_count": null,
   "id": "b8286112-cb12-47ff-83a3-7d9120866090",
   "metadata": {},
   "outputs": [],
   "source": [
    "# 112\n",
    "\n",
    "user_input = int(input('숫자를 입력하시오.: '))\n",
    "print(user_input + 10)"
   ]
  },
  {
   "cell_type": "code",
   "execution_count": null,
   "id": "b4b399ed-1cbb-4a9f-91f1-788c1f678e15",
   "metadata": {},
   "outputs": [],
   "source": [
    "# 113\n",
    "\n",
    "user_input = int(input('숫자를 입력하시오.: '))\n",
    "if user_input % 2 == 1:\n",
    "    print('홀수')\n",
    "else:\n",
    "    print('짝수')"
   ]
  },
  {
   "cell_type": "code",
   "execution_count": null,
   "id": "6f424a22-90ee-46e1-a267-4a7d0dfda06a",
   "metadata": {},
   "outputs": [],
   "source": [
    "# 114\n",
    "\n",
    "user_input = int(input('입력값: '))\n",
    "result = user_input + 20\n",
    "if result > 255:\n",
    "    print('255')\n",
    "else:\n",
    "    print(result)"
   ]
  },
  {
   "cell_type": "code",
   "execution_count": null,
   "id": "e458607f-d862-4a59-8255-30b5099c7340",
   "metadata": {},
   "outputs": [],
   "source": [
    "# 115\n",
    "\n",
    "user_input = int(input('입력값: '))\n",
    "result = user_input - 200\n",
    "if 0 > result:\n",
    "    print(0)\n",
    "elif result > 255:\n",
    "    print(255)\n",
    "else:\n",
    "    print(result)"
   ]
  },
  {
   "cell_type": "code",
   "execution_count": null,
   "id": "fbdc898d-4d44-4576-a725-cb8e43b40f1d",
   "metadata": {},
   "outputs": [],
   "source": [
    "# 116\n",
    "\n",
    "user = input('현재시간: ')\n",
    "if user[-2:] == '00':\n",
    "    print('정각입니다.')\n",
    "else:\n",
    "    print('정각이 아닙니다.')"
   ]
  },
  {
   "cell_type": "code",
   "execution_count": null,
   "id": "2b94c45d-a3ae-4c8f-9df4-edf540dfc548",
   "metadata": {},
   "outputs": [],
   "source": [
    "# 117\n",
    "\n",
    "fruit = ['사과', '포도', '홍시']\n",
    "answer = input('좋아하는 과일은?: ')\n",
    "if answer in fruit:\n",
    "    print('정답입니다.')\n",
    "else:\n",
    "    print('오답입니다.')"
   ]
  },
  {
   "cell_type": "code",
   "execution_count": null,
   "id": "05c8a212-c590-4dc3-8eea-ff852a315562",
   "metadata": {},
   "outputs": [],
   "source": [
    "# 118\n",
    "\n",
    "warn_investment_list = ['Microsoft', 'Google', 'Naver', 'Kakao', 'SAMSUNG', 'LG']\n",
    "answer = input('종목명: ')\n",
    "if answer in warn_investment_list:\n",
    "    print('투자 경고 종목입니다.')\n",
    "else:\n",
    "    print('투자 경고 종목이 아닙니다.')"
   ]
  },
  {
   "cell_type": "code",
   "execution_count": null,
   "id": "fe0a44bc-77ba-4f00-bb1f-3986115721bd",
   "metadata": {},
   "outputs": [],
   "source": [
    "# 119\n",
    "\n",
    "fruit = {'spring':'strawberry', 'summer':'tomato', 'autumn':'apple'}\n",
    "answer = input('제가 좋아하는 계절은: ')\n",
    "if answer in fruit.keys():\n",
    "    print('정답입니다.')\n",
    "else:\n",
    "    print('오답입니다.')"
   ]
  },
  {
   "cell_type": "code",
   "execution_count": null,
   "id": "2743e164-f9f7-4e6c-8fb1-567288ec956f",
   "metadata": {},
   "outputs": [],
   "source": [
    "# 120\n",
    "\n",
    "fruit = {'spring':'strawberry', 'summer':'tomato', 'autumn':'apple'}\n",
    "answer = input('좋아하는 과일은?: ')\n",
    "if answer in fruit.values():\n",
    "    print('정답입니다.')\n",
    "else:\n",
    "    print('오답입니다.')"
   ]
  },
  {
   "cell_type": "code",
   "execution_count": null,
   "id": "136f9635-94d1-4410-b57a-c7c880e5da5e",
   "metadata": {},
   "outputs": [],
   "source": [
    "# 121\n",
    "\n",
    "user = input('문자 한 글자를 입력해 주세요.: ')\n",
    "if user.islower() is True:\n",
    "    print(user.upper())\n",
    "else:\n",
    "    print(user.lower())\n",
    "\n",
    "# is True는 생략 가능하다."
   ]
  },
  {
   "cell_type": "code",
   "execution_count": null,
   "id": "853f0a0b-3f62-41cc-88a9-fc501c44a520",
   "metadata": {},
   "outputs": [],
   "source": [
    "# 122\n",
    "\n",
    "score = int(input('score: '))\n",
    "if score <= 20:\n",
    "    print('E')\n",
    "elif score <= 40:\n",
    "    print('D')\n",
    "elif score <= 60:\n",
    "    print('C')\n",
    "elif score <= 80:\n",
    "    print('B')\n",
    "elif score <= 100:\n",
    "    print('A')"
   ]
  },
  {
   "cell_type": "code",
   "execution_count": null,
   "id": "1490f667-bcc9-472c-bbeb-2142c13eb1aa",
   "metadata": {},
   "outputs": [],
   "source": [
    "# 123\n",
    "# 금액과 통화명 사이에 공백을 넣어 입력한다고 가정한다. (달러, 엔, 유로, 위안)\n",
    "\n",
    "user = input('입력: ')\n",
    "if user[-2:] == '달러':\n",
    "    print(int(user[:-3])*1167, '달러')\n",
    "elif user[-1] == '엔':\n",
    "    print(float(user[:-2])*1.096, '엔')\n",
    "elif user[-2:] == '유로':\n",
    "    print(int(user[:-3])*1268, '유로')\n",
    "elif user[-2:] == '위안':\n",
    "    print(int(user[:-3])*171, '위안')\n",
    "\n",
    "## 풀이\n",
    "환율 = {'달러': 1167, '엔': 1.096, '유로': 1268, '위안': 171}\n",
    "\n",
    "환율['엔']\n",
    "user = input('입력: ')\n",
    "num, currency = user.split()\n",
    "print(float(num) * 환율[currency], '원')"
   ]
  },
  {
   "cell_type": "code",
   "execution_count": null,
   "id": "06369215-766a-416f-8584-1f4b54d53a48",
   "metadata": {},
   "outputs": [],
   "source": [
    "# 124\n",
    "\n",
    "number1 = float(input('number1: '))\n",
    "number2 = float(input('number2: '))\n",
    "number3 = float(input('number3: '))\n",
    "\n",
    "if number1 > (number2 and number3):\n",
    "    print(number1)\n",
    "elif number2 > (number1 and number3):\n",
    "    print(number2)\n",
    "elif number3 > (number1 and number2):\n",
    "    print(number3)"
   ]
  },
  {
   "cell_type": "code",
   "execution_count": null,
   "id": "9c218521-672a-46fb-9377-057b1c1d96d2",
   "metadata": {},
   "outputs": [],
   "source": [
    "# 125\n",
    "\n",
    "phone = {'011': 'SKT', '016': 'KT', '019': 'LGU', '010': '알수없음'}\n",
    "user = input('휴대전화 번호 입력: ')\n",
    "head_number, middle, last = user.split('-')\n",
    "print(f'당신은 {phone[head_number]} 사용자입니다.')\n",
    "\n",
    "# 풀이\n",
    "number = input('휴대전화 번호 입력: ')\n",
    "num = number.split('-')[0]\n",
    "if num == '011':\n",
    "    com = 'SKT'\n",
    "elif num == '016':\n",
    "    com = 'KT'\n",
    "elif num == '019':\n",
    "    com = 'LGU'\n",
    "else:\n",
    "    com = '알수없음'\n",
    "print(f'당신은 {com} 사용자입니다.')\n",
    "\n",
    "# 내가 수정한 풀이\n",
    "phone = {'011': 'SKT', '016': 'KT', '019': 'LGU', '010': '알수없음'}\n",
    "user = input('휴대전화 번호 입력: ')\n",
    "head_number = user.split('-')[0]\n",
    "print(f'당신은 {phone[head_number]} 사용자입니다.')"
   ]
  },
  {
   "cell_type": "code",
   "execution_count": null,
   "id": "8a1ffa39-54a6-402a-9c1f-fd013680d16b",
   "metadata": {},
   "outputs": [],
   "source": [
    "# 126\n",
    "\n",
    "user = input('우편번호: ')\n",
    "\n",
    "if 0 <= int(user[2]) <= 2:\n",
    "    print('강북구')\n",
    "elif 3 <= int(user[2]) <= 5:\n",
    "    print('도봉구')\n",
    "elif 6 <= int(user[2]) <= 9:\n",
    "    print('노원구')\n",
    "\n",
    "# 풀이\n",
    "우편번호 = input('우편번호: ')\n",
    "우편번호 = 우편번호[:3]\n",
    "if 우편번호 in ['010', '011', '012']:\n",
    "    print('강북구')\n",
    "elif 우편번호 in ['014', '015', '016']:\n",
    "    print('도봉구')\n",
    "else:\n",
    "    print('노원구')"
   ]
  },
  {
   "cell_type": "code",
   "execution_count": null,
   "id": "82a979b5-5584-4a0d-9114-6805641d857b",
   "metadata": {},
   "outputs": [],
   "source": [
    "# 127\n",
    "\n",
    "user_num = input('주민등록번호: ')\n",
    "sex = user_num.split('-')[1][0]\n",
    "if sex == ('1' or '3'):\n",
    "    print('남자')\n",
    "else:\n",
    "    print('여자')"
   ]
  },
  {
   "cell_type": "code",
   "execution_count": null,
   "id": "cad61957-96be-488c-921d-15488b85fc6b",
   "metadata": {},
   "outputs": [],
   "source": [
    "# 128\n",
    "\n",
    "user_num = input('주민등록번호: ')\n",
    "region = user_num.split('-')[1][1:3]\n",
    "if '00' <= region <= '08':\n",
    "    print('서울입니다.')\n",
    "else:\n",
    "    print('서울이 아닙니다.')"
   ]
  },
  {
   "cell_type": "code",
   "execution_count": null,
   "id": "3689a9f4-6dd4-4a02-9c70-084fc907b547",
   "metadata": {},
   "outputs": [],
   "source": [
    "# 129\n",
    "\n",
    "user_num = input('주민등록번호: ')\n",
    "f = user_num.split('-')[0]\n",
    "l = user_num.split('-')[1]\n",
    "result1 = (int(f[0]) * 2) + (int(f[1]) * 3) + (int(f[2]) * 4) + (int(f[3]) * 5) + (int(f[4]) * 6) + (int(f[5]) * 7) + (int(l[0]) * 8) + (int(l[1]) * 9) + (int(l[2]) * 2) + (int(l[3]) * 3) + (int(l[4]) * 4) + (int(l[5]) * 5)\n",
    "result2 = 11 - (result1 % 11)\n",
    "if result2 == l[6]:\n",
    "    print('유효한 주민등록번호입니다.')\n",
    "else:\n",
    "    print('유효하지 않은 주민등록번호입니다.')\n",
    "\n",
    "# 동영상 풀이\n",
    "data = input('주민등록번호: ')\n",
    "data = data.replace('-', '')\n",
    "계산1 = int(data[0]) * 2 + \\\n",
    "        int(data[1]) * 3 + \\\n",
    "        int(data[2]) * 4 + \\\n",
    "        int(data[3]) * 5 + \\\n",
    "        int(data[4]) * 6 + \\\n",
    "        int(data[5]) * 7 + \\\n",
    "        int(data[6]) * 8 + \\\n",
    "        int(data[7]) * 9 + \\\n",
    "        int(data[8]) * 2 + \\\n",
    "        int(data[9]) * 3 + \\\n",
    "        int(data[10]) * 4 + \\\n",
    "        int(data[11]) * 5\n",
    "계산1 = 계산1 % 11\n",
    "계산2 = 11 - 계산1\n",
    "if data[-1] == 계산2:\n",
    "    print('유효한 주민등록번호입니다.')\n",
    "else:\n",
    "    print('유효하지 않은 주민등록번호입니다.')\n",
    "# 괄호가 없는 경우 식 안에서 줄바꿈하려면 역슬래시를 추가해야 한다. "
   ]
  },
  {
   "cell_type": "code",
   "execution_count": null,
   "id": "5e5e782b-66bb-40f3-8728-69e534faa90f",
   "metadata": {},
   "outputs": [],
   "source": [
    "# 130\n",
    "\n",
    "import requests\n",
    "btc = requests.get(\"https://api.bithumb.com/public/ticker/\").json()['data']\n",
    "fluc_range = float(btc['max_price']) - float(btc['min_price'])\n",
    "if float(btc['opening_price']) + fluc_range > float(btc['max_price']):\n",
    "    print('상승장')\n",
    "else:\n",
    "    print('하락장')"
   ]
  },
  {
   "cell_type": "markdown",
   "id": "a5fa3274-3b4b-49de-9ad6-0d9f0400c6bd",
   "metadata": {},
   "source": [
    "## `for`문\n",
    "\n",
    "- 들여쓰기된 코드가 자료구조에 저장된 데이터 개수만큼 반복되는 특징이 있다.\n",
    "- `for`문을 작성할 때는,\n",
    "    1. 변하는 값을 변수에 바인딩한다.\n",
    "    2. 변하는 부분을 `for`문의 자료구조 자리에 위치시킨다.\n",
    "    3. 변하지 않는 코드는 들여쓰기 후에 작성한다.\n",
    "- `enumerate(iterable, star='')`를 이용하는 방법\r\n",
    "  - 내장함수의 하나로, `idx`와 `value`를 함께 활용할 수 있다.\r\n",
    "  - `enumerate()` 사용 시 첫 번째 자리에 `idx`, 두 번째 자리에 임시변수 자리에서 순회하는 `요소`를 출력한다.\r\n",
    "  - `star=''`를 사용하여 시작 `idx`를 지정할 수도 있다.\n",
    "\n",
    "\n",
    "\n",
    "#### 참고 내용\n",
    "- print() 함수는 입력한 값을 한칸의 공백과 함께 이어붙여 출력한다.\n",
    "- 변수에 바인딩한 자료값이 괄호 안에 있지 않을 때, 여러 줄로 입력할 경우 역슬리시`\\` 추가 필수"
   ]
  },
  {
   "cell_type": "code",
   "execution_count": null,
   "id": "bb4a74cc-6241-483f-a4d7-bbb336757fa3",
   "metadata": {},
   "outputs": [],
   "source": [
    "# 131\n",
    "\n",
    "fruits = ['apple', 'orange', 'watermelon']\n",
    "for fruit in fruits:\n",
    "    print(fruit)"
   ]
  },
  {
   "cell_type": "code",
   "execution_count": null,
   "id": "85be2674-d92e-468c-a2e8-844f03dde95b",
   "metadata": {},
   "outputs": [],
   "source": [
    "# 132\n",
    "\n",
    "fruits = ['apple', 'orange', 'watermelon']\n",
    "for fruit in fruits:\n",
    "    print('#####')"
   ]
  },
  {
   "cell_type": "code",
   "execution_count": null,
   "id": "e5aa69ae-0fbb-46db-a6c0-f841cc0d7e62",
   "metadata": {},
   "outputs": [],
   "source": [
    "# 133\n",
    "\n",
    "for i in ['A', 'B', 'C']:\n",
    "    print(i)\n",
    "\n",
    "print()\n",
    "\n",
    "# 변수 바인딩=>출력 과정을 자료구조 데이터 개수만큼 반복하기 때문에 하기 코드와 동일한 기능 수행\n",
    "i = 'A'\n",
    "print(i)\n",
    "i = 'B'\n",
    "print(i)\n",
    "i = 'C'\n",
    "print(i)"
   ]
  },
  {
   "cell_type": "code",
   "execution_count": null,
   "id": "2e37a73a-702e-42ac-b507-da595ffee2d4",
   "metadata": {},
   "outputs": [],
   "source": [
    "# 134\n",
    "\n",
    "for i in ['A', 'B', 'C']:\n",
    "    print('출력: ', i)\n",
    "\n",
    "print()\n",
    "\n",
    "# 상기 코드와 동일한 동작을 하는 코드\n",
    "print('출력: ', 'A')\n",
    "print('출력: ', 'B')\n",
    "print('출력: ', 'C')"
   ]
  },
  {
   "cell_type": "code",
   "execution_count": null,
   "id": "5b68d853-48f2-4718-a89c-50de6d48dfe0",
   "metadata": {},
   "outputs": [],
   "source": [
    "# 135\n",
    "\n",
    "for i in ['A', 'B', 'C']:\n",
    "    b = i.lower()\n",
    "    print('변환: ', b)\n",
    "\n",
    "print()\n",
    "\n",
    "# 상기 코드와 동일한 동작을 하는 코드\n",
    "print('변환: ', 'A'.lower())\n",
    "print('변환: ', 'B'.lower())\n",
    "print('변환: ', 'C'.lower())"
   ]
  },
  {
   "cell_type": "code",
   "execution_count": null,
   "id": "5bfc6890-2baf-49f1-ac95-001f2fccd37a",
   "metadata": {},
   "outputs": [],
   "source": [
    "# 136\n",
    "\n",
    "i = 10\n",
    "print(i)\n",
    "i = 20\n",
    "print(i)\n",
    "i = 30\n",
    "print(i)\n",
    "\n",
    "print()\n",
    "\n",
    "# 상기 코드와 동일한 동작을 하는 코드\n",
    "for i in [10, 20, 30]:\n",
    "    print(i)"
   ]
  },
  {
   "cell_type": "code",
   "execution_count": null,
   "id": "adce4e06-dfa9-45d6-bf27-0f3275106205",
   "metadata": {},
   "outputs": [],
   "source": [
    "# 137\n",
    "\n",
    "print(10)\n",
    "print(20)\n",
    "print(30)\n",
    "\n",
    "print()\n",
    "\n",
    "# 상기 코드와 동일한 동작을 하는 코드\n",
    "for i in [10, 20, 30]:\n",
    "    print(i)"
   ]
  },
  {
   "cell_type": "code",
   "execution_count": null,
   "id": "10ea15e4-2b55-4ee0-9f63-d25db25a5c92",
   "metadata": {},
   "outputs": [],
   "source": [
    "# 138\n",
    "\n",
    "print(10)\n",
    "print('-------')\n",
    "print(20)\n",
    "print('-------')\n",
    "print(30)\n",
    "print('-------')\n",
    "\n",
    "print()\n",
    "\n",
    "# 상기 코드와 동일한 동작을 하는 코드\n",
    "for i in [10, 20, 30]:\n",
    "    print(i, '\\n', '-------')\n",
    "\n",
    "print()\n",
    "\n",
    "# 풀이\n",
    "for i in [10, 20, 30]:\n",
    "    print(i)\n",
    "    print('-------')"
   ]
  },
  {
   "cell_type": "code",
   "execution_count": null,
   "id": "4c10d3b0-6dea-40df-81c1-a2644d3e4cbf",
   "metadata": {},
   "outputs": [],
   "source": [
    "# 139\n",
    "\n",
    "print('++++')\n",
    "print(10)\n",
    "print(20)\n",
    "print(30)\n",
    "\n",
    "print()\n",
    "\n",
    "#상기 코드와 동일한 동작을 하는 코드\n",
    "print('++++')\n",
    "for i in [10, 20, 30]:\n",
    "    print(i)"
   ]
  },
  {
   "cell_type": "code",
   "execution_count": null,
   "id": "2c22ee89-5230-42fa-a4f0-7577a62b7271",
   "metadata": {},
   "outputs": [],
   "source": [
    "# 140\n",
    "\n",
    "print('-------')\n",
    "print('-------')\n",
    "print('-------')\n",
    "print('-------')\n",
    "\n",
    "print()\n",
    "\n",
    "#상기 코드와 동일한 동작을 하는 코드\n",
    "for i in [1, 2, 3, 4]:\n",
    "    print('-------')"
   ]
  },
  {
   "cell_type": "code",
   "execution_count": null,
   "id": "5b29ced7-707f-4290-86e0-06a1b9e9ad67",
   "metadata": {},
   "outputs": [],
   "source": [
    "# 141\n",
    "\n",
    "list = [100, 200, 300]\n",
    "for i in list:\n",
    "    i += 10\n",
    "    print(i)\n",
    "\n",
    "print()\n",
    "\n",
    "# 풀이\n",
    "list = [100, 200, 300]\n",
    "for i in list:\n",
    "    print(i + 10)"
   ]
  },
  {
   "cell_type": "code",
   "execution_count": null,
   "id": "c79f1e3f-8025-40ca-9c4d-5b52b974a0a6",
   "metadata": {},
   "outputs": [],
   "source": [
    "# 142\n",
    "\n",
    "list = ['gimbap', 'ramyeon', 'fries']\n",
    "for menu in list:\n",
    "    print('오늘의 메뉴:', menu)"
   ]
  },
  {
   "cell_type": "code",
   "execution_count": null,
   "id": "911fcad1-ed9f-4767-bb81-9a38048e7099",
   "metadata": {},
   "outputs": [],
   "source": [
    "# 143\n",
    "\n",
    "list = ['SK', 'SAMSUNG', 'LG']\n",
    "\n",
    "for i in list:\n",
    "    print(len(i))"
   ]
  },
  {
   "cell_type": "code",
   "execution_count": null,
   "id": "f4596ca3-4581-41a9-a8db-8d59d7cfb64d",
   "metadata": {},
   "outputs": [],
   "source": [
    "# 144\n",
    "\n",
    "list = ['dog', 'cat', 'parrot']\n",
    "for animal in list:\n",
    "    print(animal, len(animal))"
   ]
  },
  {
   "cell_type": "code",
   "execution_count": null,
   "id": "a748b99e-3cb4-4cf8-866d-02195f8d3fdb",
   "metadata": {},
   "outputs": [],
   "source": [
    "# 145\n",
    "\n",
    "list = ['dog', 'cat', 'parrot']\n",
    "for animal in list:\n",
    "    print(animal[0])"
   ]
  },
  {
   "cell_type": "code",
   "execution_count": null,
   "id": "43a6541c-3bc2-4c9b-9f2e-5c6f031ca554",
   "metadata": {},
   "outputs": [],
   "source": [
    "# 146\n",
    "\n",
    "list = [1, 2, 3]\n",
    "for num in list:\n",
    "    print('3 x', num)\n",
    "\n",
    "print()\n",
    "\n",
    "# 풀이\n",
    "list = [1, 2, 3]\n",
    "for num in list:\n",
    "    print('3 x ' + str(num))"
   ]
  },
  {
   "cell_type": "code",
   "execution_count": null,
   "id": "4770f6d7-6dd3-43ee-bef0-1dd972724453",
   "metadata": {},
   "outputs": [],
   "source": [
    "# 147\n",
    "\n",
    "list = [1, 2, 3]\n",
    "for num in list:\n",
    "    print('3 x', num, '=', (3*num))\n",
    "\n",
    "print()\n",
    "\n",
    "# 풀이\n",
    "list = [1, 2, 3]\n",
    "for num in list:\n",
    "    print('3 x {} = {}'.format(num, 3*num))\n",
    "    \n",
    "print()\n",
    "\n",
    "# 내가 수정한 풀이\n",
    "list = [1, 2, 3]\n",
    "for num in list:\n",
    "    print(f'3 x {num} = {3*num}')"
   ]
  },
  {
   "cell_type": "code",
   "execution_count": null,
   "id": "ab508413-088e-4394-976a-938b5ad54b0a",
   "metadata": {},
   "outputs": [],
   "source": [
    "# 148\n",
    "\n",
    "list = ['가', '나', '다', '라']\n",
    "for i in list:\n",
    "    if i in list[1:]:\n",
    "        print(i)\n",
    "\n",
    "print()\n",
    "\n",
    "# 풀이\n",
    "list = ['가', '나', '다', '라']\n",
    "for i in list[1:]:\n",
    "    print(i)"
   ]
  },
  {
   "cell_type": "code",
   "execution_count": null,
   "id": "a3809b42-9cc3-409d-93e3-df647ee19532",
   "metadata": {},
   "outputs": [],
   "source": [
    "# 149\n",
    "\n",
    "list = ['가', '나', '다', '라']\n",
    "for i in list[::2]:\n",
    "    print(i)"
   ]
  },
  {
   "cell_type": "code",
   "execution_count": null,
   "id": "a071c058-8526-4b47-ba96-a68e96d3bc03",
   "metadata": {},
   "outputs": [],
   "source": [
    "# 150\n",
    "\n",
    "list = ['가', '나', '다', '라']\n",
    "for i in list[::-1]:\n",
    "    print(i)"
   ]
  },
  {
   "cell_type": "code",
   "execution_count": null,
   "id": "9d8a87f2-918d-49c7-88f3-775334598119",
   "metadata": {},
   "outputs": [],
   "source": [
    "# 151\n",
    "\n",
    "list = [3, -20, -3, 44]\n",
    "for num in list:\n",
    "    if num < 0:\n",
    "        print(num)"
   ]
  },
  {
   "cell_type": "code",
   "execution_count": null,
   "id": "c8515a41-5a44-4e16-9cf8-832fa46c78c4",
   "metadata": {},
   "outputs": [],
   "source": [
    "# 152\n",
    "\n",
    "list = [3, 100, 23, 44]\n",
    "for num in list:\n",
    "    if num % 3 == 0:\n",
    "        print(num)"
   ]
  },
  {
   "cell_type": "code",
   "execution_count": null,
   "id": "def89ecf-49d3-4c0e-8ac6-2afdc9a51fac",
   "metadata": {},
   "outputs": [],
   "source": [
    "# 153\n",
    "\n",
    "list = [13, 21, 12, 14, 30, 18]\n",
    "for num in list:\n",
    "    if num % 3 == 0 and num < 20:\n",
    "        print(num)"
   ]
  },
  {
   "cell_type": "code",
   "execution_count": null,
   "id": "430b9a19-006f-4f0f-8bda-9680489e02d5",
   "metadata": {},
   "outputs": [],
   "source": [
    "# 154\n",
    "\n",
    "list = ['I', 'study', 'python', 'language', '!']\n",
    "for sentence in list:\n",
    "    if len(sentence) >= 3:\n",
    "        print(sentence)"
   ]
  },
  {
   "cell_type": "code",
   "execution_count": null,
   "id": "f91ec38a-9abf-4be6-b76f-29bcbaae23b9",
   "metadata": {},
   "outputs": [],
   "source": [
    "# 155\n",
    "\n",
    "list = ['A', 'b', 'c', 'D']\n",
    "for i in list:\n",
    "    if i.isupper():\n",
    "        print(i)"
   ]
  },
  {
   "cell_type": "code",
   "execution_count": null,
   "id": "c0d786cd-bd42-456d-9c3e-06a41c945137",
   "metadata": {},
   "outputs": [],
   "source": [
    "# 156\n",
    "\n",
    "list = ['A', 'b', 'c', 'D']\n",
    "for i in list:\n",
    "    if i.islower():\n",
    "        print(i)"
   ]
  },
  {
   "cell_type": "code",
   "execution_count": null,
   "id": "586d1661-74cc-4de4-93e6-ec9336d7f775",
   "metadata": {},
   "outputs": [],
   "source": [
    "# 157\n",
    "\n",
    "list = ['dog', 'cat', 'parrot']\n",
    "for i in list:\n",
    "    result = i.capitalize()\n",
    "    print(result)"
   ]
  },
  {
   "cell_type": "code",
   "execution_count": null,
   "id": "61c39ec7-a937-463c-aa07-e76cb93303d9",
   "metadata": {},
   "outputs": [],
   "source": [
    "# 158\n",
    "\n",
    "list = ['hello.py', 'ex01.py', 'intro.hwp']\n",
    "for name in list:\n",
    "    file, extension = name.split('.')\n",
    "    print(file)\n",
    "\n",
    "print()\n",
    "# 풀이\n",
    "list = ['hello.py', 'ex01.py', 'intro.hwp']\n",
    "for name in list:\n",
    "    result = name.split('.')\n",
    "    print(result[0])"
   ]
  },
  {
   "cell_type": "code",
   "execution_count": null,
   "id": "6781089f-ef0f-4915-92e4-9e16e321339b",
   "metadata": {},
   "outputs": [],
   "source": [
    "# 159\n",
    "\n",
    "list = ['intra.h', 'intra.c', 'define.h', 'run.py']\n",
    "for name in list:\n",
    "    if '.h' in name:\n",
    "        print(name)\n",
    "\n",
    "print()\n",
    "# 추가 작성한 풀이\n",
    "list = ['intra.h', 'intra.c', 'define.h', 'run.py']\n",
    "for name in list:\n",
    "    result = name.split('.')\n",
    "    if result[1] == 'h':\n",
    "        print(result[0]+'.'+result[1])\n",
    "\n",
    "print()\n",
    "# 풀이\n",
    "list = ['intra.h', 'intra.c', 'define.h', 'run.py']\n",
    "for name in list:\n",
    "    result = name.split('.')\n",
    "    if result[1] == 'h':\n",
    "        print(name)"
   ]
  },
  {
   "cell_type": "code",
   "execution_count": null,
   "id": "9e8b90e1-9eae-461a-b9dc-ed5315348164",
   "metadata": {},
   "outputs": [],
   "source": [
    "# 160\n",
    "\n",
    "list = ['intra.h', 'intra.c', 'define.h', 'run.py']\n",
    "for name in list:\n",
    "    result = name.split('.')\n",
    "    if result[1] == 'h':\n",
    "        print(name)\n",
    "    elif result[1] == 'c':\n",
    "        print(name)\n",
    "\n",
    "print()\n",
    "# 풀이\n",
    "list = ['intra.h', 'intra.c', 'define.h', 'run.py']\n",
    "for name in list:\n",
    "    result = name.split('.')\n",
    "    if (result[1] == 'h') or (result[1] == 'c'):\n",
    "        print(name)"
   ]
  },
  {
   "cell_type": "code",
   "execution_count": null,
   "id": "043a637c-ed4d-4592-859b-d782c95e78c5",
   "metadata": {},
   "outputs": [],
   "source": [
    "# 161\n",
    "\n",
    "for i in range(0, 100):\n",
    "    print(i)"
   ]
  },
  {
   "cell_type": "code",
   "execution_count": null,
   "id": "504628e4-841e-42fe-9c6f-d71de6be313c",
   "metadata": {},
   "outputs": [],
   "source": [
    "# 162\n",
    "\n",
    "for worldcup in range(2002, 2051, 4):\n",
    "    print(worldcup)"
   ]
  },
  {
   "cell_type": "code",
   "execution_count": null,
   "id": "929779a1-d608-4596-bc60-8e4c541096df",
   "metadata": {},
   "outputs": [],
   "source": [
    "# 163\n",
    "\n",
    "for num in range(3, 31, 3):\n",
    "    print(num)"
   ]
  },
  {
   "cell_type": "code",
   "execution_count": null,
   "id": "d03d9afb-8b21-431e-b511-f843b0e7811c",
   "metadata": {},
   "outputs": [],
   "source": [
    "# 164\n",
    "\n",
    "for num in range(99, -1, -1):\n",
    "    print(num)\n",
    "\n",
    "print()\n",
    "# 풀이\n",
    "for num in range(100):\n",
    "    print(99 - num)"
   ]
  },
  {
   "cell_type": "code",
   "execution_count": null,
   "id": "c1099b3c-cda8-41d1-998e-f664f8dac229",
   "metadata": {},
   "outputs": [],
   "source": [
    "# 165\n",
    "\n",
    "for num in range(10):\n",
    "    print(num / 10)"
   ]
  },
  {
   "cell_type": "code",
   "execution_count": null,
   "id": "474882aa-72bc-476e-8cf5-3c2bc1a36c59",
   "metadata": {},
   "outputs": [],
   "source": [
    "# 166\n",
    "\n",
    "for num in range(1, 10):\n",
    "    result = 3 * num\n",
    "    print('3x'+str(num)+' = '+str(result))"
   ]
  },
  {
   "cell_type": "code",
   "execution_count": null,
   "id": "6412c609-4f6b-44c9-b023-7d5385b96a54",
   "metadata": {},
   "outputs": [],
   "source": [
    "# 167\n",
    "\n",
    "for num in range(1, 10, 2):\n",
    "    result = 3 * num\n",
    "    print('3x'+str(num)+' = '+str(result))\n",
    "\n",
    "print()\n",
    "# 풀이\n",
    "num = 3\n",
    "for i in range(1, 10):\n",
    "    if i % 2 == 1:\n",
    "        print(num, 'x', i, '=', num*i)"
   ]
  },
  {
   "cell_type": "code",
   "execution_count": null,
   "id": "3da2ffb1-c83c-4062-bb41-ec732ca5b3d4",
   "metadata": {},
   "outputs": [],
   "source": [
    "# 168\n",
    "\n",
    "result = 0\n",
    "for i in range(1, 11):\n",
    "    result += i\n",
    "    if i == 10:\n",
    "        print('합:', result)\n",
    "\n",
    "print()\n",
    "# 풀이\n",
    "result = 0\n",
    "for i in range(1, 11):\n",
    "    result += i\n",
    "print('합:', result)\n",
    "\n",
    "# print를 for문 밖으로 빼면 마지막 result 값만 받을 수 있다."
   ]
  },
  {
   "cell_type": "code",
   "execution_count": null,
   "id": "8aa181fc-0fd7-4747-bcec-95b288fe0d84",
   "metadata": {},
   "outputs": [],
   "source": [
    "# 169\n",
    "\n",
    "result = 0\n",
    "for i in range(1, 11, 2):\n",
    "    result += i\n",
    "print('합:', result)\n",
    "\n",
    "print()\n",
    "# 추가로 쓴 풀이\n",
    "result = 0\n",
    "for i in range(1, 11):\n",
    "    if i % 2 == 1:\n",
    "        result += i\n",
    "print('합:', result)"
   ]
  },
  {
   "cell_type": "code",
   "execution_count": null,
   "id": "116a73d7-13e9-4f44-adf3-c100b99c2874",
   "metadata": {},
   "outputs": [],
   "source": [
    "# 170\n",
    "\n",
    "result = 1\n",
    "for num in range(1, 11):\n",
    "    result *= num\n",
    "print(result)"
   ]
  },
  {
   "cell_type": "code",
   "execution_count": null,
   "id": "c41a2798-d86c-4d85-81c0-cd1c12c154c5",
   "metadata": {},
   "outputs": [],
   "source": [
    "# 171\n",
    "\n",
    "price_list = [32100, 32150, 32000, 32500]\n",
    "for data in price_list:\n",
    "    if data in range(30000, 40000):\n",
    "        print(data)\n",
    "\n",
    "print()\n",
    "# 풀이\n",
    "price_list = [32100, 32150, 32000, 32500]\n",
    "for data in range(len(price_list)):\n",
    "    print(price_list[data])"
   ]
  },
  {
   "cell_type": "code",
   "execution_count": null,
   "id": "ad41c448-1be3-4d67-8980-06601166b192",
   "metadata": {},
   "outputs": [],
   "source": [
    "# 172\n",
    "\n",
    "price_list = [32100, 32150, 32000, 32500]\n",
    "for i in range(len(price_list)):\n",
    "    print(i, price_list[i])\n",
    "\n",
    "print()\n",
    "# 풀이\n",
    "price_list = [32100, 32150, 32000, 32500]\n",
    "for i, data in enumerate(price_list):\n",
    "    print(i, data)\n",
    "\n",
    "print()\n",
    "# 참고 코드\n",
    "price_list = [32100, 32150, 32000, 32500]\n",
    "for i in enumerate(price_list):\n",
    "    print(i)"
   ]
  },
  {
   "cell_type": "code",
   "execution_count": null,
   "id": "14f07cf3-2821-47d9-bf8b-d9450352ac47",
   "metadata": {},
   "outputs": [],
   "source": [
    "# 173\n",
    "# 풀이\n",
    "price_list = [32100, 32150, 32000, 32500]\n",
    "for i in range(len(price_list)):\n",
    "    print((len(price_list) - 1) - i, price_list[i])\n",
    "# len(price_list)는 idx와 달리 0이 아닌 1부터 카운팅되기 때문에 (len-1)을 적용한다."
   ]
  },
  {
   "cell_type": "code",
   "execution_count": null,
   "id": "aa12a9ef-8b5d-4636-b144-06b1566d9400",
   "metadata": {},
   "outputs": [],
   "source": [
    "# 174\n",
    "\n",
    "price_list = [32100, 32150, 32000, 32500]\n",
    "for i in range(len(price_list)):\n",
    "    print((100 * (i/10)), price_list[i])\n",
    "\n",
    "print()\n",
    "# 풀이\n",
    "price_list = [32100, 32150, 32000, 32500]\n",
    "for i in range(1, 4):\n",
    "    print(90+10*i, price_list[i])\n",
    "\n",
    "print()\n",
    "# 추가 수정한 풀이\n",
    "price_list = [32100, 32150, 32000, 32500]\n",
    "for i in range(1, 4):\n",
    "    print(round(100*(1+(i-1)/10)), price_list[i])"
   ]
  },
  {
   "cell_type": "code",
   "execution_count": null,
   "id": "0c8f06be-c495-4a96-bd79-a8552adaace8",
   "metadata": {},
   "outputs": [],
   "source": [
    "# 175\n",
    "\n",
    "# int는 순회 가능하지 않다. (not iterable)\n",
    "my_list = ['가', '나', '다', '라']\n",
    "for i in range(1, len(my_list)):\n",
    "    print(my_list[i-1], my_list[i])\n",
    "\n",
    "print()\n",
    "# 풀이\n",
    "for i in range(len(my_list) - 1):\n",
    "    print(my_list[i], my_list[i+1])"
   ]
  },
  {
   "cell_type": "code",
   "execution_count": null,
   "id": "7bccca71-025b-4499-8bc7-eaa10fb61345",
   "metadata": {},
   "outputs": [],
   "source": [
    "# 176\n",
    "\n",
    "my_list = [\"가\", \"나\", \"다\", \"라\", \"마\"]\n",
    "\n",
    "for i in range(len(my_list) - 2):\n",
    "    print(my_list[i], my_list[i+1], my_list[i+2])"
   ]
  },
  {
   "cell_type": "code",
   "execution_count": null,
   "id": "12f73963-a429-455c-a5d1-799f919577e9",
   "metadata": {},
   "outputs": [],
   "source": [
    "# 177\n",
    "\n",
    "my_list = [\"가\", \"나\", \"다\", \"라\"]\n",
    "\n",
    "for i in range(len(my_list) - 1):\n",
    "    print(my_list[-(i+1)], my_list[-(i+2)])"
   ]
  },
  {
   "cell_type": "code",
   "execution_count": null,
   "id": "45ca7af0-7155-4a5e-b674-dd107eeaa578",
   "metadata": {},
   "outputs": [],
   "source": [
    "# 178\n",
    "\n",
    "my_list = [100, 200, 400, 800]\n",
    "\n",
    "for i in range(len(my_list)-1):\n",
    "    print(my_list[i+1] - my_list[i])\n",
    "# 절댓값 함수 abs()를 적용할 수도 있다."
   ]
  },
  {
   "cell_type": "code",
   "execution_count": null,
   "id": "04747a78-e9bb-47f0-b3f4-de71ecbe8d20",
   "metadata": {},
   "outputs": [],
   "source": [
    "# 179\n",
    "\n",
    "my_list = [100, 200, 400, 800, 1000, 1300]\n",
    "\n",
    "for i in range(len(my_list)-2):\n",
    "    print((my_list[i] + my_list[i+1] + my_list[i+2])/3)          "
   ]
  },
  {
   "cell_type": "code",
   "execution_count": null,
   "id": "cecc090d-807e-4904-864a-0a144b2104d0",
   "metadata": {},
   "outputs": [],
   "source": [
    "# 180\n",
    "\n",
    "low_prices  = [100, 200, 400, 800, 1000]\n",
    "high_prices = [150, 300, 430, 880, 1000]\n",
    "volatility = []\n",
    "for i in range(len(low_prices)):\n",
    "    volatility.append(high_prices[i] - low_prices[i])\n",
    "\n",
    "print(volatility)"
   ]
  },
  {
   "cell_type": "code",
   "execution_count": null,
   "id": "46b59c81-9c59-4f22-8b23-8f928acd1705",
   "metadata": {},
   "outputs": [],
   "source": [
    "# 181\n",
    "\n",
    "apart = [['101호', '102호'],\n",
    "         ['201호', '202호'],\n",
    "         ['301호', '302호']]"
   ]
  },
  {
   "cell_type": "code",
   "execution_count": null,
   "id": "f00bc0f1-864a-48c8-8925-b10c6c4e1166",
   "metadata": {},
   "outputs": [],
   "source": [
    "# 182\n",
    "\n",
    "stock = [['시가', 100, 200, 300],\n",
    "         ['종가', 80, 210, 330]]"
   ]
  },
  {
   "cell_type": "code",
   "execution_count": null,
   "id": "f3924528-9255-4775-bcd9-c604f975b2a0",
   "metadata": {},
   "outputs": [],
   "source": [
    "# 183\n",
    "\n",
    "stock = {'시가': [100, 200, 300],\n",
    "         '종가': [80, 210, 330]}"
   ]
  },
  {
   "cell_type": "code",
   "execution_count": null,
   "id": "8f5efa99-158c-4f6c-937a-00b3d4ec4b2a",
   "metadata": {},
   "outputs": [],
   "source": [
    "# 184\n",
    "\n",
    "stock = {'10/10': [80, 110, 70, 90],\n",
    "         '10/11': [210, 230, 190, 200]}"
   ]
  },
  {
   "cell_type": "code",
   "execution_count": null,
   "id": "c0a466e4-ae33-460d-82bc-80b9c2bc7577",
   "metadata": {},
   "outputs": [],
   "source": [
    "# 185\n",
    "\n",
    "apart = [ [101, 102], [201, 202], [301, 302] ]\n",
    "for i in range(len(apart)):\n",
    "    print(apart[i][0], '호')\n",
    "    print(apart[i][1], '호')\n",
    "\n",
    "print()\n",
    "# 풀이\n",
    "apart = [ [101, 102], [201, 202], [301, 302] ]\n",
    "for row in apart:\n",
    "    for col in row:\n",
    "        print(col, '호')"
   ]
  },
  {
   "cell_type": "code",
   "execution_count": null,
   "id": "36070b40-dc54-40d7-b884-252d36f4a419",
   "metadata": {},
   "outputs": [],
   "source": [
    "# 186\n",
    "\n",
    "apart = [ [101, 102], [201, 202], [301, 302] ]\n",
    "for row in apart[::-1]:\n",
    "    for col in row:\n",
    "        print(col, '호')"
   ]
  },
  {
   "cell_type": "code",
   "execution_count": null,
   "id": "b7b4130f-7872-4323-bc20-e687f80e25fa",
   "metadata": {},
   "outputs": [],
   "source": [
    "# 187\n",
    "\n",
    "apart = [ [101, 102], [201, 202], [301, 302] ]\n",
    "for row in apart[::-1]:\n",
    "    for col in row[::-1]:\n",
    "        print(col, '호')"
   ]
  },
  {
   "cell_type": "code",
   "execution_count": null,
   "id": "086304f6-f5d9-40ae-9dc3-2c712c7ce602",
   "metadata": {},
   "outputs": [],
   "source": [
    "# 188\n",
    "\n",
    "apart = [ [101, 102], [201, 202], [301, 302] ]\n",
    "for row in apart:\n",
    "    for col in row:\n",
    "        print(col, '호')\n",
    "        print('-----')\n",
    "\n",
    "print()\n",
    "# 풀이\n",
    "apart = [ [101, 102], [201, 202], [301, 302] ]\n",
    "for row in apart:\n",
    "    for col in row:\n",
    "        print(col, '호')\n",
    "        print('-' * 5)"
   ]
  },
  {
   "cell_type": "code",
   "execution_count": null,
   "id": "f8096625-817d-46d3-bbe6-9c0292c3c24d",
   "metadata": {},
   "outputs": [],
   "source": [
    "# 189\n",
    "\n",
    "apart = [ [101, 102], [201, 202], [301, 302] ]\n",
    "for row in apart:\n",
    "    for col in row:\n",
    "        print(col, '호')\n",
    "    print('-----')"
   ]
  },
  {
   "cell_type": "code",
   "execution_count": null,
   "id": "bf5ab584-b7f9-40e8-870c-93d4d53b3843",
   "metadata": {},
   "outputs": [],
   "source": [
    "# 190\n",
    "\n",
    "apart = [ [101, 102], [201, 202], [301, 302] ]\n",
    "for row in apart:\n",
    "    for col in row:\n",
    "        print(col, '호')\n",
    "print('-----')"
   ]
  },
  {
   "cell_type": "code",
   "execution_count": null,
   "id": "8cc43293-c36b-447b-9efb-33a78251b60e",
   "metadata": {},
   "outputs": [],
   "source": [
    "# 191\n",
    "\n",
    "data = [[ 2000,  3050,  2050,  1980],\n",
    "        [ 7500,  2050,  2050,  1980],\n",
    "        [15450, 15050, 15550, 14900]\n",
    "]\n",
    "\n",
    "for row in data:\n",
    "    for col in row:\n",
    "        print(col + (col *0.00014))\n",
    "\n",
    "print()\n",
    "# 풀이\n",
    "for row in data:\n",
    "    for col in row:\n",
    "        print(col * 1.00014)"
   ]
  },
  {
   "cell_type": "code",
   "execution_count": null,
   "id": "b73bc5c4-b898-4100-bf1d-e26a32595a2b",
   "metadata": {},
   "outputs": [],
   "source": [
    "# 192\n",
    "\n",
    "data = [[ 2000,  3050,  2050,  1980],\n",
    "        [ 7500,  2050,  2050,  1980],\n",
    "        [15450, 15050, 15550, 14900]\n",
    "]\n",
    "\n",
    "for row in data:\n",
    "    for col in row:\n",
    "        print(col * 1.00014)\n",
    "    print('-----')"
   ]
  },
  {
   "cell_type": "code",
   "execution_count": null,
   "id": "b1015019-ab12-4d83-aec3-8aac4205a856",
   "metadata": {},
   "outputs": [],
   "source": [
    "# 193\n",
    "\n",
    "data = [[ 2000,  3050,  2050,  1980],\n",
    "        [ 7500,  2050,  2050,  1980],\n",
    "        [15450, 15050, 15550, 14900]\n",
    "]\n",
    "\n",
    "result = []\n",
    "for row in data:\n",
    "    for col in row:\n",
    "        result.append(col * 1.00014)\n",
    "print(result)"
   ]
  },
  {
   "cell_type": "code",
   "execution_count": null,
   "id": "d64fe128-9129-4f86-b83d-1ce2fea93597",
   "metadata": {},
   "outputs": [],
   "source": [
    "# 194\n",
    "\n",
    "data = [[ 2000,  3050,  2050,  1980],\n",
    "        [ 7500,  2050,  2050,  1980],\n",
    "        [15450, 15050, 15550, 14900]\n",
    "]\n",
    "\n",
    "# list1 = []\n",
    "# list2 = []\n",
    "# list3 = []\n",
    "# result = []\n",
    "# for row in data:\n",
    "#     for col in row:\n",
    "#         list1.append(col * 1.00014)\n",
    "#         if list1[3] == 1980:\n",
    "#             list2.append(col * 1.00014)\n",
    "#             if list2[3] == 1980:\n",
    "#                 list3.append(col * 1.00014)\n",
    "#     print(result.append(list1, list2, list3))\n",
    "\n",
    "print()\n",
    "#풀이\n",
    "data = [[ 2000,  3050,  2050,  1980],\n",
    "        [ 7500,  2050,  2050,  1980],\n",
    "        [15450, 15050, 15550, 14900]\n",
    "]\n",
    "result = []\n",
    "for row in data:\n",
    "    sub = []\n",
    "    for col in row:\n",
    "        sub.append(col * 1.00014)\n",
    "    result.append(sub)\n",
    "print(result)"
   ]
  },
  {
   "cell_type": "code",
   "execution_count": null,
   "id": "b8961343-32ea-4cfa-999b-bbb25ca3b2f7",
   "metadata": {},
   "outputs": [],
   "source": [
    "# 195\n",
    "\n",
    "ohlc = [[\"open\", \"high\", \"low\", \"close\"],\n",
    "        [100, 110, 70, 100],\n",
    "        [200, 210, 180, 190],\n",
    "        [300, 310, 300, 310]]\n",
    "# ohlc[1][3], ohlc[2][3], ohlc[3][3]\n",
    "\n",
    "for row in ohlc[1:]:\n",
    "    print(row[3])"
   ]
  },
  {
   "cell_type": "code",
   "execution_count": null,
   "id": "9783c126-c72e-4741-9228-4e33c333211f",
   "metadata": {},
   "outputs": [],
   "source": [
    "# 196\n",
    "\n",
    "ohlc = [[\"open\", \"high\", \"low\", \"close\"],\n",
    "        [100, 110, 70, 100],\n",
    "        [200, 210, 180, 190],\n",
    "        [300, 310, 300, 310]]\n",
    "\n",
    "for row in ohlc[1:]:\n",
    "    if row[3] > 150:\n",
    "        print(row[3])"
   ]
  },
  {
   "cell_type": "code",
   "execution_count": null,
   "id": "79127557-32a2-4e84-b8a1-5e4936e40579",
   "metadata": {},
   "outputs": [],
   "source": [
    "# 197\n",
    "\n",
    "ohlc = [[\"open\", \"high\", \"low\", \"close\"],\n",
    "        [100, 110, 70, 100],\n",
    "        [200, 210, 180, 190],\n",
    "        [300, 310, 300, 310]]\n",
    "\n",
    "for row in ohlc[1:]:\n",
    "    if row[3] >= row[0]:\n",
    "        print(row[3])"
   ]
  },
  {
   "cell_type": "code",
   "execution_count": null,
   "id": "e9033220-23ea-40fe-b808-86010d0a204a",
   "metadata": {},
   "outputs": [],
   "source": [
    "# 198\n",
    "\n",
    "ohlc = [[\"open\", \"high\", \"low\", \"close\"],\n",
    "        [100, 110, 70, 100],\n",
    "        [200, 210, 180, 190],\n",
    "        [300, 310, 300, 310]]\n",
    "\n",
    "volatility = []\n",
    "for row in ohlc[1:]:\n",
    "    result = row[1] - row[2]\n",
    "    volatility.append(result)\n",
    "print(volatility)\n",
    "\n",
    "print()\n",
    "# 풀이\n",
    "volatility = []\n",
    "for i in range(1, len(ohlc)):\n",
    "    volatility.append(ohlc[i][1] - ohlc[i][2])\n",
    "print(volatility)"
   ]
  },
  {
   "cell_type": "code",
   "execution_count": null,
   "id": "5d50b1e3-18cf-49c4-97fb-5ada23e9cd66",
   "metadata": {},
   "outputs": [],
   "source": [
    "# 199\n",
    "\n",
    "ohlc = [[\"open\", \"high\", \"low\", \"close\"],\n",
    "        [100, 110, 70, 100],\n",
    "        [200, 210, 180, 190],\n",
    "        [300, 310, 300, 310]]\n",
    "for row in ohlc[1:]:\n",
    "    if row[3] > row[0]:\n",
    "        volatility = row[1] - row[2]\n",
    "        print(volatility)"
   ]
  },
  {
   "cell_type": "code",
   "execution_count": null,
   "id": "82916c1f-5b9e-4cb4-ad53-c935c5cd2c8b",
   "metadata": {},
   "outputs": [],
   "source": [
    "# 200\n",
    "\n",
    "ohlc = [[\"open\", \"high\", \"low\", \"close\"],\n",
    "        [100, 110, 70, 100],\n",
    "        [200, 210, 180, 190],\n",
    "        [300, 310, 300, 310]]\n",
    "\n",
    "rev = 0\n",
    "for row in ohlc[1:]:\n",
    "    rev += row[3] - row[0]\n",
    "print(rev)"
   ]
  },
  {
   "cell_type": "code",
   "execution_count": null,
   "id": "7af695d4-6c2a-4c85-8895-42fd15a1b637",
   "metadata": {},
   "outputs": [],
   "source": [
    "# 201\n",
    "\n",
    "print_coin = \"비트코인\"\n",
    "print(print_coin)\n",
    "\n",
    "#풀이 (\"정의하라\" ~> def 사용)\n",
    "def print_coin():\n",
    "    print(\"비트코인\")"
   ]
  },
  {
   "cell_type": "code",
   "execution_count": null,
   "id": "07611c5c-9140-417f-b94a-682362090dc3",
   "metadata": {},
   "outputs": [],
   "source": [
    "# 202\n",
    "\n",
    "print_coin()\n",
    "# 정의(def)된 함수를 호출할 때는 괄호를 붙여준다."
   ]
  },
  {
   "cell_type": "code",
   "execution_count": null,
   "id": "3d0a0245-d69f-4e96-bdb0-ccdcff9ea59f",
   "metadata": {},
   "outputs": [],
   "source": [
    "# 203\n",
    "\n",
    "type(print_coin())\n",
    "# print_coin() * 100 => error\n",
    "print()\n",
    "# 풀이\n",
    "for i in range(100):\n",
    "    print_coin()"
   ]
  },
  {
   "cell_type": "code",
   "execution_count": null,
   "id": "577686cb-b8ae-439c-9fcd-18979d7c3085",
   "metadata": {},
   "outputs": [],
   "source": [
    "# 204\n",
    "\n",
    "def print_coins():\n",
    "    print(print_coin() * 100)\n",
    "\n",
    "print()\n",
    "# 풀이\n",
    "def print_coins():\n",
    "    for i in range(100):\n",
    "        print(\"비트코인\")"
   ]
  },
  {
   "cell_type": "code",
   "execution_count": null,
   "id": "3567f5ad-24d9-4cdd-9927-e5ca7d7df50e",
   "metadata": {},
   "outputs": [],
   "source": [
    "# 205\n",
    "\n",
    "hello()\n",
    "def hello():\n",
    "    print('Hi')\n",
    "# error 이유 = hello() 함수가 정의되지 않은 상태에서 미리 호출했기 때문\n",
    "# error message = name 'hello' is not defined"
   ]
  },
  {
   "cell_type": "code",
   "execution_count": null,
   "id": "c0467714-e148-462b-9446-a28b776f9813",
   "metadata": {},
   "outputs": [],
   "source": [
    "# 206\n",
    "\n",
    "def message():\n",
    "    print('A')\n",
    "    print('B')\n",
    "\n",
    "message()\n",
    "print('C')\n",
    "message()\n",
    "# 실행결과 예측\n",
    "# A\n",
    "# B\n",
    "# C\n",
    "# A\n",
    "# B"
   ]
  },
  {
   "cell_type": "code",
   "execution_count": null,
   "id": "f243b751-68e3-4145-8a28-006f407d609c",
   "metadata": {},
   "outputs": [],
   "source": [
    "# 207\n",
    "\n",
    "print('A')\n",
    "\n",
    "def message():\n",
    "    print('B')\n",
    "\n",
    "print('C')\n",
    "message()\n",
    "# 실행결과 예측\n",
    "# A\n",
    "# C\n",
    "# B"
   ]
  },
  {
   "cell_type": "code",
   "execution_count": null,
   "id": "619c46be-cce1-4679-a3b5-2f43b9f7d1d1",
   "metadata": {},
   "outputs": [],
   "source": [
    "# 208\n",
    "\n",
    "print('A')\n",
    "def message1():\n",
    "    print('B')\n",
    "print('C')\n",
    "def message2():\n",
    "    print('D')\n",
    "message1()\n",
    "print('E')\n",
    "message2()\n",
    "\n",
    "# 실행결과 예측\n",
    "# A\n",
    "# C\n",
    "# B\n",
    "# E\n",
    "# D"
   ]
  },
  {
   "cell_type": "code",
   "execution_count": null,
   "id": "fc019d77-83cc-4754-bdcd-f0ed8f034f94",
   "metadata": {},
   "outputs": [],
   "source": [
    "# 209\n",
    "\n",
    "def message1():\n",
    "    print('A')\n",
    "\n",
    "def message2():\n",
    "    print('B')\n",
    "    message1()\n",
    "\n",
    "message2()\n",
    "\n",
    "# 실행결과 예측\n",
    "# B\n",
    "# A"
   ]
  },
  {
   "cell_type": "code",
   "execution_count": null,
   "id": "3e2e6204-40a3-4e12-9c68-987ce86e191c",
   "metadata": {},
   "outputs": [],
   "source": [
    "# 210\n",
    "\n",
    "def message1():\n",
    "    print('A')\n",
    "\n",
    "def message2():\n",
    "    print('B')\n",
    "\n",
    "def message3():\n",
    "    for i in range(3):\n",
    "        message2()\n",
    "        print('C')\n",
    "    message1()\n",
    "\n",
    "message3()\n",
    "\n",
    "# 실행결과 예측\n",
    "# B\n",
    "# C\n",
    "# B\n",
    "# C\n",
    "# B\n",
    "# C\n",
    "# A"
   ]
  },
  {
   "cell_type": "code",
   "execution_count": null,
   "id": "09583463-bebd-4a79-bf71-833b92eb4dde",
   "metadata": {},
   "outputs": [],
   "source": [
    "# 211\n",
    "\n",
    "def 함수(인사) :\n",
    "    print(인사)\n",
    "\n",
    "함수(\"안녕\")\n",
    "함수(\"Hi\")"
   ]
  },
  {
   "cell_type": "code",
   "execution_count": null,
   "id": "46a77aaf-3d60-46be-b195-422fcb976f26",
   "metadata": {},
   "outputs": [],
   "source": [
    "# 212\n",
    "\n",
    "def 함수(a, b):\n",
    "    print(a + b)\n",
    "\n",
    "함수(3, 4)\n",
    "함수(7, 8)\n",
    "\n",
    "# 호출결과 예측\n",
    "# 7\n",
    "# 15"
   ]
  },
  {
   "cell_type": "code",
   "execution_count": null,
   "id": "5f1894a8-e82b-4fd3-832b-ca2e4412718b",
   "metadata": {},
   "outputs": [],
   "source": [
    "# 213\n",
    "\n",
    "def 함수(문자열):\n",
    "    print(문자열)\n",
    "\n",
    "함수()\n",
    "# error 이유 = 인자 1개를 가져야 하는데 비어있기 때문\n",
    "# error 이유 (풀이) = 함수 정의와 다르게 함수를 호출하고 있다. 함수를 호출할 때 하나의 파라미터(매개변수)를 입력해야 한다.\n",
    "# error message = 함수() missing 1 required positional argument: '문자열'"
   ]
  },
  {
   "cell_type": "code",
   "execution_count": null,
   "id": "fdce3049-705f-48a1-ba53-089e85984959",
   "metadata": {},
   "outputs": [],
   "source": [
    "# 214\n",
    "\n",
    "def 함수(a, b):\n",
    "    print(a + b)\n",
    "\n",
    "함수('안녕', 3)\n",
    "\n",
    "# error 이유 = 연산이 불가능한 문자(str)와 숫자(int) 조합이기 때문\n",
    "# error 이유 (풀이) = 정의된 함수는 같은 타입의 두 개의 값을 입력 받아 덧셈 연산을 적용 목적\n",
    "# error message = can only concatenate str (not 'int') to str"
   ]
  },
  {
   "cell_type": "code",
   "execution_count": null,
   "id": "2b1260b1-935f-4982-b8e1-0b46c142fbb6",
   "metadata": {},
   "outputs": [],
   "source": [
    "# 215\n",
    "\n",
    "def print_with_smile(문자열):\n",
    "    print(문자열 + ':D')\n",
    "\n",
    "print_with_smile('문자열')\n",
    "\n",
    "print()\n",
    "# 풀이\n",
    "def print_with_smile(string):\n",
    "    print(string + ':D')"
   ]
  },
  {
   "cell_type": "code",
   "execution_count": null,
   "id": "d3f0989a-6b5e-492f-a7d5-bd5706a9b102",
   "metadata": {},
   "outputs": [],
   "source": [
    "# 216\n",
    "\n",
    "print_with_smile('안녕하세요')"
   ]
  },
  {
   "cell_type": "code",
   "execution_count": null,
   "id": "32519158-f9b4-457f-9ad6-c6ab0526f427",
   "metadata": {},
   "outputs": [],
   "source": [
    "# 217\n",
    "\n",
    "def print_upper_price(int):\n",
    "    print(int * 1.3)"
   ]
  },
  {
   "cell_type": "code",
   "execution_count": null,
   "id": "5f64cb40-96df-4355-9047-7e71f3965a94",
   "metadata": {},
   "outputs": [],
   "source": [
    "# 218\n",
    "\n",
    "def print_sum(a, b):\n",
    "    print(a + b)"
   ]
  },
  {
   "cell_type": "code",
   "execution_count": null,
   "id": "c0bc4538-44b4-45b0-80b7-539ee1953a2a",
   "metadata": {},
   "outputs": [],
   "source": [
    "# 219\n",
    "\n",
    "def print_arithmetic_operation(a, b):\n",
    "    print(a+b, a-b, a*b, a/b)\n",
    "print_arithmetic_operation(3, 4)\n",
    "\n",
    "print()\n",
    "# 풀이\n",
    "def print_arithmetic_operation(a, b):\n",
    "    print(a, '+', b, '=', a+b)\n",
    "    print(a, '-', b, '=', a-b)\n",
    "    print(a, '*', b, '=', a*b)\n",
    "    print(a, '/', b, '=', a/b)\n",
    "print_arithmetic_operation(3, 4)"
   ]
  },
  {
   "cell_type": "code",
   "execution_count": null,
   "id": "e21d4472-32cd-4a21-9476-62c71765adca",
   "metadata": {},
   "outputs": [],
   "source": [
    "# 220\n",
    "\n",
    "def print_max(a, b, c):\n",
    "    if a >= (b and c):\n",
    "        print(a)\n",
    "    elif b >= (a and c):\n",
    "        print(b)\n",
    "    elif c >= (a and b):\n",
    "        print(c)\n",
    "print_max(9, 4, 123)\n",
    "\n",
    "print()\n",
    "# 풀이\n",
    "def print_max2(a, b, c):\n",
    "    max_val = 0\n",
    "    if a > max_val:\n",
    "        max_val = a\n",
    "    if b > max_val:\n",
    "        max_val = b\n",
    "    if c > max_val:\n",
    "        max_val = c\n",
    "    print(max_val)\n",
    "print_max2(5, 8, 1)"
   ]
  },
  {
   "cell_type": "code",
   "execution_count": null,
   "id": "faba7a7f-fe55-4844-9008-2cac8b44712f",
   "metadata": {},
   "outputs": [],
   "source": [
    "# 221\n",
    "\n",
    "def print_reverse(문자열):\n",
    "    answer = ''\n",
    "    for char in 문자열:\n",
    "        answer += 문자열[::-1]\n",
    "    print(answer)\n",
    "print_reverse('python')\n",
    "\n",
    "print()\n",
    "# 풀이\n",
    "def print_reverse2(string):\n",
    "    print(string[::-1])\n",
    "print_reverse2('python')"
   ]
  },
  {
   "cell_type": "code",
   "execution_count": null,
   "id": "79501773-ee94-4592-9cc7-dc7a9e598314",
   "metadata": {},
   "outputs": [],
   "source": [
    "# 222\n",
    "\n",
    "# def print_score([a, b, c]):\n",
    "#     print((a+b+c) / 3)\n",
    "# print_score([47, 89, 91])\n",
    "\n",
    "# 풀이\n",
    "def print_score(score_list):\n",
    "    print(sum(score_list)/len(score_list))\n",
    "score_list = [79, 98, 65]\n",
    "print_score(score_list)"
   ]
  },
  {
   "cell_type": "code",
   "execution_count": null,
   "id": "30673b5e-36b1-466b-a7ff-d1121a99a116",
   "metadata": {},
   "outputs": [],
   "source": [
    "# 223\n",
    "\n",
    "def print_even(list):\n",
    "    for num in list:\n",
    "        if num % 2 == 0:\n",
    "            print(num)\n",
    "print_even ([1, 3, 2, 10, 12, 11, 15])"
   ]
  },
  {
   "cell_type": "code",
   "execution_count": null,
   "id": "0b2992fd-6c0a-4242-bab0-2c3a9a0f9dbd",
   "metadata": {},
   "outputs": [],
   "source": [
    "# 224\n",
    "\n",
    "def print_keys(my_dict):\n",
    "    print(my_dict.keys())\n",
    "print_keys ({\"이름\":\"김말똥\", \"나이\":30, \"성별\":0})\n",
    "\n",
    "print()\n",
    "# 풀이\n",
    "def print_keys2(dic):\n",
    "    for keys in dic.keys():\n",
    "        print(keys)\n",
    "print_keys2({\"이름\":\"김말똥\", \"나이\":30, \"성별\":0})"
   ]
  },
  {
   "cell_type": "code",
   "execution_count": null,
   "id": "7aba6749-1fe6-4ad5-b440-848256078edb",
   "metadata": {},
   "outputs": [],
   "source": [
    "# 225\n",
    "\n",
    "my_dict = {\"10/26\" : [100, 130, 100, 100],\n",
    "           \"10/27\" : [10, 12, 10, 11]}\n",
    "\n",
    "def print_value_by_key(my_dict, date):\n",
    "    if date in my_dict.keys():\n",
    "        print(my_dict[date])\n",
    "print_value_by_key(my_dict, \"10/26\")\n",
    "\n",
    "print()\n",
    "# 풀이\n",
    "def print_value_by_key2(my_dict, date):\n",
    "    print(my_dict[date])\n",
    "print_value_by_key2(my_dict, \"10/26\")"
   ]
  },
  {
   "cell_type": "code",
   "execution_count": null,
   "id": "d6837648-cc3b-4966-b370-d8af2d858e0e",
   "metadata": {},
   "outputs": [],
   "source": [
    "# 226\n",
    "\n",
    "def print_5xn(string):\n",
    "    if len(string) >= 5:\n",
    "        print(string[:5])\n",
    "        print(string[5:])\n",
    "    else:\n",
    "        print(string)\n",
    "print_5xn('아이엠어보이유알어걸')\n",
    "\n",
    "print()\n",
    "# 풀이\n",
    "def print_5xn2(line):\n",
    "    chunk_num = int(len(line) / 5)\n",
    "    for x in range(chunk_num + 1) :\n",
    "        print(line[x * 5: x * 5 + 5])\n",
    "print_5xn2(\"아이엠어보이유알어걸\")"
   ]
  },
  {
   "cell_type": "code",
   "execution_count": null,
   "id": "b28d9a12-732f-4cd0-b9de-9050b155a6ac",
   "metadata": {},
   "outputs": [],
   "source": [
    "# 227\n",
    "\n",
    "def printmxn(문자열, a):\n",
    "    num = int(len(문자열) / a)\n",
    "    for i in range(num + 1):\n",
    "        print(문자열[(i*a):(i*a+a)])\n",
    "printmxn('아이엠어보이유알어걸', 3)\n",
    "# 문자열의 길이와 a를 나누면 경우에 따라 float가 될 수 있기 때문에 꼭 int로 변환 필요.\n",
    "# int와 float는 통합 계산이 불가능하다."
   ]
  },
  {
   "cell_type": "code",
   "execution_count": null,
   "id": "ad7813c9-82e2-4ea1-b689-bd2377b69cfb",
   "metadata": {},
   "outputs": [],
   "source": [
    "# 228\n",
    "\n",
    "def calc_monthly_salary(annual_salary):\n",
    "    print(round(annual_salary / 12))\n",
    "\n",
    "print()\n",
    "# 풀이\n",
    "# 1원 미만을 절사하려면 int로 형변환하는게 좋다.\n",
    "def calc_monthly_salary2(annual_salary):\n",
    "    monthly_pay = int(annual_salary / 12)\n",
    "    return monthly_pay\n",
    "\n",
    "calc_monthly_salary(12000000)\n",
    "calc_monthly_salary2(12000000)"
   ]
  },
  {
   "cell_type": "code",
   "execution_count": null,
   "id": "a54e1c85-66c8-4924-8ddf-e76b44225771",
   "metadata": {},
   "outputs": [],
   "source": [
    "# 229\n",
    "\n",
    "def my_print(a, b):\n",
    "    print('왼쪽:', a)\n",
    "    print('오른쪽:', b)\n",
    "\n",
    "my_print(a=100, b=200)\n",
    "\n",
    "# 실행결과 예측\n",
    "# 왼쪽: 100\n",
    "# 오른쪽: 200"
   ]
  },
  {
   "cell_type": "code",
   "execution_count": null,
   "id": "9c01119c-be87-4db5-8184-cc70bcf4042c",
   "metadata": {},
   "outputs": [],
   "source": [
    "# 230\n",
    "\n",
    "def my_print(a, b):\n",
    "    print('왼쪽:', a)\n",
    "    print('오른쪽:', b)\n",
    "\n",
    "my_print(b=100, a=200)\n",
    "\n",
    "# 실행결과 예측\n",
    "# 왼쪽: 100\n",
    "# 오른쪽: 200\n",
    "\n",
    "# 파라미터, 즉 변수의 이름을 명시적으로 적어준 경우에는 순서에 상관없이 a=200, b=100이 넘어간다."
   ]
  },
  {
   "cell_type": "code",
   "execution_count": null,
   "id": "4a0c5838-0bf5-46c0-9f94-5361e19a2ea8",
   "metadata": {},
   "outputs": [],
   "source": [
    "# 231\n",
    "\n",
    "def n_plus_1(n):\n",
    "    result = n + 1\n",
    "\n",
    "n_plus_1(3)\n",
    "print(result)\n",
    "\n",
    "# 실행결과 예측\n",
    "# 정의된 함수의 return 값이 없어서 n_plus_1() 함수는 실행되지 않으며, result는 정의되지 않음.\n",
    "# 함수 내부에서 사용한 변수는 함수 밖에서는 접근이 불가능하기 때문에 정의되지 않았다."
   ]
  },
  {
   "cell_type": "code",
   "execution_count": null,
   "id": "77f951dc-237f-48d5-9e67-f9e6e107eba3",
   "metadata": {},
   "outputs": [],
   "source": [
    "# 232\n",
    "\n",
    "def make_url(url):\n",
    "    print('www.'+url+'.com')\n",
    "make_url('naver')\n",
    "\n",
    "print()\n",
    "# 풀이\n",
    "def make_url2(string):\n",
    "    return 'www.' + string + '.com'\n",
    "make_url2('naver')"
   ]
  },
  {
   "cell_type": "code",
   "execution_count": null,
   "id": "ed85a992-d2c3-422e-a48e-36101da46329",
   "metadata": {},
   "outputs": [],
   "source": [
    "# 233\n",
    "\n",
    "def make_list(string):\n",
    "    answer = []\n",
    "    result = answer.append(string)\n",
    "    return result\n",
    "make_list('abcd')\n",
    "\n",
    "print()\n",
    "# 풀이\n",
    "def make_list2(string):\n",
    "    my_list = []\n",
    "    for i in string:\n",
    "        my_list.append(i)\n",
    "    return my_list\n",
    "make_list2('abcd')\n",
    "\n",
    "print()\n",
    "# 또다른 풀이\n",
    "def make_list3(string):\n",
    "    return list(string)\n",
    "make_list3('abcd')\n",
    "\n",
    "# 변수 하나씩 따로 리스트에 추가하고 싶다면 for문을 사용한다.\n",
    "# 혹은 list 형변환을 사용하면 훨씬 빠르게 문제 해결 가능하다."
   ]
  },
  {
   "cell_type": "code",
   "execution_count": 9,
   "id": "d31cd81e-9952-42a9-896c-4f857a0eb6fd",
   "metadata": {},
   "outputs": [
    {
     "name": "stdout",
     "output_type": "stream",
     "text": [
      "\n"
     ]
    },
    {
     "data": {
      "text/plain": [
       "[4, 6, 8]"
      ]
     },
     "execution_count": 9,
     "metadata": {},
     "output_type": "execute_result"
    }
   ],
   "source": [
    "# 234\n",
    "# 풀이 참고하여 수정\n",
    "def pickup_even(list):\n",
    "    my_list = []\n",
    "    for num in list:\n",
    "        if num % 2 == 0:\n",
    "            my_list.append(num)\n",
    "    return my_list\n",
    "pickup_even([3, 4, 5, 6, 7, 8])\n",
    "\n",
    "print()\n",
    "# 풀이\n",
    "def pickup_even2(items):\n",
    "    result = []\n",
    "    for item in items:\n",
    "        if item % 2 == 0:\n",
    "            result.append(item)\n",
    "    return result\n",
    "pickup_even2([3, 4, 5, 6, 7, 8])"
   ]
  },
  {
   "cell_type": "code",
   "execution_count": 15,
   "id": "b0e16e22-55a6-4cbc-850f-ef047c0e68bd",
   "metadata": {},
   "outputs": [
    {
     "data": {
      "text/plain": [
       "1234567"
      ]
     },
     "execution_count": 15,
     "metadata": {},
     "output_type": "execute_result"
    }
   ],
   "source": [
    "# 235\n",
    "\n",
    "def convert_int(number):\n",
    "    return number.replace(',', '')\n",
    "convert_int('1,234,567')\n",
    "\n",
    "print()\n",
    "# 풀이\n",
    "def convert_int2(number):\n",
    "    return int(number.replace(',', ''))\n",
    "convert_int2('1,234,567')\n",
    "\n",
    "# 풀이 차이점: 1번은 형변환 없이 문자열로 출력하였고, 2번은 형변환 통해 숫자로 출력"
   ]
  },
  {
   "cell_type": "code",
   "execution_count": 16,
   "id": "a25fe367-67d1-4737-bfea-c4afc77c449b",
   "metadata": {},
   "outputs": [
    {
     "name": "stdout",
     "output_type": "stream",
     "text": [
      "22\n"
     ]
    }
   ],
   "source": [
    "# 236\n",
    "\n",
    "def 함수(num):\n",
    "    return num + 4\n",
    "\n",
    "a = 함수(10)\n",
    "b = 함수(a)\n",
    "c = 함수(b)\n",
    "print(c)\n",
    "\n",
    "# 실행결과 예측\n",
    "# a = 14\n",
    "# b = 18\n",
    "# c = 22\n",
    "# 22"
   ]
  },
  {
   "cell_type": "code",
   "execution_count": null,
   "id": "4b36bed6-ae74-4a38-8834-70b00f2af0dc",
   "metadata": {},
   "outputs": [],
   "source": [
    "# 237\n",
    "\n",
    "def 함수(num):\n",
    "    return num + 4\n",
    "c = 함수(함수(함수(10)))\n",
    "print(c)\n",
    "\n",
    "# 실행결과 예측\n",
    "# 22"
   ]
  },
  {
   "cell_type": "code",
   "execution_count": null,
   "id": "17add78b-a0af-4d44-96ac-b32a5b522269",
   "metadata": {},
   "outputs": [],
   "source": [
    "# 238\n",
    "\n",
    "def 함수1(num):\n",
    "    return num + 4\n",
    "\n",
    "def 함수2(num):\n",
    "    return num * 10\n",
    "\n",
    "a = 함수1(10)\n",
    "c = 함수2(a)\n",
    "print(c)\n",
    "\n",
    "# 실행결과 예측\n",
    "# a = 14\n",
    "# c = 140\n",
    "# 140"
   ]
  },
  {
   "cell_type": "code",
   "execution_count": 19,
   "id": "06ef5712-ea9d-4379-8862-0d386a6678a0",
   "metadata": {},
   "outputs": [
    {
     "name": "stdout",
     "output_type": "stream",
     "text": [
      "16\n"
     ]
    }
   ],
   "source": [
    "# 239\n",
    "\n",
    "def 함수1(num):\n",
    "    return num + 4\n",
    "\n",
    "def 함수2(num):\n",
    "    num = num + 2\n",
    "    return 함수1(num)\n",
    "\n",
    "c = 함수2(10)\n",
    "print(c)\n",
    "\n",
    "# 실행결과 예측\n",
    "# 16"
   ]
  },
  {
   "cell_type": "code",
   "execution_count": 18,
   "id": "03eb1de2-d29b-48fc-aeda-39745a19187b",
   "metadata": {},
   "outputs": [
    {
     "name": "stdout",
     "output_type": "stream",
     "text": [
      "28\n"
     ]
    }
   ],
   "source": [
    "# 240\n",
    "\n",
    "def 함수0(num):\n",
    "    return num * 2\n",
    "\n",
    "def 함수1(num):\n",
    "    return 함수0(num + 2)\n",
    "\n",
    "def 함수2(num):\n",
    "    num = num + 10\n",
    "    return 함수1(num)\n",
    "\n",
    "c = 함수2(2)\n",
    "print(c)\n",
    "\n",
    "# 실행결과 예측\n",
    "# 28"
   ]
  },
  {
   "cell_type": "code",
   "execution_count": null,
   "id": "bfd7217c-7d7e-4707-b13c-d31cec7d827a",
   "metadata": {},
   "outputs": [],
   "source": []
  },
  {
   "cell_type": "code",
   "execution_count": null,
   "id": "92b62d99-9dcd-4554-b833-33291a3ac998",
   "metadata": {},
   "outputs": [],
   "source": []
  },
  {
   "cell_type": "code",
   "execution_count": null,
   "id": "bf33de11-fb1e-48f2-8cc5-492c17bfc239",
   "metadata": {},
   "outputs": [],
   "source": []
  },
  {
   "cell_type": "code",
   "execution_count": null,
   "id": "8e4e2d50-ae6f-44f1-8ed4-bba1407fbb4e",
   "metadata": {},
   "outputs": [],
   "source": []
  },
  {
   "cell_type": "code",
   "execution_count": null,
   "id": "59e48ce4-e12f-4da3-96cc-2fb0f402d521",
   "metadata": {},
   "outputs": [],
   "source": []
  },
  {
   "cell_type": "code",
   "execution_count": null,
   "id": "b0d17164-7f39-4838-bf19-f815b17d63af",
   "metadata": {},
   "outputs": [],
   "source": []
  },
  {
   "cell_type": "code",
   "execution_count": null,
   "id": "c5546d5b-eb43-4c59-90a9-5faceb111f01",
   "metadata": {},
   "outputs": [],
   "source": []
  },
  {
   "cell_type": "code",
   "execution_count": null,
   "id": "2c6c48c9-77be-4000-a6b3-422e9e8b543d",
   "metadata": {},
   "outputs": [],
   "source": []
  },
  {
   "cell_type": "code",
   "execution_count": null,
   "id": "44e1a728-6add-42ff-8c94-2e17bc01fdec",
   "metadata": {},
   "outputs": [],
   "source": []
  },
  {
   "cell_type": "code",
   "execution_count": null,
   "id": "c45c94e9-21f0-4d8d-8b4b-a4e5f6bc6e7b",
   "metadata": {},
   "outputs": [],
   "source": []
  },
  {
   "cell_type": "code",
   "execution_count": null,
   "id": "45cd86bf-13e4-4fd7-a9f6-ace0209aad40",
   "metadata": {},
   "outputs": [],
   "source": []
  },
  {
   "cell_type": "code",
   "execution_count": null,
   "id": "3543513d-98e6-42dd-94ec-b06b12ffd2ee",
   "metadata": {},
   "outputs": [],
   "source": []
  },
  {
   "cell_type": "code",
   "execution_count": null,
   "id": "273caccd-c459-4624-badf-f2fe03cfe444",
   "metadata": {},
   "outputs": [],
   "source": []
  },
  {
   "cell_type": "code",
   "execution_count": null,
   "id": "f4c8f965-7a00-4901-8e3c-73d509e2ced5",
   "metadata": {},
   "outputs": [],
   "source": []
  },
  {
   "cell_type": "code",
   "execution_count": null,
   "id": "c98f9f10-1b69-4a53-af8a-b67e0d921252",
   "metadata": {},
   "outputs": [],
   "source": []
  },
  {
   "cell_type": "code",
   "execution_count": null,
   "id": "78ddeb2c-2bea-4e0c-bf6a-c66ad2c02bac",
   "metadata": {},
   "outputs": [],
   "source": []
  },
  {
   "cell_type": "code",
   "execution_count": null,
   "id": "721f5186-0e01-4891-861f-78165286b7ec",
   "metadata": {},
   "outputs": [],
   "source": []
  },
  {
   "cell_type": "code",
   "execution_count": null,
   "id": "688a818a-20e6-49f2-8114-e7c345b9e0f4",
   "metadata": {},
   "outputs": [],
   "source": []
  },
  {
   "cell_type": "code",
   "execution_count": null,
   "id": "0bf011ca-7570-41ba-8edf-93f0e44d7778",
   "metadata": {},
   "outputs": [],
   "source": []
  },
  {
   "cell_type": "code",
   "execution_count": null,
   "id": "8fd6ef41-435d-49fa-910d-09358cdbff38",
   "metadata": {},
   "outputs": [],
   "source": []
  },
  {
   "cell_type": "code",
   "execution_count": null,
   "id": "afbb5163-a32e-4f38-940a-4a6dd44123cf",
   "metadata": {},
   "outputs": [],
   "source": []
  },
  {
   "cell_type": "code",
   "execution_count": null,
   "id": "9b444a61-5a68-4ec6-81a2-b899d0cfa031",
   "metadata": {},
   "outputs": [],
   "source": []
  },
  {
   "cell_type": "code",
   "execution_count": null,
   "id": "69971bb0-9cfb-467f-9140-d027839f3ed1",
   "metadata": {},
   "outputs": [],
   "source": []
  },
  {
   "cell_type": "code",
   "execution_count": null,
   "id": "b04e0ad8-341e-4ece-9bb0-488ab869526a",
   "metadata": {},
   "outputs": [],
   "source": []
  },
  {
   "cell_type": "code",
   "execution_count": null,
   "id": "d26e74a8-2225-401e-896e-f3bfe87a5aa2",
   "metadata": {},
   "outputs": [],
   "source": []
  },
  {
   "cell_type": "code",
   "execution_count": null,
   "id": "13c6173a-9415-422a-a895-7572b895dd37",
   "metadata": {},
   "outputs": [],
   "source": []
  },
  {
   "cell_type": "code",
   "execution_count": null,
   "id": "3f113efd-cdc2-438d-a936-e57574a917bb",
   "metadata": {},
   "outputs": [],
   "source": []
  }
 ],
 "metadata": {
  "kernelspec": {
   "display_name": "Python 3 (ipykernel)",
   "language": "python",
   "name": "python3"
  },
  "language_info": {
   "codemirror_mode": {
    "name": "ipython",
    "version": 3
   },
   "file_extension": ".py",
   "mimetype": "text/x-python",
   "name": "python",
   "nbconvert_exporter": "python",
   "pygments_lexer": "ipython3",
   "version": "3.11.6"
  }
 },
 "nbformat": 4,
 "nbformat_minor": 5
}
